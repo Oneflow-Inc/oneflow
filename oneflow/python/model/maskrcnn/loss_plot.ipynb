{
 "cells": [
  {
   "cell_type": "code",
   "execution_count": 29,
   "metadata": {},
   "outputs": [
    {
     "data": {
      "application/vnd.vegalite.v3+json": {
       "$schema": "https://vega.github.io/schema/vega-lite/v3.4.0.json",
       "config": {
        "mark": {
         "tooltip": null
        },
        "view": {
         "height": 300,
         "width": 400
        }
       },
       "data": {
        "name": "data-e57c0e60420e2602e365be776b3ba4ec"
       },
       "datasets": {
        "data-e57c0e60420e2602e365be776b3ba4ec": [
         {
          "iter": 0,
          "loss_rpn_box_reg": 0.048
         },
         {
          "iter": 100,
          "loss_rpn_box_reg": 0.0921
         },
         {
          "iter": 200,
          "loss_rpn_box_reg": 0.103
         },
         {
          "iter": 300,
          "loss_rpn_box_reg": 0.14
         },
         {
          "iter": 400,
          "loss_rpn_box_reg": 0.0422
         },
         {
          "iter": 500,
          "loss_rpn_box_reg": 0.1852
         },
         {
          "iter": 600,
          "loss_rpn_box_reg": 0.0835
         },
         {
          "iter": 700,
          "loss_rpn_box_reg": 0.0871
         },
         {
          "iter": 800,
          "loss_rpn_box_reg": 0.0766
         },
         {
          "iter": 900,
          "loss_rpn_box_reg": 0.075
         },
         {
          "iter": 1000,
          "loss_rpn_box_reg": 0.0343
         },
         {
          "iter": 1100,
          "loss_rpn_box_reg": 0.0421
         },
         {
          "iter": 1200,
          "loss_rpn_box_reg": 0.0348
         },
         {
          "iter": 1300,
          "loss_rpn_box_reg": 0.0792
         },
         {
          "iter": 1400,
          "loss_rpn_box_reg": 0.1587
         },
         {
          "iter": 1500,
          "loss_rpn_box_reg": 0.0956
         },
         {
          "iter": 1600,
          "loss_rpn_box_reg": 0.103
         },
         {
          "iter": 1700,
          "loss_rpn_box_reg": 0.0903
         },
         {
          "iter": 1800,
          "loss_rpn_box_reg": 0.08
         },
         {
          "iter": 1900,
          "loss_rpn_box_reg": 0.0338
         },
         {
          "iter": 2000,
          "loss_rpn_box_reg": 0.0866
         },
         {
          "iter": 2100,
          "loss_rpn_box_reg": 0.0645
         },
         {
          "iter": 2200,
          "loss_rpn_box_reg": 0.0406
         },
         {
          "iter": 2300,
          "loss_rpn_box_reg": 0.1322
         },
         {
          "iter": 2400,
          "loss_rpn_box_reg": 0.0946
         },
         {
          "iter": 2500,
          "loss_rpn_box_reg": 0.0987
         },
         {
          "iter": 2600,
          "loss_rpn_box_reg": 0.0335
         },
         {
          "iter": 2700,
          "loss_rpn_box_reg": 0.1114
         },
         {
          "iter": 2800,
          "loss_rpn_box_reg": 0.0369
         },
         {
          "iter": 2900,
          "loss_rpn_box_reg": 0.0507
         },
         {
          "iter": 3000,
          "loss_rpn_box_reg": 0.1249
         },
         {
          "iter": 3100,
          "loss_rpn_box_reg": 0.051
         },
         {
          "iter": 3200,
          "loss_rpn_box_reg": 0.0806
         },
         {
          "iter": 3300,
          "loss_rpn_box_reg": 0.0322
         },
         {
          "iter": 3400,
          "loss_rpn_box_reg": 0.0436
         },
         {
          "iter": 3500,
          "loss_rpn_box_reg": 0.0179
         },
         {
          "iter": 3600,
          "loss_rpn_box_reg": 0.0494
         },
         {
          "iter": 3700,
          "loss_rpn_box_reg": 0.0709
         },
         {
          "iter": 3800,
          "loss_rpn_box_reg": 0.0317
         },
         {
          "iter": 3900,
          "loss_rpn_box_reg": 0.1024
         },
         {
          "iter": 4000,
          "loss_rpn_box_reg": 0.0928
         },
         {
          "iter": 4100,
          "loss_rpn_box_reg": 0.0979
         },
         {
          "iter": 4200,
          "loss_rpn_box_reg": 0.2051
         },
         {
          "iter": 4300,
          "loss_rpn_box_reg": 0.0806
         },
         {
          "iter": 4400,
          "loss_rpn_box_reg": 0.0355
         },
         {
          "iter": 4500,
          "loss_rpn_box_reg": 0.0442
         },
         {
          "iter": 4600,
          "loss_rpn_box_reg": 0.0392
         },
         {
          "iter": 4700,
          "loss_rpn_box_reg": 0.0553
         },
         {
          "iter": 4800,
          "loss_rpn_box_reg": 0.0389
         },
         {
          "iter": 4900,
          "loss_rpn_box_reg": 0.0653
         },
         {
          "iter": 5000,
          "loss_rpn_box_reg": 0.0516
         },
         {
          "iter": 5100,
          "loss_rpn_box_reg": 0.0761
         },
         {
          "iter": 5200,
          "loss_rpn_box_reg": 0.0433
         },
         {
          "iter": 5300,
          "loss_rpn_box_reg": 0.0243
         },
         {
          "iter": 5400,
          "loss_rpn_box_reg": 0.034
         },
         {
          "iter": 5500,
          "loss_rpn_box_reg": 0.05
         },
         {
          "iter": 5600,
          "loss_rpn_box_reg": 0.0686
         },
         {
          "iter": 5700,
          "loss_rpn_box_reg": 0.1053
         },
         {
          "iter": 5800,
          "loss_rpn_box_reg": 0.0686
         },
         {
          "iter": 5900,
          "loss_rpn_box_reg": 0.1041
         },
         {
          "iter": 6000,
          "loss_rpn_box_reg": 0.0319
         },
         {
          "iter": 6100,
          "loss_rpn_box_reg": 0.0847
         },
         {
          "iter": 6200,
          "loss_rpn_box_reg": 0.0199
         },
         {
          "iter": 6300,
          "loss_rpn_box_reg": 0.0867
         },
         {
          "iter": 6400,
          "loss_rpn_box_reg": 0.0645
         },
         {
          "iter": 6500,
          "loss_rpn_box_reg": 0.0577
         },
         {
          "iter": 6600,
          "loss_rpn_box_reg": 0.0649
         },
         {
          "iter": 6700,
          "loss_rpn_box_reg": 0.0676
         },
         {
          "iter": 6800,
          "loss_rpn_box_reg": 0.0373
         },
         {
          "iter": 6900,
          "loss_rpn_box_reg": 0.0571
         },
         {
          "iter": 7000,
          "loss_rpn_box_reg": 0.0572
         },
         {
          "iter": 7100,
          "loss_rpn_box_reg": 0.0813
         },
         {
          "iter": 7200,
          "loss_rpn_box_reg": 0.0664
         },
         {
          "iter": 7300,
          "loss_rpn_box_reg": 0.0805
         },
         {
          "iter": 7400,
          "loss_rpn_box_reg": 0.0654
         },
         {
          "iter": 7500,
          "loss_rpn_box_reg": 0.0766
         },
         {
          "iter": 7600,
          "loss_rpn_box_reg": 0.0609
         },
         {
          "iter": 7700,
          "loss_rpn_box_reg": 0.0832
         },
         {
          "iter": 7800,
          "loss_rpn_box_reg": 0.0669
         },
         {
          "iter": 7900,
          "loss_rpn_box_reg": 0.0528
         },
         {
          "iter": 8000,
          "loss_rpn_box_reg": 0.0781
         },
         {
          "iter": 8100,
          "loss_rpn_box_reg": 0.0325
         },
         {
          "iter": 8200,
          "loss_rpn_box_reg": 0.0499
         },
         {
          "iter": 8300,
          "loss_rpn_box_reg": 0.0455
         },
         {
          "iter": 8400,
          "loss_rpn_box_reg": 0.063
         },
         {
          "iter": 8500,
          "loss_rpn_box_reg": 0.0537
         },
         {
          "iter": 8600,
          "loss_rpn_box_reg": 0.0258
         },
         {
          "iter": 8700,
          "loss_rpn_box_reg": 0.0345
         },
         {
          "iter": 8800,
          "loss_rpn_box_reg": 0.106
         },
         {
          "iter": 8900,
          "loss_rpn_box_reg": 0.0933
         },
         {
          "iter": 9000,
          "loss_rpn_box_reg": 0.0509
         },
         {
          "iter": 9100,
          "loss_rpn_box_reg": 0.0487
         },
         {
          "iter": 9200,
          "loss_rpn_box_reg": 0.0394
         },
         {
          "iter": 9300,
          "loss_rpn_box_reg": 0.0703
         },
         {
          "iter": 9400,
          "loss_rpn_box_reg": 0.0817
         },
         {
          "iter": 9500,
          "loss_rpn_box_reg": 0.0333
         },
         {
          "iter": 9600,
          "loss_rpn_box_reg": 0.0309
         },
         {
          "iter": 9700,
          "loss_rpn_box_reg": 0.0253
         },
         {
          "iter": 9800,
          "loss_rpn_box_reg": 0.1223
         },
         {
          "iter": 9900,
          "loss_rpn_box_reg": 0.0592
         },
         {
          "iter": 10000,
          "loss_rpn_box_reg": 0.1224
         },
         {
          "iter": 10100,
          "loss_rpn_box_reg": 0.1458
         },
         {
          "iter": 10200,
          "loss_rpn_box_reg": 0.0279
         },
         {
          "iter": 10300,
          "loss_rpn_box_reg": 0.2061
         },
         {
          "iter": 10400,
          "loss_rpn_box_reg": 0.0208
         },
         {
          "iter": 10500,
          "loss_rpn_box_reg": 0.0336
         },
         {
          "iter": 10600,
          "loss_rpn_box_reg": 0.0588
         },
         {
          "iter": 10700,
          "loss_rpn_box_reg": 0.0365
         },
         {
          "iter": 10800,
          "loss_rpn_box_reg": 0.1329
         },
         {
          "iter": 10900,
          "loss_rpn_box_reg": 0.0953
         },
         {
          "iter": 11000,
          "loss_rpn_box_reg": 0.1502
         },
         {
          "iter": 11100,
          "loss_rpn_box_reg": 0.0722
         },
         {
          "iter": 11200,
          "loss_rpn_box_reg": 0.0517
         },
         {
          "iter": 11300,
          "loss_rpn_box_reg": 0.0396
         },
         {
          "iter": 11400,
          "loss_rpn_box_reg": 0.0962
         },
         {
          "iter": 11500,
          "loss_rpn_box_reg": 0.0633
         },
         {
          "iter": 11600,
          "loss_rpn_box_reg": 0.1201
         },
         {
          "iter": 11700,
          "loss_rpn_box_reg": 0.0514
         },
         {
          "iter": 11800,
          "loss_rpn_box_reg": 0.0702
         },
         {
          "iter": 11900,
          "loss_rpn_box_reg": 0.0288
         },
         {
          "iter": 12000,
          "loss_rpn_box_reg": 0.1579
         },
         {
          "iter": 12100,
          "loss_rpn_box_reg": 0.0426
         },
         {
          "iter": 12200,
          "loss_rpn_box_reg": 0.1467
         },
         {
          "iter": 12300,
          "loss_rpn_box_reg": 0.1747
         },
         {
          "iter": 12400,
          "loss_rpn_box_reg": 0.1107
         },
         {
          "iter": 12500,
          "loss_rpn_box_reg": 0.0564
         },
         {
          "iter": 12600,
          "loss_rpn_box_reg": 0.0295
         },
         {
          "iter": 12700,
          "loss_rpn_box_reg": 0.0353
         },
         {
          "iter": 12800,
          "loss_rpn_box_reg": 0.0713
         },
         {
          "iter": 12900,
          "loss_rpn_box_reg": 0.0896
         },
         {
          "iter": 13000,
          "loss_rpn_box_reg": 0.0766
         },
         {
          "iter": 13100,
          "loss_rpn_box_reg": 0.0986
         },
         {
          "iter": 13200,
          "loss_rpn_box_reg": 0.0949
         },
         {
          "iter": 13300,
          "loss_rpn_box_reg": 0.0671
         },
         {
          "iter": 13400,
          "loss_rpn_box_reg": 0.0777
         },
         {
          "iter": 13500,
          "loss_rpn_box_reg": 0.0716
         },
         {
          "iter": 13600,
          "loss_rpn_box_reg": 0.0179
         },
         {
          "iter": 13700,
          "loss_rpn_box_reg": 0.1242
         },
         {
          "iter": 13800,
          "loss_rpn_box_reg": 0.1038
         },
         {
          "iter": 13900,
          "loss_rpn_box_reg": 0.0288
         },
         {
          "iter": 14000,
          "loss_rpn_box_reg": 0.0994
         },
         {
          "iter": 14100,
          "loss_rpn_box_reg": 0.0467
         },
         {
          "iter": 14200,
          "loss_rpn_box_reg": 0.0782
         },
         {
          "iter": 14300,
          "loss_rpn_box_reg": 0.1313
         },
         {
          "iter": 14400,
          "loss_rpn_box_reg": 0.1162
         },
         {
          "iter": 14500,
          "loss_rpn_box_reg": 0.1554
         },
         {
          "iter": 14600,
          "loss_rpn_box_reg": 0.09
         },
         {
          "iter": 14700,
          "loss_rpn_box_reg": 0.0418
         },
         {
          "iter": 14800,
          "loss_rpn_box_reg": 0.0894
         },
         {
          "iter": 14900,
          "loss_rpn_box_reg": 0.0156
         },
         {
          "iter": 15000,
          "loss_rpn_box_reg": 0.0278
         },
         {
          "iter": 15100,
          "loss_rpn_box_reg": 0.0468
         },
         {
          "iter": 15200,
          "loss_rpn_box_reg": 0.1384
         },
         {
          "iter": 15300,
          "loss_rpn_box_reg": 0.0561
         },
         {
          "iter": 15400,
          "loss_rpn_box_reg": 0.0847
         },
         {
          "iter": 15500,
          "loss_rpn_box_reg": 0.0703
         },
         {
          "iter": 15600,
          "loss_rpn_box_reg": 0.043
         },
         {
          "iter": 15700,
          "loss_rpn_box_reg": 0.0647
         },
         {
          "iter": 15800,
          "loss_rpn_box_reg": 0.1291
         },
         {
          "iter": 15900,
          "loss_rpn_box_reg": 0.0797
         },
         {
          "iter": 16000,
          "loss_rpn_box_reg": 0.0276
         },
         {
          "iter": 16100,
          "loss_rpn_box_reg": 0.0942
         },
         {
          "iter": 16200,
          "loss_rpn_box_reg": 0.1176
         },
         {
          "iter": 16300,
          "loss_rpn_box_reg": 0.0179
         },
         {
          "iter": 16400,
          "loss_rpn_box_reg": 0.0839
         },
         {
          "iter": 16500,
          "loss_rpn_box_reg": 0.0687
         },
         {
          "iter": 16600,
          "loss_rpn_box_reg": 0.07
         },
         {
          "iter": 16700,
          "loss_rpn_box_reg": 0.0387
         },
         {
          "iter": 16800,
          "loss_rpn_box_reg": 0.022
         },
         {
          "iter": 16900,
          "loss_rpn_box_reg": 0.1211
         },
         {
          "iter": 17000,
          "loss_rpn_box_reg": 0.101
         },
         {
          "iter": 17100,
          "loss_rpn_box_reg": 0.0374
         },
         {
          "iter": 17200,
          "loss_rpn_box_reg": 0.0593
         },
         {
          "iter": 17300,
          "loss_rpn_box_reg": 0.0351
         },
         {
          "iter": 17400,
          "loss_rpn_box_reg": 0.0281
         },
         {
          "iter": 17500,
          "loss_rpn_box_reg": 0.0249
         },
         {
          "iter": 17600,
          "loss_rpn_box_reg": 0.1015
         },
         {
          "iter": 17700,
          "loss_rpn_box_reg": 0.0414
         },
         {
          "iter": 17800,
          "loss_rpn_box_reg": 0.0513
         },
         {
          "iter": 17900,
          "loss_rpn_box_reg": 0.0587
         },
         {
          "iter": 18000,
          "loss_rpn_box_reg": 0.0956
         },
         {
          "iter": 18100,
          "loss_rpn_box_reg": 0.0911
         },
         {
          "iter": 18200,
          "loss_rpn_box_reg": 0.0754
         },
         {
          "iter": 18300,
          "loss_rpn_box_reg": 0.0419
         },
         {
          "iter": 18400,
          "loss_rpn_box_reg": 0.0429
         },
         {
          "iter": 18500,
          "loss_rpn_box_reg": 0.0324
         },
         {
          "iter": 18600,
          "loss_rpn_box_reg": 0.0594
         },
         {
          "iter": 18700,
          "loss_rpn_box_reg": 0.0315
         },
         {
          "iter": 18800,
          "loss_rpn_box_reg": 0.0549
         },
         {
          "iter": 18900,
          "loss_rpn_box_reg": 0.0851
         },
         {
          "iter": 19000,
          "loss_rpn_box_reg": 0.1472
         },
         {
          "iter": 19100,
          "loss_rpn_box_reg": 0.0511
         },
         {
          "iter": 19200,
          "loss_rpn_box_reg": 0.075
         },
         {
          "iter": 19300,
          "loss_rpn_box_reg": 0.0711
         },
         {
          "iter": 19400,
          "loss_rpn_box_reg": 0.1018
         },
         {
          "iter": 19500,
          "loss_rpn_box_reg": 0.0321
         },
         {
          "iter": 19600,
          "loss_rpn_box_reg": 0.0553
         },
         {
          "iter": 19700,
          "loss_rpn_box_reg": 0.0425
         },
         {
          "iter": 19800,
          "loss_rpn_box_reg": 0.0712
         },
         {
          "iter": 19900,
          "loss_rpn_box_reg": 0.0836
         },
         {
          "iter": 20000,
          "loss_rpn_box_reg": 0.149
         },
         {
          "iter": 20100,
          "loss_rpn_box_reg": 0.0793
         },
         {
          "iter": 20200,
          "loss_rpn_box_reg": 0.1613
         },
         {
          "iter": 20300,
          "loss_rpn_box_reg": 0.0376
         },
         {
          "iter": 20400,
          "loss_rpn_box_reg": 0.1144
         },
         {
          "iter": 20500,
          "loss_rpn_box_reg": 0.0454
         },
         {
          "iter": 20600,
          "loss_rpn_box_reg": 0.0289
         },
         {
          "iter": 20700,
          "loss_rpn_box_reg": 0.1072
         },
         {
          "iter": 20800,
          "loss_rpn_box_reg": 0.0895
         },
         {
          "iter": 20900,
          "loss_rpn_box_reg": 0.0728
         },
         {
          "iter": 21000,
          "loss_rpn_box_reg": 0.0583
         },
         {
          "iter": 21100,
          "loss_rpn_box_reg": 0.0368
         },
         {
          "iter": 21200,
          "loss_rpn_box_reg": 0.0709
         },
         {
          "iter": 21300,
          "loss_rpn_box_reg": 0.043
         },
         {
          "iter": 21400,
          "loss_rpn_box_reg": 0.0247
         },
         {
          "iter": 21500,
          "loss_rpn_box_reg": 0.0406
         },
         {
          "iter": 21600,
          "loss_rpn_box_reg": 0.066
         },
         {
          "iter": 21700,
          "loss_rpn_box_reg": 0.045
         },
         {
          "iter": 21800,
          "loss_rpn_box_reg": 0.0367
         },
         {
          "iter": 21900,
          "loss_rpn_box_reg": 0.0625
         },
         {
          "iter": 22000,
          "loss_rpn_box_reg": 0.0307
         },
         {
          "iter": 22100,
          "loss_rpn_box_reg": 0.0337
         },
         {
          "iter": 22200,
          "loss_rpn_box_reg": 0.1391
         },
         {
          "iter": 22300,
          "loss_rpn_box_reg": 0.0416
         },
         {
          "iter": 22400,
          "loss_rpn_box_reg": 0.0468
         },
         {
          "iter": 22500,
          "loss_rpn_box_reg": 0.1138
         },
         {
          "iter": 22600,
          "loss_rpn_box_reg": 0.1026
         },
         {
          "iter": 22700,
          "loss_rpn_box_reg": 0.0399
         },
         {
          "iter": 22800,
          "loss_rpn_box_reg": 0.1008
         },
         {
          "iter": 22900,
          "loss_rpn_box_reg": 0.1151
         },
         {
          "iter": 23000,
          "loss_rpn_box_reg": 0.0476
         },
         {
          "iter": 23100,
          "loss_rpn_box_reg": 0.0896
         },
         {
          "iter": 23200,
          "loss_rpn_box_reg": 0.1731
         },
         {
          "iter": 23300,
          "loss_rpn_box_reg": 0.0676
         },
         {
          "iter": 23400,
          "loss_rpn_box_reg": 0.0312
         },
         {
          "iter": 23500,
          "loss_rpn_box_reg": 0.0107
         },
         {
          "iter": 23600,
          "loss_rpn_box_reg": 0.035
         },
         {
          "iter": 23700,
          "loss_rpn_box_reg": 0.1175
         },
         {
          "iter": 23800,
          "loss_rpn_box_reg": 0.064
         },
         {
          "iter": 23900,
          "loss_rpn_box_reg": 0.0497
         },
         {
          "iter": 24000,
          "loss_rpn_box_reg": 0.0691
         },
         {
          "iter": 24100,
          "loss_rpn_box_reg": 0.0551
         },
         {
          "iter": 24200,
          "loss_rpn_box_reg": 0.0264
         },
         {
          "iter": 24300,
          "loss_rpn_box_reg": 0.0308
         },
         {
          "iter": 24400,
          "loss_rpn_box_reg": 0.0215
         },
         {
          "iter": 24500,
          "loss_rpn_box_reg": 0.0732
         },
         {
          "iter": 24600,
          "loss_rpn_box_reg": 0.017
         },
         {
          "iter": 24700,
          "loss_rpn_box_reg": 0.0935
         },
         {
          "iter": 24800,
          "loss_rpn_box_reg": 0.0778
         },
         {
          "iter": 24900,
          "loss_rpn_box_reg": 0.0676
         },
         {
          "iter": 25000,
          "loss_rpn_box_reg": 0.0375
         },
         {
          "iter": 25100,
          "loss_rpn_box_reg": 0.0229
         },
         {
          "iter": 25200,
          "loss_rpn_box_reg": 0.0953
         },
         {
          "iter": 25300,
          "loss_rpn_box_reg": 0.1109
         },
         {
          "iter": 25400,
          "loss_rpn_box_reg": 0.0584
         },
         {
          "iter": 25500,
          "loss_rpn_box_reg": 0.1759
         },
         {
          "iter": 25600,
          "loss_rpn_box_reg": 0.0464
         },
         {
          "iter": 25700,
          "loss_rpn_box_reg": 0.0405
         },
         {
          "iter": 25800,
          "loss_rpn_box_reg": 0.0514
         },
         {
          "iter": 25900,
          "loss_rpn_box_reg": 0.1396
         },
         {
          "iter": 26000,
          "loss_rpn_box_reg": 0.0289
         },
         {
          "iter": 26100,
          "loss_rpn_box_reg": 0.0968
         },
         {
          "iter": 26200,
          "loss_rpn_box_reg": 0.054
         },
         {
          "iter": 26300,
          "loss_rpn_box_reg": 0.0602
         },
         {
          "iter": 26400,
          "loss_rpn_box_reg": 0.0179
         },
         {
          "iter": 26500,
          "loss_rpn_box_reg": 0.023
         },
         {
          "iter": 26600,
          "loss_rpn_box_reg": 0.0578
         },
         {
          "iter": 26700,
          "loss_rpn_box_reg": 0.0286
         },
         {
          "iter": 26800,
          "loss_rpn_box_reg": 0.0278
         },
         {
          "iter": 26900,
          "loss_rpn_box_reg": 0.0456
         },
         {
          "iter": 27000,
          "loss_rpn_box_reg": 0.0746
         },
         {
          "iter": 27100,
          "loss_rpn_box_reg": 0.0486
         },
         {
          "iter": 27200,
          "loss_rpn_box_reg": 0.0212
         },
         {
          "iter": 27300,
          "loss_rpn_box_reg": 0.0549
         },
         {
          "iter": 27400,
          "loss_rpn_box_reg": 0.0628
         },
         {
          "iter": 27500,
          "loss_rpn_box_reg": 0.0742
         },
         {
          "iter": 27600,
          "loss_rpn_box_reg": 0.0803
         },
         {
          "iter": 27700,
          "loss_rpn_box_reg": 0.0789
         },
         {
          "iter": 27800,
          "loss_rpn_box_reg": 0.0409
         },
         {
          "iter": 27900,
          "loss_rpn_box_reg": 0.0846
         },
         {
          "iter": 28000,
          "loss_rpn_box_reg": 0.0688
         },
         {
          "iter": 28100,
          "loss_rpn_box_reg": 0.0319
         },
         {
          "iter": 28200,
          "loss_rpn_box_reg": 0.0856
         },
         {
          "iter": 28300,
          "loss_rpn_box_reg": 0.0703
         },
         {
          "iter": 28400,
          "loss_rpn_box_reg": 0.0587
         },
         {
          "iter": 28500,
          "loss_rpn_box_reg": 0.0634
         },
         {
          "iter": 28600,
          "loss_rpn_box_reg": 0.093
         },
         {
          "iter": 28700,
          "loss_rpn_box_reg": 0.1039
         },
         {
          "iter": 28800,
          "loss_rpn_box_reg": 0.074
         },
         {
          "iter": 28900,
          "loss_rpn_box_reg": 0.0206
         },
         {
          "iter": 29000,
          "loss_rpn_box_reg": 0.0673
         },
         {
          "iter": 29100,
          "loss_rpn_box_reg": 0.005
         },
         {
          "iter": 29200,
          "loss_rpn_box_reg": 0.0556
         },
         {
          "iter": 29300,
          "loss_rpn_box_reg": 0.0614
         },
         {
          "iter": 29400,
          "loss_rpn_box_reg": 0.074
         },
         {
          "iter": 29500,
          "loss_rpn_box_reg": 0.1379
         },
         {
          "iter": 29600,
          "loss_rpn_box_reg": 0.0272
         },
         {
          "iter": 29700,
          "loss_rpn_box_reg": 0.0405
         },
         {
          "iter": 29800,
          "loss_rpn_box_reg": 0.0323
         },
         {
          "iter": 29900,
          "loss_rpn_box_reg": 0.0411
         },
         {
          "iter": 30000,
          "loss_rpn_box_reg": 0.0666
         },
         {
          "iter": 30100,
          "loss_rpn_box_reg": 0.0957
         },
         {
          "iter": 30200,
          "loss_rpn_box_reg": 0.0205
         },
         {
          "iter": 30300,
          "loss_rpn_box_reg": 0.1029
         },
         {
          "iter": 30400,
          "loss_rpn_box_reg": 0.0391
         },
         {
          "iter": 30500,
          "loss_rpn_box_reg": 0.0526
         },
         {
          "iter": 30600,
          "loss_rpn_box_reg": 0.0146
         },
         {
          "iter": 30700,
          "loss_rpn_box_reg": 0.0177
         },
         {
          "iter": 30800,
          "loss_rpn_box_reg": 0.0628
         },
         {
          "iter": 30900,
          "loss_rpn_box_reg": 0.0247
         },
         {
          "iter": 31000,
          "loss_rpn_box_reg": 0.0494
         },
         {
          "iter": 31100,
          "loss_rpn_box_reg": 0.0513
         },
         {
          "iter": 31200,
          "loss_rpn_box_reg": 0.0449
         },
         {
          "iter": 31300,
          "loss_rpn_box_reg": 0.0164
         },
         {
          "iter": 31400,
          "loss_rpn_box_reg": 0.0552
         },
         {
          "iter": 31500,
          "loss_rpn_box_reg": 0.0403
         },
         {
          "iter": 31600,
          "loss_rpn_box_reg": 0.0724
         },
         {
          "iter": 31700,
          "loss_rpn_box_reg": 0.0551
         },
         {
          "iter": 31800,
          "loss_rpn_box_reg": 0.0497
         },
         {
          "iter": 31900,
          "loss_rpn_box_reg": 0.0834
         },
         {
          "iter": 32000,
          "loss_rpn_box_reg": 0.0368
         },
         {
          "iter": 32100,
          "loss_rpn_box_reg": 0.0748
         },
         {
          "iter": 32200,
          "loss_rpn_box_reg": 0.044
         },
         {
          "iter": 32300,
          "loss_rpn_box_reg": 0.0307
         },
         {
          "iter": 32400,
          "loss_rpn_box_reg": 0.0368
         },
         {
          "iter": 32500,
          "loss_rpn_box_reg": 0.0506
         },
         {
          "iter": 32600,
          "loss_rpn_box_reg": 0.0659
         },
         {
          "iter": 32700,
          "loss_rpn_box_reg": 0.0455
         },
         {
          "iter": 32800,
          "loss_rpn_box_reg": 0.0399
         },
         {
          "iter": 32900,
          "loss_rpn_box_reg": 0.1211
         },
         {
          "iter": 33000,
          "loss_rpn_box_reg": 0.0256
         },
         {
          "iter": 33100,
          "loss_rpn_box_reg": 0.0444
         },
         {
          "iter": 33200,
          "loss_rpn_box_reg": 0.0392
         },
         {
          "iter": 33300,
          "loss_rpn_box_reg": 0.0253
         },
         {
          "iter": 33400,
          "loss_rpn_box_reg": 0.0233
         },
         {
          "iter": 33500,
          "loss_rpn_box_reg": 0.0574
         },
         {
          "iter": 33600,
          "loss_rpn_box_reg": 0.0345
         },
         {
          "iter": 33700,
          "loss_rpn_box_reg": 0.0852
         },
         {
          "iter": 33800,
          "loss_rpn_box_reg": 0.0229
         },
         {
          "iter": 33900,
          "loss_rpn_box_reg": 0.0842
         },
         {
          "iter": 34000,
          "loss_rpn_box_reg": 0.0278
         },
         {
          "iter": 34100,
          "loss_rpn_box_reg": 0.0772
         },
         {
          "iter": 34200,
          "loss_rpn_box_reg": 0.0549
         },
         {
          "iter": 34300,
          "loss_rpn_box_reg": 0.0542
         },
         {
          "iter": 34400,
          "loss_rpn_box_reg": 0.0635
         },
         {
          "iter": 34500,
          "loss_rpn_box_reg": 0.0433
         },
         {
          "iter": 34600,
          "loss_rpn_box_reg": 0.0379
         },
         {
          "iter": 34700,
          "loss_rpn_box_reg": 0.0352
         },
         {
          "iter": 34800,
          "loss_rpn_box_reg": 0.0488
         },
         {
          "iter": 34900,
          "loss_rpn_box_reg": 0.1572
         },
         {
          "iter": 35000,
          "loss_rpn_box_reg": 0.0239
         },
         {
          "iter": 35100,
          "loss_rpn_box_reg": 0.0602
         },
         {
          "iter": 35200,
          "loss_rpn_box_reg": 0.049
         },
         {
          "iter": 35300,
          "loss_rpn_box_reg": 0.0467
         },
         {
          "iter": 35400,
          "loss_rpn_box_reg": 0.0531
         },
         {
          "iter": 35500,
          "loss_rpn_box_reg": 0.041
         },
         {
          "iter": 35600,
          "loss_rpn_box_reg": 0.0198
         },
         {
          "iter": 35700,
          "loss_rpn_box_reg": 0.1058
         },
         {
          "iter": 35800,
          "loss_rpn_box_reg": 0.0322
         },
         {
          "iter": 35900,
          "loss_rpn_box_reg": 0.0521
         },
         {
          "iter": 36000,
          "loss_rpn_box_reg": 0.0872
         },
         {
          "iter": 36100,
          "loss_rpn_box_reg": 0.0386
         },
         {
          "iter": 36200,
          "loss_rpn_box_reg": 0.0438
         },
         {
          "iter": 36300,
          "loss_rpn_box_reg": 0.0547
         },
         {
          "iter": 36400,
          "loss_rpn_box_reg": 0.0671
         },
         {
          "iter": 36500,
          "loss_rpn_box_reg": 0.033
         },
         {
          "iter": 36600,
          "loss_rpn_box_reg": 0.0336
         },
         {
          "iter": 36700,
          "loss_rpn_box_reg": 0.0423
         },
         {
          "iter": 36800,
          "loss_rpn_box_reg": 0.0746
         },
         {
          "iter": 36900,
          "loss_rpn_box_reg": 0.0639
         },
         {
          "iter": 37000,
          "loss_rpn_box_reg": 0.214
         },
         {
          "iter": 37100,
          "loss_rpn_box_reg": 0.0406
         },
         {
          "iter": 37200,
          "loss_rpn_box_reg": 0.1215
         },
         {
          "iter": 37300,
          "loss_rpn_box_reg": 0.0216
         },
         {
          "iter": 37400,
          "loss_rpn_box_reg": 0.0725
         },
         {
          "iter": 37500,
          "loss_rpn_box_reg": 0.0358
         },
         {
          "iter": 37600,
          "loss_rpn_box_reg": 0.0573
         },
         {
          "iter": 37700,
          "loss_rpn_box_reg": 0.0273
         },
         {
          "iter": 37800,
          "loss_rpn_box_reg": 0.0566
         },
         {
          "iter": 37900,
          "loss_rpn_box_reg": 0.0484
         },
         {
          "iter": 38000,
          "loss_rpn_box_reg": 0.0498
         },
         {
          "iter": 38100,
          "loss_rpn_box_reg": 0.1234
         },
         {
          "iter": 38200,
          "loss_rpn_box_reg": 0.0552
         },
         {
          "iter": 38300,
          "loss_rpn_box_reg": 0.0924
         },
         {
          "iter": 38400,
          "loss_rpn_box_reg": 0.075
         },
         {
          "iter": 38500,
          "loss_rpn_box_reg": 0.0723
         },
         {
          "iter": 38600,
          "loss_rpn_box_reg": 0.0843
         },
         {
          "iter": 38700,
          "loss_rpn_box_reg": 0.0153
         },
         {
          "iter": 38800,
          "loss_rpn_box_reg": 0.0261
         },
         {
          "iter": 38900,
          "loss_rpn_box_reg": 0.0523
         },
         {
          "iter": 39000,
          "loss_rpn_box_reg": 0.0359
         },
         {
          "iter": 39100,
          "loss_rpn_box_reg": 0.0575
         },
         {
          "iter": 39200,
          "loss_rpn_box_reg": 0.0559
         },
         {
          "iter": 39300,
          "loss_rpn_box_reg": 0.0746
         },
         {
          "iter": 39400,
          "loss_rpn_box_reg": 0.0477
         },
         {
          "iter": 39500,
          "loss_rpn_box_reg": 0.0791
         },
         {
          "iter": 39600,
          "loss_rpn_box_reg": 0.0481
         },
         {
          "iter": 39700,
          "loss_rpn_box_reg": 0.0834
         },
         {
          "iter": 39800,
          "loss_rpn_box_reg": 0.0478
         },
         {
          "iter": 39900,
          "loss_rpn_box_reg": 0.1655
         },
         {
          "iter": 40000,
          "loss_rpn_box_reg": 0.0266
         },
         {
          "iter": 40100,
          "loss_rpn_box_reg": 0.0217
         },
         {
          "iter": 40200,
          "loss_rpn_box_reg": 0.0774
         },
         {
          "iter": 40300,
          "loss_rpn_box_reg": 0.0252
         },
         {
          "iter": 40400,
          "loss_rpn_box_reg": 0.0269
         },
         {
          "iter": 40500,
          "loss_rpn_box_reg": 0.0117
         },
         {
          "iter": 40600,
          "loss_rpn_box_reg": 0.1032
         },
         {
          "iter": 40700,
          "loss_rpn_box_reg": 0.0128
         },
         {
          "iter": 40800,
          "loss_rpn_box_reg": 0.0763
         },
         {
          "iter": 40900,
          "loss_rpn_box_reg": 0.0433
         },
         {
          "iter": 41000,
          "loss_rpn_box_reg": 0.0493
         },
         {
          "iter": 41100,
          "loss_rpn_box_reg": 0.0302
         },
         {
          "iter": 41200,
          "loss_rpn_box_reg": 0.1121
         },
         {
          "iter": 41300,
          "loss_rpn_box_reg": 0.0334
         },
         {
          "iter": 41400,
          "loss_rpn_box_reg": 0.0178
         },
         {
          "iter": 41500,
          "loss_rpn_box_reg": 0.0444
         },
         {
          "iter": 41600,
          "loss_rpn_box_reg": 0.1074
         },
         {
          "iter": 41700,
          "loss_rpn_box_reg": 0.0432
         },
         {
          "iter": 41800,
          "loss_rpn_box_reg": 0.0579
         },
         {
          "iter": 41900,
          "loss_rpn_box_reg": 0.0312
         },
         {
          "iter": 42000,
          "loss_rpn_box_reg": 0.0893
         },
         {
          "iter": 42100,
          "loss_rpn_box_reg": 0.0357
         },
         {
          "iter": 42200,
          "loss_rpn_box_reg": 0.0284
         },
         {
          "iter": 42300,
          "loss_rpn_box_reg": 0.1776
         },
         {
          "iter": 42400,
          "loss_rpn_box_reg": 0.027
         },
         {
          "iter": 42500,
          "loss_rpn_box_reg": 0.0309
         },
         {
          "iter": 42600,
          "loss_rpn_box_reg": 0.0634
         },
         {
          "iter": 42700,
          "loss_rpn_box_reg": 0.1027
         },
         {
          "iter": 42800,
          "loss_rpn_box_reg": 0.046
         },
         {
          "iter": 42900,
          "loss_rpn_box_reg": 0.042
         },
         {
          "iter": 43000,
          "loss_rpn_box_reg": 0.0685
         },
         {
          "iter": 43100,
          "loss_rpn_box_reg": 0.0216
         },
         {
          "iter": 43200,
          "loss_rpn_box_reg": 0.0551
         },
         {
          "iter": 43300,
          "loss_rpn_box_reg": 0.1271
         },
         {
          "iter": 43400,
          "loss_rpn_box_reg": 0.0536
         },
         {
          "iter": 43500,
          "loss_rpn_box_reg": 0.0814
         },
         {
          "iter": 43600,
          "loss_rpn_box_reg": 0.0187
         },
         {
          "iter": 43700,
          "loss_rpn_box_reg": 0.0399
         },
         {
          "iter": 43800,
          "loss_rpn_box_reg": 0.1173
         },
         {
          "iter": 43900,
          "loss_rpn_box_reg": 0.0365
         },
         {
          "iter": 44000,
          "loss_rpn_box_reg": 0.0966
         },
         {
          "iter": 44100,
          "loss_rpn_box_reg": 0.0373
         },
         {
          "iter": 44200,
          "loss_rpn_box_reg": 0.085
         },
         {
          "iter": 44300,
          "loss_rpn_box_reg": 0.0635
         },
         {
          "iter": 44400,
          "loss_rpn_box_reg": 0.0595
         },
         {
          "iter": 44500,
          "loss_rpn_box_reg": 0.0082
         },
         {
          "iter": 44600,
          "loss_rpn_box_reg": 0.0787
         },
         {
          "iter": 44700,
          "loss_rpn_box_reg": 0.046
         },
         {
          "iter": 44800,
          "loss_rpn_box_reg": 0.0392
         },
         {
          "iter": 44900,
          "loss_rpn_box_reg": 0.0483
         },
         {
          "iter": 45000,
          "loss_rpn_box_reg": 0.0351
         },
         {
          "iter": 45100,
          "loss_rpn_box_reg": 0.0238
         },
         {
          "iter": 45200,
          "loss_rpn_box_reg": 0.0574
         },
         {
          "iter": 45300,
          "loss_rpn_box_reg": 0.0946
         },
         {
          "iter": 45400,
          "loss_rpn_box_reg": 0.0362
         },
         {
          "iter": 45500,
          "loss_rpn_box_reg": 0.1053
         },
         {
          "iter": 45600,
          "loss_rpn_box_reg": 0.0635
         },
         {
          "iter": 45700,
          "loss_rpn_box_reg": 0.0799
         },
         {
          "iter": 45800,
          "loss_rpn_box_reg": 0.0253
         },
         {
          "iter": 45900,
          "loss_rpn_box_reg": 0.0289
         },
         {
          "iter": 46000,
          "loss_rpn_box_reg": 0.0468
         },
         {
          "iter": 46100,
          "loss_rpn_box_reg": 0.0658
         },
         {
          "iter": 46200,
          "loss_rpn_box_reg": 0.0269
         },
         {
          "iter": 46300,
          "loss_rpn_box_reg": 0.0579
         },
         {
          "iter": 46400,
          "loss_rpn_box_reg": 0.0697
         },
         {
          "iter": 46500,
          "loss_rpn_box_reg": 0.0992
         },
         {
          "iter": 46600,
          "loss_rpn_box_reg": 0.0537
         },
         {
          "iter": 46700,
          "loss_rpn_box_reg": 0.0621
         },
         {
          "iter": 46800,
          "loss_rpn_box_reg": 0.0589
         },
         {
          "iter": 46900,
          "loss_rpn_box_reg": 0.0498
         },
         {
          "iter": 47000,
          "loss_rpn_box_reg": 0.0626
         },
         {
          "iter": 47100,
          "loss_rpn_box_reg": 0.0451
         },
         {
          "iter": 47200,
          "loss_rpn_box_reg": 0.0955
         },
         {
          "iter": 47300,
          "loss_rpn_box_reg": 0.0465
         },
         {
          "iter": 47400,
          "loss_rpn_box_reg": 0.0345
         },
         {
          "iter": 47500,
          "loss_rpn_box_reg": 0.0487
         },
         {
          "iter": 47600,
          "loss_rpn_box_reg": 0.0353
         },
         {
          "iter": 47700,
          "loss_rpn_box_reg": 0.0698
         },
         {
          "iter": 47800,
          "loss_rpn_box_reg": 0.0714
         },
         {
          "iter": 47900,
          "loss_rpn_box_reg": 0.0564
         },
         {
          "iter": 48000,
          "loss_rpn_box_reg": 0.0412
         },
         {
          "iter": 48100,
          "loss_rpn_box_reg": 0.05
         },
         {
          "iter": 48200,
          "loss_rpn_box_reg": 0.0188
         },
         {
          "iter": 48300,
          "loss_rpn_box_reg": 0.0367
         },
         {
          "iter": 48400,
          "loss_rpn_box_reg": 0.0883
         },
         {
          "iter": 48500,
          "loss_rpn_box_reg": 0.058
         },
         {
          "iter": 48600,
          "loss_rpn_box_reg": 0.0448
         },
         {
          "iter": 48700,
          "loss_rpn_box_reg": 0.0587
         },
         {
          "iter": 48800,
          "loss_rpn_box_reg": 0.0591
         },
         {
          "iter": 48900,
          "loss_rpn_box_reg": 0.0323
         },
         {
          "iter": 49000,
          "loss_rpn_box_reg": 0.1623
         },
         {
          "iter": 49100,
          "loss_rpn_box_reg": 0.1159
         },
         {
          "iter": 49200,
          "loss_rpn_box_reg": 0.036
         },
         {
          "iter": 49300,
          "loss_rpn_box_reg": 0.0259
         },
         {
          "iter": 49400,
          "loss_rpn_box_reg": 0.0405
         },
         {
          "iter": 49500,
          "loss_rpn_box_reg": 0.0416
         },
         {
          "iter": 49600,
          "loss_rpn_box_reg": 0.0855
         },
         {
          "iter": 49700,
          "loss_rpn_box_reg": 0.0311
         },
         {
          "iter": 49800,
          "loss_rpn_box_reg": 0.1286
         },
         {
          "iter": 49900,
          "loss_rpn_box_reg": 0.0131
         },
         {
          "iter": 50000,
          "loss_rpn_box_reg": 0.0905
         },
         {
          "iter": 50100,
          "loss_rpn_box_reg": 0.0123
         },
         {
          "iter": 50200,
          "loss_rpn_box_reg": 0.0179
         },
         {
          "iter": 50300,
          "loss_rpn_box_reg": 0.0705
         },
         {
          "iter": 50400,
          "loss_rpn_box_reg": 0.0956
         },
         {
          "iter": 50500,
          "loss_rpn_box_reg": 0.0619
         },
         {
          "iter": 50600,
          "loss_rpn_box_reg": 0.0161
         },
         {
          "iter": 50700,
          "loss_rpn_box_reg": 0.0503
         },
         {
          "iter": 50800,
          "loss_rpn_box_reg": 0.1168
         },
         {
          "iter": 50900,
          "loss_rpn_box_reg": 0.0371
         },
         {
          "iter": 51000,
          "loss_rpn_box_reg": 0.1465
         },
         {
          "iter": 51100,
          "loss_rpn_box_reg": 0.0214
         },
         {
          "iter": 51200,
          "loss_rpn_box_reg": 0.0771
         },
         {
          "iter": 51300,
          "loss_rpn_box_reg": 0.0847
         },
         {
          "iter": 51400,
          "loss_rpn_box_reg": 0.0374
         },
         {
          "iter": 51500,
          "loss_rpn_box_reg": 0.0722
         },
         {
          "iter": 51600,
          "loss_rpn_box_reg": 0.0517
         },
         {
          "iter": 51700,
          "loss_rpn_box_reg": 0.0549
         },
         {
          "iter": 51800,
          "loss_rpn_box_reg": 0.0792
         },
         {
          "iter": 51900,
          "loss_rpn_box_reg": 0.0716
         },
         {
          "iter": 52000,
          "loss_rpn_box_reg": 0.0334
         },
         {
          "iter": 52100,
          "loss_rpn_box_reg": 0.0365
         },
         {
          "iter": 52200,
          "loss_rpn_box_reg": 0.0578
         },
         {
          "iter": 52300,
          "loss_rpn_box_reg": 0.0508
         },
         {
          "iter": 52400,
          "loss_rpn_box_reg": 0.1243
         },
         {
          "iter": 52500,
          "loss_rpn_box_reg": 0.011
         },
         {
          "iter": 52600,
          "loss_rpn_box_reg": 0.0865
         },
         {
          "iter": 52700,
          "loss_rpn_box_reg": 0.0465
         },
         {
          "iter": 52800,
          "loss_rpn_box_reg": 0.0468
         },
         {
          "iter": 52900,
          "loss_rpn_box_reg": 0.0494
         },
         {
          "iter": 53000,
          "loss_rpn_box_reg": 0.0858
         },
         {
          "iter": 53100,
          "loss_rpn_box_reg": 0.0414
         },
         {
          "iter": 53200,
          "loss_rpn_box_reg": 0.0934
         },
         {
          "iter": 53300,
          "loss_rpn_box_reg": 0.0259
         },
         {
          "iter": 53400,
          "loss_rpn_box_reg": 0.0395
         },
         {
          "iter": 53500,
          "loss_rpn_box_reg": 0.0288
         },
         {
          "iter": 53600,
          "loss_rpn_box_reg": 0.0912
         },
         {
          "iter": 53700,
          "loss_rpn_box_reg": 0.076
         },
         {
          "iter": 53800,
          "loss_rpn_box_reg": 0.0585
         },
         {
          "iter": 53900,
          "loss_rpn_box_reg": 0.098
         },
         {
          "iter": 54000,
          "loss_rpn_box_reg": 0.0618
         },
         {
          "iter": 54100,
          "loss_rpn_box_reg": 0.034
         },
         {
          "iter": 54200,
          "loss_rpn_box_reg": 0.0768
         },
         {
          "iter": 54300,
          "loss_rpn_box_reg": 0.0528
         },
         {
          "iter": 54400,
          "loss_rpn_box_reg": 0.051
         },
         {
          "iter": 54500,
          "loss_rpn_box_reg": 0.0505
         },
         {
          "iter": 54600,
          "loss_rpn_box_reg": 0.0566
         },
         {
          "iter": 54700,
          "loss_rpn_box_reg": 0.0188
         },
         {
          "iter": 54800,
          "loss_rpn_box_reg": 0.0314
         },
         {
          "iter": 54900,
          "loss_rpn_box_reg": 0.063
         },
         {
          "iter": 55000,
          "loss_rpn_box_reg": 0.024
         },
         {
          "iter": 55100,
          "loss_rpn_box_reg": 0.021
         },
         {
          "iter": 55200,
          "loss_rpn_box_reg": 0.0232
         },
         {
          "iter": 55300,
          "loss_rpn_box_reg": 0.0881
         },
         {
          "iter": 55400,
          "loss_rpn_box_reg": 0.0993
         },
         {
          "iter": 55500,
          "loss_rpn_box_reg": 0.1094
         },
         {
          "iter": 55600,
          "loss_rpn_box_reg": 0.1262
         },
         {
          "iter": 55700,
          "loss_rpn_box_reg": 0.1292
         },
         {
          "iter": 55800,
          "loss_rpn_box_reg": 0.0258
         },
         {
          "iter": 55900,
          "loss_rpn_box_reg": 0.0723
         },
         {
          "iter": 56000,
          "loss_rpn_box_reg": 0.0422
         },
         {
          "iter": 56100,
          "loss_rpn_box_reg": 0.133
         },
         {
          "iter": 56200,
          "loss_rpn_box_reg": 0.0341
         },
         {
          "iter": 56300,
          "loss_rpn_box_reg": 0.0103
         },
         {
          "iter": 56400,
          "loss_rpn_box_reg": 0.1738
         },
         {
          "iter": 56500,
          "loss_rpn_box_reg": 0.0852
         },
         {
          "iter": 56600,
          "loss_rpn_box_reg": 0.0409
         },
         {
          "iter": 56700,
          "loss_rpn_box_reg": 0.0158
         },
         {
          "iter": 56800,
          "loss_rpn_box_reg": 0.1275
         },
         {
          "iter": 56900,
          "loss_rpn_box_reg": 0.0156
         },
         {
          "iter": 57000,
          "loss_rpn_box_reg": 0.0259
         },
         {
          "iter": 57100,
          "loss_rpn_box_reg": 0.0545
         },
         {
          "iter": 57200,
          "loss_rpn_box_reg": 0.0143
         },
         {
          "iter": 57300,
          "loss_rpn_box_reg": 0.0447
         },
         {
          "iter": 57400,
          "loss_rpn_box_reg": 0.0501
         },
         {
          "iter": 57500,
          "loss_rpn_box_reg": 0.1079
         },
         {
          "iter": 57600,
          "loss_rpn_box_reg": 0.0187
         },
         {
          "iter": 57700,
          "loss_rpn_box_reg": 0.02
         },
         {
          "iter": 57800,
          "loss_rpn_box_reg": 0.0757
         },
         {
          "iter": 57900,
          "loss_rpn_box_reg": 0.1182
         },
         {
          "iter": 58000,
          "loss_rpn_box_reg": 0.0482
         },
         {
          "iter": 58100,
          "loss_rpn_box_reg": 0.0199
         },
         {
          "iter": 58200,
          "loss_rpn_box_reg": 0.0294
         },
         {
          "iter": 58300,
          "loss_rpn_box_reg": 0.1064
         },
         {
          "iter": 58400,
          "loss_rpn_box_reg": 0.0169
         },
         {
          "iter": 58500,
          "loss_rpn_box_reg": 0.0439
         },
         {
          "iter": 58600,
          "loss_rpn_box_reg": 0.1085
         },
         {
          "iter": 58700,
          "loss_rpn_box_reg": 0.0503
         },
         {
          "iter": 58800,
          "loss_rpn_box_reg": 0.0452
         },
         {
          "iter": 58900,
          "loss_rpn_box_reg": 0.0508
         },
         {
          "iter": 59000,
          "loss_rpn_box_reg": 0.072
         },
         {
          "iter": 59100,
          "loss_rpn_box_reg": 0.0405
         },
         {
          "iter": 59200,
          "loss_rpn_box_reg": 0.0622
         },
         {
          "iter": 59300,
          "loss_rpn_box_reg": 0.0219
         },
         {
          "iter": 59400,
          "loss_rpn_box_reg": 0.0464
         },
         {
          "iter": 59500,
          "loss_rpn_box_reg": 0.0483
         },
         {
          "iter": 59600,
          "loss_rpn_box_reg": 0.0675
         },
         {
          "iter": 59700,
          "loss_rpn_box_reg": 0.0708
         },
         {
          "iter": 59800,
          "loss_rpn_box_reg": 0.1162
         },
         {
          "iter": 59900,
          "loss_rpn_box_reg": 0.0657
         },
         {
          "iter": 60000,
          "loss_rpn_box_reg": 0.0196
         },
         {
          "iter": 60100,
          "loss_rpn_box_reg": 0.0218
         },
         {
          "iter": 60200,
          "loss_rpn_box_reg": 0.0577
         },
         {
          "iter": 60300,
          "loss_rpn_box_reg": 0.0594
         },
         {
          "iter": 60400,
          "loss_rpn_box_reg": 0.0351
         },
         {
          "iter": 60500,
          "loss_rpn_box_reg": 0.0308
         },
         {
          "iter": 60600,
          "loss_rpn_box_reg": 0.0328
         },
         {
          "iter": 60700,
          "loss_rpn_box_reg": 0.0213
         },
         {
          "iter": 60800,
          "loss_rpn_box_reg": 0.077
         },
         {
          "iter": 60900,
          "loss_rpn_box_reg": 0.1093
         },
         {
          "iter": 61000,
          "loss_rpn_box_reg": 0.0404
         },
         {
          "iter": 61100,
          "loss_rpn_box_reg": 0.1039
         },
         {
          "iter": 61200,
          "loss_rpn_box_reg": 0.0367
         },
         {
          "iter": 61300,
          "loss_rpn_box_reg": 0.0191
         },
         {
          "iter": 61400,
          "loss_rpn_box_reg": 0.0324
         },
         {
          "iter": 61500,
          "loss_rpn_box_reg": 0.0674
         },
         {
          "iter": 61600,
          "loss_rpn_box_reg": 0.0226
         },
         {
          "iter": 61700,
          "loss_rpn_box_reg": 0.0315
         },
         {
          "iter": 61800,
          "loss_rpn_box_reg": 0.0345
         },
         {
          "iter": 61900,
          "loss_rpn_box_reg": 0.0247
         },
         {
          "iter": 62000,
          "loss_rpn_box_reg": 0.038
         },
         {
          "iter": 62100,
          "loss_rpn_box_reg": 0.0271
         },
         {
          "iter": 62200,
          "loss_rpn_box_reg": 0.1307
         },
         {
          "iter": 62300,
          "loss_rpn_box_reg": 0.0389
         },
         {
          "iter": 62400,
          "loss_rpn_box_reg": 0.1044
         },
         {
          "iter": 62500,
          "loss_rpn_box_reg": 0.0363
         },
         {
          "iter": 62600,
          "loss_rpn_box_reg": 0.0556
         },
         {
          "iter": 62700,
          "loss_rpn_box_reg": 0.0427
         },
         {
          "iter": 62800,
          "loss_rpn_box_reg": 0.0965
         },
         {
          "iter": 62900,
          "loss_rpn_box_reg": 0.1057
         },
         {
          "iter": 63000,
          "loss_rpn_box_reg": 0.0515
         },
         {
          "iter": 63100,
          "loss_rpn_box_reg": 0.0226
         },
         {
          "iter": 63200,
          "loss_rpn_box_reg": 0.0324
         },
         {
          "iter": 63300,
          "loss_rpn_box_reg": 0.076
         },
         {
          "iter": 63400,
          "loss_rpn_box_reg": 0.052
         },
         {
          "iter": 63500,
          "loss_rpn_box_reg": 0.0306
         },
         {
          "iter": 63600,
          "loss_rpn_box_reg": 0.1529
         },
         {
          "iter": 63700,
          "loss_rpn_box_reg": 0.0694
         },
         {
          "iter": 63800,
          "loss_rpn_box_reg": 0.0341
         },
         {
          "iter": 63900,
          "loss_rpn_box_reg": 0.0604
         },
         {
          "iter": 64000,
          "loss_rpn_box_reg": 0.125
         },
         {
          "iter": 64100,
          "loss_rpn_box_reg": 0.0725
         },
         {
          "iter": 64200,
          "loss_rpn_box_reg": 0.095
         },
         {
          "iter": 64300,
          "loss_rpn_box_reg": 0.0771
         },
         {
          "iter": 64400,
          "loss_rpn_box_reg": 0.1336
         },
         {
          "iter": 64500,
          "loss_rpn_box_reg": 0.0948
         },
         {
          "iter": 64600,
          "loss_rpn_box_reg": 0.018
         },
         {
          "iter": 64700,
          "loss_rpn_box_reg": 0.0521
         },
         {
          "iter": 64800,
          "loss_rpn_box_reg": 0.0244
         },
         {
          "iter": 64900,
          "loss_rpn_box_reg": 0.0371
         },
         {
          "iter": 65000,
          "loss_rpn_box_reg": 0.0299
         },
         {
          "iter": 65100,
          "loss_rpn_box_reg": 0.0043
         },
         {
          "iter": 65200,
          "loss_rpn_box_reg": 0.0945
         },
         {
          "iter": 65300,
          "loss_rpn_box_reg": 0.1219
         },
         {
          "iter": 65400,
          "loss_rpn_box_reg": 0.0574
         },
         {
          "iter": 65500,
          "loss_rpn_box_reg": 0.1311
         },
         {
          "iter": 65600,
          "loss_rpn_box_reg": 0.0086
         },
         {
          "iter": 65700,
          "loss_rpn_box_reg": 0.0419
         },
         {
          "iter": 65800,
          "loss_rpn_box_reg": 0.0537
         },
         {
          "iter": 65900,
          "loss_rpn_box_reg": 0.0213
         },
         {
          "iter": 66000,
          "loss_rpn_box_reg": 0.1248
         },
         {
          "iter": 66100,
          "loss_rpn_box_reg": 0.1051
         },
         {
          "iter": 66200,
          "loss_rpn_box_reg": 0.0318
         },
         {
          "iter": 66300,
          "loss_rpn_box_reg": 0.0331
         },
         {
          "iter": 66400,
          "loss_rpn_box_reg": 0.1002
         },
         {
          "iter": 66500,
          "loss_rpn_box_reg": 0.024
         },
         {
          "iter": 66600,
          "loss_rpn_box_reg": 0.0495
         },
         {
          "iter": 66700,
          "loss_rpn_box_reg": 0.0371
         },
         {
          "iter": 66800,
          "loss_rpn_box_reg": 0.0969
         },
         {
          "iter": 66900,
          "loss_rpn_box_reg": 0.0554
         },
         {
          "iter": 67000,
          "loss_rpn_box_reg": 0.0828
         },
         {
          "iter": 67100,
          "loss_rpn_box_reg": 0.0763
         },
         {
          "iter": 67200,
          "loss_rpn_box_reg": 0.0332
         },
         {
          "iter": 67300,
          "loss_rpn_box_reg": 0.038
         },
         {
          "iter": 67400,
          "loss_rpn_box_reg": 0.0336
         },
         {
          "iter": 67500,
          "loss_rpn_box_reg": 0.0914
         },
         {
          "iter": 67600,
          "loss_rpn_box_reg": 0.0839
         },
         {
          "iter": 67700,
          "loss_rpn_box_reg": 0.056
         },
         {
          "iter": 67800,
          "loss_rpn_box_reg": 0.0496
         },
         {
          "iter": 67900,
          "loss_rpn_box_reg": 0.0375
         },
         {
          "iter": 68000,
          "loss_rpn_box_reg": 0.1013
         },
         {
          "iter": 68100,
          "loss_rpn_box_reg": 0.0356
         },
         {
          "iter": 68200,
          "loss_rpn_box_reg": 0.073
         },
         {
          "iter": 68300,
          "loss_rpn_box_reg": 0.0868
         },
         {
          "iter": 68400,
          "loss_rpn_box_reg": 0.011
         },
         {
          "iter": 68500,
          "loss_rpn_box_reg": 0.1069
         },
         {
          "iter": 68600,
          "loss_rpn_box_reg": 0.0464
         },
         {
          "iter": 68700,
          "loss_rpn_box_reg": 0.0399
         },
         {
          "iter": 68800,
          "loss_rpn_box_reg": 0.1253
         },
         {
          "iter": 68900,
          "loss_rpn_box_reg": 0.0116
         },
         {
          "iter": 69000,
          "loss_rpn_box_reg": 0.0133
         },
         {
          "iter": 69100,
          "loss_rpn_box_reg": 0.0466
         },
         {
          "iter": 69200,
          "loss_rpn_box_reg": 0.0975
         },
         {
          "iter": 69300,
          "loss_rpn_box_reg": 0.0708
         },
         {
          "iter": 69400,
          "loss_rpn_box_reg": 0.0582
         },
         {
          "iter": 69500,
          "loss_rpn_box_reg": 0.043
         },
         {
          "iter": 69600,
          "loss_rpn_box_reg": 0.0517
         },
         {
          "iter": 69700,
          "loss_rpn_box_reg": 0.0404
         },
         {
          "iter": 69800,
          "loss_rpn_box_reg": 0.1212
         },
         {
          "iter": 69900,
          "loss_rpn_box_reg": 0.0356
         },
         {
          "iter": 70000,
          "loss_rpn_box_reg": 0.0116
         },
         {
          "iter": 70100,
          "loss_rpn_box_reg": 0.0643
         },
         {
          "iter": 70200,
          "loss_rpn_box_reg": 0.009
         },
         {
          "iter": 70300,
          "loss_rpn_box_reg": 0.0889
         },
         {
          "iter": 70400,
          "loss_rpn_box_reg": 0.0281
         },
         {
          "iter": 70500,
          "loss_rpn_box_reg": 0.0289
         },
         {
          "iter": 70600,
          "loss_rpn_box_reg": 0.0528
         },
         {
          "iter": 70700,
          "loss_rpn_box_reg": 0.0293
         },
         {
          "iter": 70800,
          "loss_rpn_box_reg": 0.0631
         },
         {
          "iter": 70900,
          "loss_rpn_box_reg": 0.0449
         },
         {
          "iter": 71000,
          "loss_rpn_box_reg": 0.0583
         },
         {
          "iter": 71100,
          "loss_rpn_box_reg": 0.0316
         },
         {
          "iter": 71200,
          "loss_rpn_box_reg": 0.0253
         },
         {
          "iter": 71300,
          "loss_rpn_box_reg": 0.1094
         },
         {
          "iter": 71400,
          "loss_rpn_box_reg": 0.093
         },
         {
          "iter": 71500,
          "loss_rpn_box_reg": 0.0999
         },
         {
          "iter": 71600,
          "loss_rpn_box_reg": 0.0766
         },
         {
          "iter": 71700,
          "loss_rpn_box_reg": 0.036
         },
         {
          "iter": 71800,
          "loss_rpn_box_reg": 0.0686
         },
         {
          "iter": 71900,
          "loss_rpn_box_reg": 0.0694
         },
         {
          "iter": 72000,
          "loss_rpn_box_reg": 0.0472
         },
         {
          "iter": 72100,
          "loss_rpn_box_reg": 0.15
         },
         {
          "iter": 72200,
          "loss_rpn_box_reg": 0.0786
         },
         {
          "iter": 72300,
          "loss_rpn_box_reg": 0.0217
         },
         {
          "iter": 72400,
          "loss_rpn_box_reg": 0.0195
         },
         {
          "iter": 72500,
          "loss_rpn_box_reg": 0.0673
         },
         {
          "iter": 72600,
          "loss_rpn_box_reg": 0.0749
         },
         {
          "iter": 72700,
          "loss_rpn_box_reg": 0.0525
         },
         {
          "iter": 72800,
          "loss_rpn_box_reg": 0.0442
         },
         {
          "iter": 72900,
          "loss_rpn_box_reg": 0.0751
         },
         {
          "iter": 73000,
          "loss_rpn_box_reg": 0.0329
         },
         {
          "iter": 73100,
          "loss_rpn_box_reg": 0.1224
         },
         {
          "iter": 73200,
          "loss_rpn_box_reg": 0.0233
         },
         {
          "iter": 73300,
          "loss_rpn_box_reg": 0.0601
         },
         {
          "iter": 73400,
          "loss_rpn_box_reg": 0.0325
         },
         {
          "iter": 73500,
          "loss_rpn_box_reg": 0.0263
         },
         {
          "iter": 73600,
          "loss_rpn_box_reg": 0.0443
         },
         {
          "iter": 73700,
          "loss_rpn_box_reg": 0.0745
         },
         {
          "iter": 73800,
          "loss_rpn_box_reg": 0.0541
         },
         {
          "iter": 73900,
          "loss_rpn_box_reg": 0.0352
         },
         {
          "iter": 74000,
          "loss_rpn_box_reg": 0.047
         },
         {
          "iter": 74100,
          "loss_rpn_box_reg": 0.0283
         },
         {
          "iter": 74200,
          "loss_rpn_box_reg": 0.0203
         },
         {
          "iter": 74300,
          "loss_rpn_box_reg": 0.0256
         },
         {
          "iter": 74400,
          "loss_rpn_box_reg": 0.0736
         },
         {
          "iter": 74500,
          "loss_rpn_box_reg": 0.0355
         },
         {
          "iter": 74600,
          "loss_rpn_box_reg": 0.0973
         },
         {
          "iter": 74700,
          "loss_rpn_box_reg": 0.0413
         },
         {
          "iter": 74800,
          "loss_rpn_box_reg": 0.0332
         },
         {
          "iter": 74900,
          "loss_rpn_box_reg": 0.0216
         },
         {
          "iter": 75000,
          "loss_rpn_box_reg": 0.0202
         },
         {
          "iter": 75100,
          "loss_rpn_box_reg": 0.0489
         },
         {
          "iter": 75200,
          "loss_rpn_box_reg": 0.0316
         },
         {
          "iter": 75300,
          "loss_rpn_box_reg": 0.0465
         },
         {
          "iter": 75400,
          "loss_rpn_box_reg": 0.0848
         },
         {
          "iter": 75500,
          "loss_rpn_box_reg": 0.0391
         },
         {
          "iter": 75600,
          "loss_rpn_box_reg": 0.0275
         },
         {
          "iter": 75700,
          "loss_rpn_box_reg": 0.0303
         },
         {
          "iter": 75800,
          "loss_rpn_box_reg": 0.0435
         },
         {
          "iter": 75900,
          "loss_rpn_box_reg": 0.0669
         },
         {
          "iter": 76000,
          "loss_rpn_box_reg": 0.1252
         },
         {
          "iter": 76100,
          "loss_rpn_box_reg": 0.046
         },
         {
          "iter": 76200,
          "loss_rpn_box_reg": 0.0498
         },
         {
          "iter": 76300,
          "loss_rpn_box_reg": 0.0473
         },
         {
          "iter": 76400,
          "loss_rpn_box_reg": 0.0156
         },
         {
          "iter": 76500,
          "loss_rpn_box_reg": 0.1544
         },
         {
          "iter": 76600,
          "loss_rpn_box_reg": 0.0548
         },
         {
          "iter": 76700,
          "loss_rpn_box_reg": 0.0604
         },
         {
          "iter": 76800,
          "loss_rpn_box_reg": 0.0989
         },
         {
          "iter": 76900,
          "loss_rpn_box_reg": 0.0609
         },
         {
          "iter": 77000,
          "loss_rpn_box_reg": 0.0463
         },
         {
          "iter": 77100,
          "loss_rpn_box_reg": 0.12
         },
         {
          "iter": 77200,
          "loss_rpn_box_reg": 0.07
         },
         {
          "iter": 77300,
          "loss_rpn_box_reg": 0.0475
         },
         {
          "iter": 77400,
          "loss_rpn_box_reg": 0.0447
         },
         {
          "iter": 77500,
          "loss_rpn_box_reg": 0.0688
         },
         {
          "iter": 77600,
          "loss_rpn_box_reg": 0.0792
         }
        ]
       },
       "encoding": {
        "x": {
         "field": "iter",
         "type": "quantitative"
        },
        "y": {
         "field": "loss_rpn_box_reg",
         "type": "quantitative"
        }
       },
       "mark": "line"
      },
      "image/png": "[encoded data removed]",
      "text/plain": [
       "<VegaLite 3 object>\n",
       "\n",
       "If you see this message, it means the renderer has not been properly enabled\n",
       "for the frontend that you are using. For more information, see\n",
       "https://altair-viz.github.io/user_guide/troubleshooting.html\n"
      ]
     },
     "metadata": {},
     "output_type": "display_data"
    },
    {
     "data": {
      "application/vnd.vegalite.v3+json": {
       "$schema": "https://vega.github.io/schema/vega-lite/v3.4.0.json",
       "config": {
        "mark": {
         "tooltip": null
        },
        "view": {
         "height": 300,
         "width": 400
        }
       },
       "data": {
        "name": "data-1fe191c0b200adfd8c7e91a4e35c2e68"
       },
       "datasets": {
        "data-1fe191c0b200adfd8c7e91a4e35c2e68": [
         {
          "iter": 0,
          "loss_objectness": 0.7374
         },
         {
          "iter": 100,
          "loss_objectness": 0.2407
         },
         {
          "iter": 200,
          "loss_objectness": 0.1931
         },
         {
          "iter": 300,
          "loss_objectness": 0.264
         },
         {
          "iter": 400,
          "loss_objectness": 0.0691
         },
         {
          "iter": 500,
          "loss_objectness": 0.1274
         },
         {
          "iter": 600,
          "loss_objectness": 0.1259
         },
         {
          "iter": 700,
          "loss_objectness": 0.1036
         },
         {
          "iter": 800,
          "loss_objectness": 0.0933
         },
         {
          "iter": 900,
          "loss_objectness": 0.108
         },
         {
          "iter": 1000,
          "loss_objectness": 0.0578
         },
         {
          "iter": 1100,
          "loss_objectness": 0.0853
         },
         {
          "iter": 1200,
          "loss_objectness": 0.069
         },
         {
          "iter": 1300,
          "loss_objectness": 0.1226
         },
         {
          "iter": 1400,
          "loss_objectness": 0.2258
         },
         {
          "iter": 1500,
          "loss_objectness": 0.1329
         },
         {
          "iter": 1600,
          "loss_objectness": 0.0694
         },
         {
          "iter": 1700,
          "loss_objectness": 0.0931
         },
         {
          "iter": 1800,
          "loss_objectness": 0.0931
         },
         {
          "iter": 1900,
          "loss_objectness": 0.0417
         },
         {
          "iter": 2000,
          "loss_objectness": 0.1017
         },
         {
          "iter": 2100,
          "loss_objectness": 0.0629
         },
         {
          "iter": 2200,
          "loss_objectness": 0.0837
         },
         {
          "iter": 2300,
          "loss_objectness": 0.2223
         },
         {
          "iter": 2400,
          "loss_objectness": 0.0712
         },
         {
          "iter": 2500,
          "loss_objectness": 0.0895
         },
         {
          "iter": 2600,
          "loss_objectness": 0.0474
         },
         {
          "iter": 2700,
          "loss_objectness": 0.0875
         },
         {
          "iter": 2800,
          "loss_objectness": 0.0871
         },
         {
          "iter": 2900,
          "loss_objectness": 0.0832
         },
         {
          "iter": 3000,
          "loss_objectness": 0.1325
         },
         {
          "iter": 3100,
          "loss_objectness": 0.098
         },
         {
          "iter": 3200,
          "loss_objectness": 0.0374
         },
         {
          "iter": 3300,
          "loss_objectness": 0.0472
         },
         {
          "iter": 3400,
          "loss_objectness": 0.0775
         },
         {
          "iter": 3500,
          "loss_objectness": 0.0254
         },
         {
          "iter": 3600,
          "loss_objectness": 0.0662
         },
         {
          "iter": 3700,
          "loss_objectness": 0.0617
         },
         {
          "iter": 3800,
          "loss_objectness": 0.035
         },
         {
          "iter": 3900,
          "loss_objectness": 0.0905
         },
         {
          "iter": 4000,
          "loss_objectness": 0.0634
         },
         {
          "iter": 4100,
          "loss_objectness": 0.0494
         },
         {
          "iter": 4200,
          "loss_objectness": 0.1031
         },
         {
          "iter": 4300,
          "loss_objectness": 0.0782
         },
         {
          "iter": 4400,
          "loss_objectness": 0.0564
         },
         {
          "iter": 4500,
          "loss_objectness": 0.1202
         },
         {
          "iter": 4600,
          "loss_objectness": 0.0445
         },
         {
          "iter": 4700,
          "loss_objectness": 0.0472
         },
         {
          "iter": 4800,
          "loss_objectness": 0.0507
         },
         {
          "iter": 4900,
          "loss_objectness": 0.0846
         },
         {
          "iter": 5000,
          "loss_objectness": 0.0842
         },
         {
          "iter": 5100,
          "loss_objectness": 0.1111
         },
         {
          "iter": 5200,
          "loss_objectness": 0.1051
         },
         {
          "iter": 5300,
          "loss_objectness": 0.0483
         },
         {
          "iter": 5400,
          "loss_objectness": 0.0605
         },
         {
          "iter": 5500,
          "loss_objectness": 0.0826
         },
         {
          "iter": 5600,
          "loss_objectness": 0.0956
         },
         {
          "iter": 5700,
          "loss_objectness": 0.1238
         },
         {
          "iter": 5800,
          "loss_objectness": 0.068
         },
         {
          "iter": 5900,
          "loss_objectness": 0.0907
         },
         {
          "iter": 6000,
          "loss_objectness": 0.0238
         },
         {
          "iter": 6100,
          "loss_objectness": 0.0465
         },
         {
          "iter": 6200,
          "loss_objectness": 0.0338
         },
         {
          "iter": 6300,
          "loss_objectness": 0.0609
         },
         {
          "iter": 6400,
          "loss_objectness": 0.1731
         },
         {
          "iter": 6500,
          "loss_objectness": 0.1959
         },
         {
          "iter": 6600,
          "loss_objectness": 0.0512
         },
         {
          "iter": 6700,
          "loss_objectness": 0.0583
         },
         {
          "iter": 6800,
          "loss_objectness": 0.0639
         },
         {
          "iter": 6900,
          "loss_objectness": 0.0737
         },
         {
          "iter": 7000,
          "loss_objectness": 0.0499
         },
         {
          "iter": 7100,
          "loss_objectness": 0.1769
         },
         {
          "iter": 7200,
          "loss_objectness": 0.098
         },
         {
          "iter": 7300,
          "loss_objectness": 0.0823
         },
         {
          "iter": 7400,
          "loss_objectness": 0.1288
         },
         {
          "iter": 7500,
          "loss_objectness": 0.0717
         },
         {
          "iter": 7600,
          "loss_objectness": 0.089
         },
         {
          "iter": 7700,
          "loss_objectness": 0.1024
         },
         {
          "iter": 7800,
          "loss_objectness": 0.0545
         },
         {
          "iter": 7900,
          "loss_objectness": 0.0672
         },
         {
          "iter": 8000,
          "loss_objectness": 0.0936
         },
         {
          "iter": 8100,
          "loss_objectness": 0.0685
         },
         {
          "iter": 8200,
          "loss_objectness": 0.061
         },
         {
          "iter": 8300,
          "loss_objectness": 0.0878
         },
         {
          "iter": 8400,
          "loss_objectness": 0.0395
         },
         {
          "iter": 8500,
          "loss_objectness": 0.0542
         },
         {
          "iter": 8600,
          "loss_objectness": 0.0877
         },
         {
          "iter": 8700,
          "loss_objectness": 0.0323
         },
         {
          "iter": 8800,
          "loss_objectness": 0.1023
         },
         {
          "iter": 8900,
          "loss_objectness": 0.0759
         },
         {
          "iter": 9000,
          "loss_objectness": 0.0371
         },
         {
          "iter": 9100,
          "loss_objectness": 0.0955
         },
         {
          "iter": 9200,
          "loss_objectness": 0.0765
         },
         {
          "iter": 9300,
          "loss_objectness": 0.1134
         },
         {
          "iter": 9400,
          "loss_objectness": 0.1044
         },
         {
          "iter": 9500,
          "loss_objectness": 0.0824
         },
         {
          "iter": 9600,
          "loss_objectness": 0.0388
         },
         {
          "iter": 9700,
          "loss_objectness": 0.0291
         },
         {
          "iter": 9800,
          "loss_objectness": 0.079
         },
         {
          "iter": 9900,
          "loss_objectness": 0.0302
         },
         {
          "iter": 10000,
          "loss_objectness": 0.1158
         },
         {
          "iter": 10100,
          "loss_objectness": 0.1
         },
         {
          "iter": 10200,
          "loss_objectness": 0.0156
         },
         {
          "iter": 10300,
          "loss_objectness": 0.143
         },
         {
          "iter": 10400,
          "loss_objectness": 0.0453
         },
         {
          "iter": 10500,
          "loss_objectness": 0.0475
         },
         {
          "iter": 10600,
          "loss_objectness": 0.1311
         },
         {
          "iter": 10700,
          "loss_objectness": 0.0357
         },
         {
          "iter": 10800,
          "loss_objectness": 0.1118
         },
         {
          "iter": 10900,
          "loss_objectness": 0.1007
         },
         {
          "iter": 11000,
          "loss_objectness": 0.3969
         },
         {
          "iter": 11100,
          "loss_objectness": 0.0558
         },
         {
          "iter": 11200,
          "loss_objectness": 0.1492
         },
         {
          "iter": 11300,
          "loss_objectness": 0.0528
         },
         {
          "iter": 11400,
          "loss_objectness": 0.0549
         },
         {
          "iter": 11500,
          "loss_objectness": 0.0503
         },
         {
          "iter": 11600,
          "loss_objectness": 0.0646
         },
         {
          "iter": 11700,
          "loss_objectness": 0.1033
         },
         {
          "iter": 11800,
          "loss_objectness": 0.0342
         },
         {
          "iter": 11900,
          "loss_objectness": 0.0422
         },
         {
          "iter": 12000,
          "loss_objectness": 0.1445
         },
         {
          "iter": 12100,
          "loss_objectness": 0.0343
         },
         {
          "iter": 12200,
          "loss_objectness": 0.094
         },
         {
          "iter": 12300,
          "loss_objectness": 0.0803
         },
         {
          "iter": 12400,
          "loss_objectness": 0.0752
         },
         {
          "iter": 12500,
          "loss_objectness": 0.0981
         },
         {
          "iter": 12600,
          "loss_objectness": 0.0406
         },
         {
          "iter": 12700,
          "loss_objectness": 0.0431
         },
         {
          "iter": 12800,
          "loss_objectness": 0.0436
         },
         {
          "iter": 12900,
          "loss_objectness": 0.0481
         },
         {
          "iter": 13000,
          "loss_objectness": 0.0532
         },
         {
          "iter": 13100,
          "loss_objectness": 0.0709
         },
         {
          "iter": 13200,
          "loss_objectness": 0.056
         },
         {
          "iter": 13300,
          "loss_objectness": 0.0536
         },
         {
          "iter": 13400,
          "loss_objectness": 0.0496
         },
         {
          "iter": 13500,
          "loss_objectness": 0.1011
         },
         {
          "iter": 13600,
          "loss_objectness": 0.0371
         },
         {
          "iter": 13700,
          "loss_objectness": 0.0715
         },
         {
          "iter": 13800,
          "loss_objectness": 0.0484
         },
         {
          "iter": 13900,
          "loss_objectness": 0.0482
         },
         {
          "iter": 14000,
          "loss_objectness": 0.0755
         },
         {
          "iter": 14100,
          "loss_objectness": 0.0417
         },
         {
          "iter": 14200,
          "loss_objectness": 0.0452
         },
         {
          "iter": 14300,
          "loss_objectness": 0.0821
         },
         {
          "iter": 14400,
          "loss_objectness": 0.0416
         },
         {
          "iter": 14500,
          "loss_objectness": 0.0556
         },
         {
          "iter": 14600,
          "loss_objectness": 0.1243
         },
         {
          "iter": 14700,
          "loss_objectness": 0.0346
         },
         {
          "iter": 14800,
          "loss_objectness": 0.0874
         },
         {
          "iter": 14900,
          "loss_objectness": 0.0252
         },
         {
          "iter": 15000,
          "loss_objectness": 0.0471
         },
         {
          "iter": 15100,
          "loss_objectness": 0.0518
         },
         {
          "iter": 15200,
          "loss_objectness": 0.1079
         },
         {
          "iter": 15300,
          "loss_objectness": 0.072
         },
         {
          "iter": 15400,
          "loss_objectness": 0.0627
         },
         {
          "iter": 15500,
          "loss_objectness": 0.0692
         },
         {
          "iter": 15600,
          "loss_objectness": 0.0727
         },
         {
          "iter": 15700,
          "loss_objectness": 0.0822
         },
         {
          "iter": 15800,
          "loss_objectness": 0.114
         },
         {
          "iter": 15900,
          "loss_objectness": 0.11
         },
         {
          "iter": 16000,
          "loss_objectness": 0.0361
         },
         {
          "iter": 16100,
          "loss_objectness": 0.1778
         },
         {
          "iter": 16200,
          "loss_objectness": 0.1355
         },
         {
          "iter": 16300,
          "loss_objectness": 0.0312
         },
         {
          "iter": 16400,
          "loss_objectness": 0.0361
         },
         {
          "iter": 16500,
          "loss_objectness": 0.0809
         },
         {
          "iter": 16600,
          "loss_objectness": 0.071
         },
         {
          "iter": 16700,
          "loss_objectness": 0.0586
         },
         {
          "iter": 16800,
          "loss_objectness": 0.0289
         },
         {
          "iter": 16900,
          "loss_objectness": 0.1754
         },
         {
          "iter": 17000,
          "loss_objectness": 0.1295
         },
         {
          "iter": 17100,
          "loss_objectness": 0.044
         },
         {
          "iter": 17200,
          "loss_objectness": 0.1079
         },
         {
          "iter": 17300,
          "loss_objectness": 0.0695
         },
         {
          "iter": 17400,
          "loss_objectness": 0.0538
         },
         {
          "iter": 17500,
          "loss_objectness": 0.0341
         },
         {
          "iter": 17600,
          "loss_objectness": 0.0603
         },
         {
          "iter": 17700,
          "loss_objectness": 0.115
         },
         {
          "iter": 17800,
          "loss_objectness": 0.0246
         },
         {
          "iter": 17900,
          "loss_objectness": 0.0525
         },
         {
          "iter": 18000,
          "loss_objectness": 0.0371
         },
         {
          "iter": 18100,
          "loss_objectness": 0.0575
         },
         {
          "iter": 18200,
          "loss_objectness": 0.0587
         },
         {
          "iter": 18300,
          "loss_objectness": 0.0528
         },
         {
          "iter": 18400,
          "loss_objectness": 0.048
         },
         {
          "iter": 18500,
          "loss_objectness": 0.0509
         },
         {
          "iter": 18600,
          "loss_objectness": 0.1021
         },
         {
          "iter": 18700,
          "loss_objectness": 0.0335
         },
         {
          "iter": 18800,
          "loss_objectness": 0.0493
         },
         {
          "iter": 18900,
          "loss_objectness": 0.0698
         },
         {
          "iter": 19000,
          "loss_objectness": 0.052
         },
         {
          "iter": 19100,
          "loss_objectness": 0.0631
         },
         {
          "iter": 19200,
          "loss_objectness": 0.0532
         },
         {
          "iter": 19300,
          "loss_objectness": 0.0709
         },
         {
          "iter": 19400,
          "loss_objectness": 0.115
         },
         {
          "iter": 19500,
          "loss_objectness": 0.0368
         },
         {
          "iter": 19600,
          "loss_objectness": 0.0684
         },
         {
          "iter": 19700,
          "loss_objectness": 0.0705
         },
         {
          "iter": 19800,
          "loss_objectness": 0.0774
         },
         {
          "iter": 19900,
          "loss_objectness": 0.0754
         },
         {
          "iter": 20000,
          "loss_objectness": 0.0939
         },
         {
          "iter": 20100,
          "loss_objectness": 0.0928
         },
         {
          "iter": 20200,
          "loss_objectness": 0.0848
         },
         {
          "iter": 20300,
          "loss_objectness": 0.0568
         },
         {
          "iter": 20400,
          "loss_objectness": 0.1406
         },
         {
          "iter": 20500,
          "loss_objectness": 0.0397
         },
         {
          "iter": 20600,
          "loss_objectness": 0.0614
         },
         {
          "iter": 20700,
          "loss_objectness": 0.1144
         },
         {
          "iter": 20800,
          "loss_objectness": 0.0619
         },
         {
          "iter": 20900,
          "loss_objectness": 0.0541
         },
         {
          "iter": 21000,
          "loss_objectness": 0.0648
         },
         {
          "iter": 21100,
          "loss_objectness": 0.051
         },
         {
          "iter": 21200,
          "loss_objectness": 0.0389
         },
         {
          "iter": 21300,
          "loss_objectness": 0.0715
         },
         {
          "iter": 21400,
          "loss_objectness": 0.0336
         },
         {
          "iter": 21500,
          "loss_objectness": 0.0434
         },
         {
          "iter": 21600,
          "loss_objectness": 0.0836
         },
         {
          "iter": 21700,
          "loss_objectness": 0.0911
         },
         {
          "iter": 21800,
          "loss_objectness": 0.0623
         },
         {
          "iter": 21900,
          "loss_objectness": 0.067
         },
         {
          "iter": 22000,
          "loss_objectness": 0.0758
         },
         {
          "iter": 22100,
          "loss_objectness": 0.0393
         },
         {
          "iter": 22200,
          "loss_objectness": 0.135
         },
         {
          "iter": 22300,
          "loss_objectness": 0.0569
         },
         {
          "iter": 22400,
          "loss_objectness": 0.0545
         },
         {
          "iter": 22500,
          "loss_objectness": 0.1581
         },
         {
          "iter": 22600,
          "loss_objectness": 0.0799
         },
         {
          "iter": 22700,
          "loss_objectness": 0.0309
         },
         {
          "iter": 22800,
          "loss_objectness": 0.1451
         },
         {
          "iter": 22900,
          "loss_objectness": 0.0423
         },
         {
          "iter": 23000,
          "loss_objectness": 0.0441
         },
         {
          "iter": 23100,
          "loss_objectness": 0.0555
         },
         {
          "iter": 23200,
          "loss_objectness": 0.1273
         },
         {
          "iter": 23300,
          "loss_objectness": 0.0415
         },
         {
          "iter": 23400,
          "loss_objectness": 0.0638
         },
         {
          "iter": 23500,
          "loss_objectness": 0.0468
         },
         {
          "iter": 23600,
          "loss_objectness": 0.0515
         },
         {
          "iter": 23700,
          "loss_objectness": 0.1343
         },
         {
          "iter": 23800,
          "loss_objectness": 0.0704
         },
         {
          "iter": 23900,
          "loss_objectness": 0.0451
         },
         {
          "iter": 24000,
          "loss_objectness": 0.0672
         },
         {
          "iter": 24100,
          "loss_objectness": 0.0182
         },
         {
          "iter": 24200,
          "loss_objectness": 0.0392
         },
         {
          "iter": 24300,
          "loss_objectness": 0.0473
         },
         {
          "iter": 24400,
          "loss_objectness": 0.0822
         },
         {
          "iter": 24500,
          "loss_objectness": 0.0713
         },
         {
          "iter": 24600,
          "loss_objectness": 0.03
         },
         {
          "iter": 24700,
          "loss_objectness": 0.0289
         },
         {
          "iter": 24800,
          "loss_objectness": 0.0954
         },
         {
          "iter": 24900,
          "loss_objectness": 0.1033
         },
         {
          "iter": 25000,
          "loss_objectness": 0.0341
         },
         {
          "iter": 25100,
          "loss_objectness": 0.0253
         },
         {
          "iter": 25200,
          "loss_objectness": 0.0417
         },
         {
          "iter": 25300,
          "loss_objectness": 0.0828
         },
         {
          "iter": 25400,
          "loss_objectness": 0.0514
         },
         {
          "iter": 25500,
          "loss_objectness": 0.1214
         },
         {
          "iter": 25600,
          "loss_objectness": 0.0285
         },
         {
          "iter": 25700,
          "loss_objectness": 0.0525
         },
         {
          "iter": 25800,
          "loss_objectness": 0.0447
         },
         {
          "iter": 25900,
          "loss_objectness": 0.1211
         },
         {
          "iter": 26000,
          "loss_objectness": 0.0294
         },
         {
          "iter": 26100,
          "loss_objectness": 0.0593
         },
         {
          "iter": 26200,
          "loss_objectness": 0.0621
         },
         {
          "iter": 26300,
          "loss_objectness": 0.0484
         },
         {
          "iter": 26400,
          "loss_objectness": 0.0267
         },
         {
          "iter": 26500,
          "loss_objectness": 0.0344
         },
         {
          "iter": 26600,
          "loss_objectness": 0.0585
         },
         {
          "iter": 26700,
          "loss_objectness": 0.056
         },
         {
          "iter": 26800,
          "loss_objectness": 0.0348
         },
         {
          "iter": 26900,
          "loss_objectness": 0.0448
         },
         {
          "iter": 27000,
          "loss_objectness": 0.087
         },
         {
          "iter": 27100,
          "loss_objectness": 0.0687
         },
         {
          "iter": 27200,
          "loss_objectness": 0.0328
         },
         {
          "iter": 27300,
          "loss_objectness": 0.0564
         },
         {
          "iter": 27400,
          "loss_objectness": 0.0602
         },
         {
          "iter": 27500,
          "loss_objectness": 0.0693
         },
         {
          "iter": 27600,
          "loss_objectness": 0.0994
         },
         {
          "iter": 27700,
          "loss_objectness": 0.0721
         },
         {
          "iter": 27800,
          "loss_objectness": 0.0387
         },
         {
          "iter": 27900,
          "loss_objectness": 0.0844
         },
         {
          "iter": 28000,
          "loss_objectness": 0.0979
         },
         {
          "iter": 28100,
          "loss_objectness": 0.0323
         },
         {
          "iter": 28200,
          "loss_objectness": 0.0302
         },
         {
          "iter": 28300,
          "loss_objectness": 0.0819
         },
         {
          "iter": 28400,
          "loss_objectness": 0.0444
         },
         {
          "iter": 28500,
          "loss_objectness": 0.0564
         },
         {
          "iter": 28600,
          "loss_objectness": 0.0567
         },
         {
          "iter": 28700,
          "loss_objectness": 0.105
         },
         {
          "iter": 28800,
          "loss_objectness": 0.0604
         },
         {
          "iter": 28900,
          "loss_objectness": 0.0389
         },
         {
          "iter": 29000,
          "loss_objectness": 0.0623
         },
         {
          "iter": 29100,
          "loss_objectness": 0.0204
         },
         {
          "iter": 29200,
          "loss_objectness": 0.0475
         },
         {
          "iter": 29300,
          "loss_objectness": 0.0479
         },
         {
          "iter": 29400,
          "loss_objectness": 0.0365
         },
         {
          "iter": 29500,
          "loss_objectness": 0.1286
         },
         {
          "iter": 29600,
          "loss_objectness": 0.0321
         },
         {
          "iter": 29700,
          "loss_objectness": 0.0314
         },
         {
          "iter": 29800,
          "loss_objectness": 0.0371
         },
         {
          "iter": 29900,
          "loss_objectness": 0.0423
         },
         {
          "iter": 30000,
          "loss_objectness": 0.0588
         },
         {
          "iter": 30100,
          "loss_objectness": 0.0954
         },
         {
          "iter": 30200,
          "loss_objectness": 0.0421
         },
         {
          "iter": 30300,
          "loss_objectness": 0.0518
         },
         {
          "iter": 30400,
          "loss_objectness": 0.0337
         },
         {
          "iter": 30500,
          "loss_objectness": 0.0475
         },
         {
          "iter": 30600,
          "loss_objectness": 0.0283
         },
         {
          "iter": 30700,
          "loss_objectness": 0.0287
         },
         {
          "iter": 30800,
          "loss_objectness": 0.078
         },
         {
          "iter": 30900,
          "loss_objectness": 0.0281
         },
         {
          "iter": 31000,
          "loss_objectness": 0.07
         },
         {
          "iter": 31100,
          "loss_objectness": 0.0641
         },
         {
          "iter": 31200,
          "loss_objectness": 0.0728
         },
         {
          "iter": 31300,
          "loss_objectness": 0.0215
         },
         {
          "iter": 31400,
          "loss_objectness": 0.0526
         },
         {
          "iter": 31500,
          "loss_objectness": 0.055
         },
         {
          "iter": 31600,
          "loss_objectness": 0.0585
         },
         {
          "iter": 31700,
          "loss_objectness": 0.0512
         },
         {
          "iter": 31800,
          "loss_objectness": 0.0455
         },
         {
          "iter": 31900,
          "loss_objectness": 0.0411
         },
         {
          "iter": 32000,
          "loss_objectness": 0.025
         },
         {
          "iter": 32100,
          "loss_objectness": 0.066
         },
         {
          "iter": 32200,
          "loss_objectness": 0.0657
         },
         {
          "iter": 32300,
          "loss_objectness": 0.0594
         },
         {
          "iter": 32400,
          "loss_objectness": 0.0497
         },
         {
          "iter": 32500,
          "loss_objectness": 0.032
         },
         {
          "iter": 32600,
          "loss_objectness": 0.0753
         },
         {
          "iter": 32700,
          "loss_objectness": 0.0567
         },
         {
          "iter": 32800,
          "loss_objectness": 0.0471
         },
         {
          "iter": 32900,
          "loss_objectness": 0.1572
         },
         {
          "iter": 33000,
          "loss_objectness": 0.036
         },
         {
          "iter": 33100,
          "loss_objectness": 0.0828
         },
         {
          "iter": 33200,
          "loss_objectness": 0.0604
         },
         {
          "iter": 33300,
          "loss_objectness": 0.0288
         },
         {
          "iter": 33400,
          "loss_objectness": 0.0229
         },
         {
          "iter": 33500,
          "loss_objectness": 0.0256
         },
         {
          "iter": 33600,
          "loss_objectness": 0.073
         },
         {
          "iter": 33700,
          "loss_objectness": 0.0736
         },
         {
          "iter": 33800,
          "loss_objectness": 0.0504
         },
         {
          "iter": 33900,
          "loss_objectness": 0.0638
         },
         {
          "iter": 34000,
          "loss_objectness": 0.034
         },
         {
          "iter": 34100,
          "loss_objectness": 0.0702
         },
         {
          "iter": 34200,
          "loss_objectness": 0.0404
         },
         {
          "iter": 34300,
          "loss_objectness": 0.0761
         },
         {
          "iter": 34400,
          "loss_objectness": 0.0738
         },
         {
          "iter": 34500,
          "loss_objectness": 0.0414
         },
         {
          "iter": 34600,
          "loss_objectness": 0.0386
         },
         {
          "iter": 34700,
          "loss_objectness": 0.0389
         },
         {
          "iter": 34800,
          "loss_objectness": 0.069
         },
         {
          "iter": 34900,
          "loss_objectness": 0.1264
         },
         {
          "iter": 35000,
          "loss_objectness": 0.0522
         },
         {
          "iter": 35100,
          "loss_objectness": 0.0665
         },
         {
          "iter": 35200,
          "loss_objectness": 0.058
         },
         {
          "iter": 35300,
          "loss_objectness": 0.039
         },
         {
          "iter": 35400,
          "loss_objectness": 0.0465
         },
         {
          "iter": 35500,
          "loss_objectness": 0.0494
         },
         {
          "iter": 35600,
          "loss_objectness": 0.058
         },
         {
          "iter": 35700,
          "loss_objectness": 0.0498
         },
         {
          "iter": 35800,
          "loss_objectness": 0.0801
         },
         {
          "iter": 35900,
          "loss_objectness": 0.0661
         },
         {
          "iter": 36000,
          "loss_objectness": 0.0561
         },
         {
          "iter": 36100,
          "loss_objectness": 0.0462
         },
         {
          "iter": 36200,
          "loss_objectness": 0.0433
         },
         {
          "iter": 36300,
          "loss_objectness": 0.0701
         },
         {
          "iter": 36400,
          "loss_objectness": 0.0625
         },
         {
          "iter": 36500,
          "loss_objectness": 0.0448
         },
         {
          "iter": 36600,
          "loss_objectness": 0.0291
         },
         {
          "iter": 36700,
          "loss_objectness": 0.0545
         },
         {
          "iter": 36800,
          "loss_objectness": 0.0614
         },
         {
          "iter": 36900,
          "loss_objectness": 0.0622
         },
         {
          "iter": 37000,
          "loss_objectness": 0.0794
         },
         {
          "iter": 37100,
          "loss_objectness": 0.0325
         },
         {
          "iter": 37200,
          "loss_objectness": 0.1048
         },
         {
          "iter": 37300,
          "loss_objectness": 0.0234
         },
         {
          "iter": 37400,
          "loss_objectness": 0.0356
         },
         {
          "iter": 37500,
          "loss_objectness": 0.0494
         },
         {
          "iter": 37600,
          "loss_objectness": 0.0466
         },
         {
          "iter": 37700,
          "loss_objectness": 0.0424
         },
         {
          "iter": 37800,
          "loss_objectness": 0.0322
         },
         {
          "iter": 37900,
          "loss_objectness": 0.0761
         },
         {
          "iter": 38000,
          "loss_objectness": 0.0578
         },
         {
          "iter": 38100,
          "loss_objectness": 0.0591
         },
         {
          "iter": 38200,
          "loss_objectness": 0.026
         },
         {
          "iter": 38300,
          "loss_objectness": 0.2016
         },
         {
          "iter": 38400,
          "loss_objectness": 0.0278
         },
         {
          "iter": 38500,
          "loss_objectness": 0.0765
         },
         {
          "iter": 38600,
          "loss_objectness": 0.0451
         },
         {
          "iter": 38700,
          "loss_objectness": 0.0296
         },
         {
          "iter": 38800,
          "loss_objectness": 0.0284
         },
         {
          "iter": 38900,
          "loss_objectness": 0.0309
         },
         {
          "iter": 39000,
          "loss_objectness": 0.0529
         },
         {
          "iter": 39100,
          "loss_objectness": 0.0888
         },
         {
          "iter": 39200,
          "loss_objectness": 0.0687
         },
         {
          "iter": 39300,
          "loss_objectness": 0.0407
         },
         {
          "iter": 39400,
          "loss_objectness": 0.0423
         },
         {
          "iter": 39500,
          "loss_objectness": 0.0961
         },
         {
          "iter": 39600,
          "loss_objectness": 0.0219
         },
         {
          "iter": 39700,
          "loss_objectness": 0.0447
         },
         {
          "iter": 39800,
          "loss_objectness": 0.0404
         },
         {
          "iter": 39900,
          "loss_objectness": 0.0626
         },
         {
          "iter": 40000,
          "loss_objectness": 0.0294
         },
         {
          "iter": 40100,
          "loss_objectness": 0.0386
         },
         {
          "iter": 40200,
          "loss_objectness": 0.0605
         },
         {
          "iter": 40300,
          "loss_objectness": 0.056
         },
         {
          "iter": 40400,
          "loss_objectness": 0.0372
         },
         {
          "iter": 40500,
          "loss_objectness": 0.022
         },
         {
          "iter": 40600,
          "loss_objectness": 0.1132
         },
         {
          "iter": 40700,
          "loss_objectness": 0.0474
         },
         {
          "iter": 40800,
          "loss_objectness": 0.043
         },
         {
          "iter": 40900,
          "loss_objectness": 0.0597
         },
         {
          "iter": 41000,
          "loss_objectness": 0.0472
         },
         {
          "iter": 41100,
          "loss_objectness": 0.0238
         },
         {
          "iter": 41200,
          "loss_objectness": 0.0927
         },
         {
          "iter": 41300,
          "loss_objectness": 0.0372
         },
         {
          "iter": 41400,
          "loss_objectness": 0.0231
         },
         {
          "iter": 41500,
          "loss_objectness": 0.0539
         },
         {
          "iter": 41600,
          "loss_objectness": 0.0753
         },
         {
          "iter": 41700,
          "loss_objectness": 0.06
         },
         {
          "iter": 41800,
          "loss_objectness": 0.0325
         },
         {
          "iter": 41900,
          "loss_objectness": 0.0395
         },
         {
          "iter": 42000,
          "loss_objectness": 0.051
         },
         {
          "iter": 42100,
          "loss_objectness": 0.0225
         },
         {
          "iter": 42200,
          "loss_objectness": 0.0247
         },
         {
          "iter": 42300,
          "loss_objectness": 0.058
         },
         {
          "iter": 42400,
          "loss_objectness": 0.0223
         },
         {
          "iter": 42500,
          "loss_objectness": 0.0321
         },
         {
          "iter": 42600,
          "loss_objectness": 0.048
         },
         {
          "iter": 42700,
          "loss_objectness": 0.0396
         },
         {
          "iter": 42800,
          "loss_objectness": 0.0577
         },
         {
          "iter": 42900,
          "loss_objectness": 0.0462
         },
         {
          "iter": 43000,
          "loss_objectness": 0.0994
         },
         {
          "iter": 43100,
          "loss_objectness": 0.0371
         },
         {
          "iter": 43200,
          "loss_objectness": 0.0567
         },
         {
          "iter": 43300,
          "loss_objectness": 0.0627
         },
         {
          "iter": 43400,
          "loss_objectness": 0.0452
         },
         {
          "iter": 43500,
          "loss_objectness": 0.0697
         },
         {
          "iter": 43600,
          "loss_objectness": 0.0321
         },
         {
          "iter": 43700,
          "loss_objectness": 0.0415
         },
         {
          "iter": 43800,
          "loss_objectness": 0.0648
         },
         {
          "iter": 43900,
          "loss_objectness": 0.0367
         },
         {
          "iter": 44000,
          "loss_objectness": 0.0908
         },
         {
          "iter": 44100,
          "loss_objectness": 0.0305
         },
         {
          "iter": 44200,
          "loss_objectness": 0.0985
         },
         {
          "iter": 44300,
          "loss_objectness": 0.0423
         },
         {
          "iter": 44400,
          "loss_objectness": 0.0204
         },
         {
          "iter": 44500,
          "loss_objectness": 0.02
         },
         {
          "iter": 44600,
          "loss_objectness": 0.0485
         },
         {
          "iter": 44700,
          "loss_objectness": 0.0538
         },
         {
          "iter": 44800,
          "loss_objectness": 0.0515
         },
         {
          "iter": 44900,
          "loss_objectness": 0.0405
         },
         {
          "iter": 45000,
          "loss_objectness": 0.0431
         },
         {
          "iter": 45100,
          "loss_objectness": 0.0123
         },
         {
          "iter": 45200,
          "loss_objectness": 0.0765
         },
         {
          "iter": 45300,
          "loss_objectness": 0.1017
         },
         {
          "iter": 45400,
          "loss_objectness": 0.0506
         },
         {
          "iter": 45500,
          "loss_objectness": 0.1272
         },
         {
          "iter": 45600,
          "loss_objectness": 0.0451
         },
         {
          "iter": 45700,
          "loss_objectness": 0.0318
         },
         {
          "iter": 45800,
          "loss_objectness": 0.0525
         },
         {
          "iter": 45900,
          "loss_objectness": 0.0303
         },
         {
          "iter": 46000,
          "loss_objectness": 0.0613
         },
         {
          "iter": 46100,
          "loss_objectness": 0.0368
         },
         {
          "iter": 46200,
          "loss_objectness": 0.0503
         },
         {
          "iter": 46300,
          "loss_objectness": 0.0474
         },
         {
          "iter": 46400,
          "loss_objectness": 0.066
         },
         {
          "iter": 46500,
          "loss_objectness": 0.045
         },
         {
          "iter": 46600,
          "loss_objectness": 0.0439
         },
         {
          "iter": 46700,
          "loss_objectness": 0.0466
         },
         {
          "iter": 46800,
          "loss_objectness": 0.0391
         },
         {
          "iter": 46900,
          "loss_objectness": 0.0529
         },
         {
          "iter": 47000,
          "loss_objectness": 0.0382
         },
         {
          "iter": 47100,
          "loss_objectness": 0.0523
         },
         {
          "iter": 47200,
          "loss_objectness": 0.0783
         },
         {
          "iter": 47300,
          "loss_objectness": 0.0531
         },
         {
          "iter": 47400,
          "loss_objectness": 0.04
         },
         {
          "iter": 47500,
          "loss_objectness": 0.0324
         },
         {
          "iter": 47600,
          "loss_objectness": 0.0614
         },
         {
          "iter": 47700,
          "loss_objectness": 0.045
         },
         {
          "iter": 47800,
          "loss_objectness": 0.0208
         },
         {
          "iter": 47900,
          "loss_objectness": 0.0717
         },
         {
          "iter": 48000,
          "loss_objectness": 0.0413
         },
         {
          "iter": 48100,
          "loss_objectness": 0.0557
         },
         {
          "iter": 48200,
          "loss_objectness": 0.0327
         },
         {
          "iter": 48300,
          "loss_objectness": 0.0383
         },
         {
          "iter": 48400,
          "loss_objectness": 0.0497
         },
         {
          "iter": 48500,
          "loss_objectness": 0.0476
         },
         {
          "iter": 48600,
          "loss_objectness": 0.0446
         },
         {
          "iter": 48700,
          "loss_objectness": 0.0661
         },
         {
          "iter": 48800,
          "loss_objectness": 0.0573
         },
         {
          "iter": 48900,
          "loss_objectness": 0.0394
         },
         {
          "iter": 49000,
          "loss_objectness": 0.0896
         },
         {
          "iter": 49100,
          "loss_objectness": 0.0792
         },
         {
          "iter": 49200,
          "loss_objectness": 0.0623
         },
         {
          "iter": 49300,
          "loss_objectness": 0.0399
         },
         {
          "iter": 49400,
          "loss_objectness": 0.0401
         },
         {
          "iter": 49500,
          "loss_objectness": 0.0466
         },
         {
          "iter": 49600,
          "loss_objectness": 0.0573
         },
         {
          "iter": 49700,
          "loss_objectness": 0.048
         },
         {
          "iter": 49800,
          "loss_objectness": 0.0903
         },
         {
          "iter": 49900,
          "loss_objectness": 0.0236
         },
         {
          "iter": 50000,
          "loss_objectness": 0.0491
         },
         {
          "iter": 50100,
          "loss_objectness": 0.0124
         },
         {
          "iter": 50200,
          "loss_objectness": 0.0485
         },
         {
          "iter": 50300,
          "loss_objectness": 0.0618
         },
         {
          "iter": 50400,
          "loss_objectness": 0.045
         },
         {
          "iter": 50500,
          "loss_objectness": 0.0792
         },
         {
          "iter": 50600,
          "loss_objectness": 0.0187
         },
         {
          "iter": 50700,
          "loss_objectness": 0.0381
         },
         {
          "iter": 50800,
          "loss_objectness": 0.0348
         },
         {
          "iter": 50900,
          "loss_objectness": 0.0192
         },
         {
          "iter": 51000,
          "loss_objectness": 0.0533
         },
         {
          "iter": 51100,
          "loss_objectness": 0.0315
         },
         {
          "iter": 51200,
          "loss_objectness": 0.0339
         },
         {
          "iter": 51300,
          "loss_objectness": 0.0322
         },
         {
          "iter": 51400,
          "loss_objectness": 0.0632
         },
         {
          "iter": 51500,
          "loss_objectness": 0.0645
         },
         {
          "iter": 51600,
          "loss_objectness": 0.0481
         },
         {
          "iter": 51700,
          "loss_objectness": 0.0336
         },
         {
          "iter": 51800,
          "loss_objectness": 0.0302
         },
         {
          "iter": 51900,
          "loss_objectness": 0.033
         },
         {
          "iter": 52000,
          "loss_objectness": 0.0305
         },
         {
          "iter": 52100,
          "loss_objectness": 0.0292
         },
         {
          "iter": 52200,
          "loss_objectness": 0.04
         },
         {
          "iter": 52300,
          "loss_objectness": 0.0491
         },
         {
          "iter": 52400,
          "loss_objectness": 0.0868
         },
         {
          "iter": 52500,
          "loss_objectness": 0.0089
         },
         {
          "iter": 52600,
          "loss_objectness": 0.0815
         },
         {
          "iter": 52700,
          "loss_objectness": 0.026
         },
         {
          "iter": 52800,
          "loss_objectness": 0.0417
         },
         {
          "iter": 52900,
          "loss_objectness": 0.0438
         },
         {
          "iter": 53000,
          "loss_objectness": 0.037
         },
         {
          "iter": 53100,
          "loss_objectness": 0.1247
         },
         {
          "iter": 53200,
          "loss_objectness": 0.0146
         },
         {
          "iter": 53300,
          "loss_objectness": 0.0266
         },
         {
          "iter": 53400,
          "loss_objectness": 0.0295
         },
         {
          "iter": 53500,
          "loss_objectness": 0.0328
         },
         {
          "iter": 53600,
          "loss_objectness": 0.0694
         },
         {
          "iter": 53700,
          "loss_objectness": 0.052
         },
         {
          "iter": 53800,
          "loss_objectness": 0.0205
         },
         {
          "iter": 53900,
          "loss_objectness": 0.0597
         },
         {
          "iter": 54000,
          "loss_objectness": 0.0384
         },
         {
          "iter": 54100,
          "loss_objectness": 0.0191
         },
         {
          "iter": 54200,
          "loss_objectness": 0.0648
         },
         {
          "iter": 54300,
          "loss_objectness": 0.0307
         },
         {
          "iter": 54400,
          "loss_objectness": 0.0523
         },
         {
          "iter": 54500,
          "loss_objectness": 0.0278
         },
         {
          "iter": 54600,
          "loss_objectness": 0.1149
         },
         {
          "iter": 54700,
          "loss_objectness": 0.0266
         },
         {
          "iter": 54800,
          "loss_objectness": 0.0547
         },
         {
          "iter": 54900,
          "loss_objectness": 0.0325
         },
         {
          "iter": 55000,
          "loss_objectness": 0.0302
         },
         {
          "iter": 55100,
          "loss_objectness": 0.0347
         },
         {
          "iter": 55200,
          "loss_objectness": 0.0402
         },
         {
          "iter": 55300,
          "loss_objectness": 0.0261
         },
         {
          "iter": 55400,
          "loss_objectness": 0.0692
         },
         {
          "iter": 55500,
          "loss_objectness": 0.0316
         },
         {
          "iter": 55600,
          "loss_objectness": 0.0468
         },
         {
          "iter": 55700,
          "loss_objectness": 0.0606
         },
         {
          "iter": 55800,
          "loss_objectness": 0.0383
         },
         {
          "iter": 55900,
          "loss_objectness": 0.0753
         },
         {
          "iter": 56000,
          "loss_objectness": 0.0285
         },
         {
          "iter": 56100,
          "loss_objectness": 0.0285
         },
         {
          "iter": 56200,
          "loss_objectness": 0.0285
         },
         {
          "iter": 56300,
          "loss_objectness": 0.0364
         },
         {
          "iter": 56400,
          "loss_objectness": 0.0711
         },
         {
          "iter": 56500,
          "loss_objectness": 0.0399
         },
         {
          "iter": 56600,
          "loss_objectness": 0.0309
         },
         {
          "iter": 56700,
          "loss_objectness": 0.0374
         },
         {
          "iter": 56800,
          "loss_objectness": 0.0688
         },
         {
          "iter": 56900,
          "loss_objectness": 0.0229
         },
         {
          "iter": 57000,
          "loss_objectness": 0.028
         },
         {
          "iter": 57100,
          "loss_objectness": 0.0671
         },
         {
          "iter": 57200,
          "loss_objectness": 0.0284
         },
         {
          "iter": 57300,
          "loss_objectness": 0.0711
         },
         {
          "iter": 57400,
          "loss_objectness": 0.0457
         },
         {
          "iter": 57500,
          "loss_objectness": 0.1601
         },
         {
          "iter": 57600,
          "loss_objectness": 0.0167
         },
         {
          "iter": 57700,
          "loss_objectness": 0.0321
         },
         {
          "iter": 57800,
          "loss_objectness": 0.0663
         },
         {
          "iter": 57900,
          "loss_objectness": 0.0805
         },
         {
          "iter": 58000,
          "loss_objectness": 0.0409
         },
         {
          "iter": 58100,
          "loss_objectness": 0.0193
         },
         {
          "iter": 58200,
          "loss_objectness": 0.0273
         },
         {
          "iter": 58300,
          "loss_objectness": 0.0577
         },
         {
          "iter": 58400,
          "loss_objectness": 0.0417
         },
         {
          "iter": 58500,
          "loss_objectness": 0.0266
         },
         {
          "iter": 58600,
          "loss_objectness": 0.056
         },
         {
          "iter": 58700,
          "loss_objectness": 0.035
         },
         {
          "iter": 58800,
          "loss_objectness": 0.025
         },
         {
          "iter": 58900,
          "loss_objectness": 0.0325
         },
         {
          "iter": 59000,
          "loss_objectness": 0.068
         },
         {
          "iter": 59100,
          "loss_objectness": 0.0327
         },
         {
          "iter": 59200,
          "loss_objectness": 0.0633
         },
         {
          "iter": 59300,
          "loss_objectness": 0.0238
         },
         {
          "iter": 59400,
          "loss_objectness": 0.0582
         },
         {
          "iter": 59500,
          "loss_objectness": 0.0451
         },
         {
          "iter": 59600,
          "loss_objectness": 0.0521
         },
         {
          "iter": 59700,
          "loss_objectness": 0.04
         },
         {
          "iter": 59800,
          "loss_objectness": 0.1198
         },
         {
          "iter": 59900,
          "loss_objectness": 0.0763
         },
         {
          "iter": 60000,
          "loss_objectness": 0.0259
         },
         {
          "iter": 60100,
          "loss_objectness": 0.0389
         },
         {
          "iter": 60200,
          "loss_objectness": 0.057
         },
         {
          "iter": 60300,
          "loss_objectness": 0.0331
         },
         {
          "iter": 60400,
          "loss_objectness": 0.0232
         },
         {
          "iter": 60500,
          "loss_objectness": 0.064
         },
         {
          "iter": 60600,
          "loss_objectness": 0.0361
         },
         {
          "iter": 60700,
          "loss_objectness": 0.0218
         },
         {
          "iter": 60800,
          "loss_objectness": 0.0289
         },
         {
          "iter": 60900,
          "loss_objectness": 0.0418
         },
         {
          "iter": 61000,
          "loss_objectness": 0.0464
         },
         {
          "iter": 61100,
          "loss_objectness": 0.0872
         },
         {
          "iter": 61200,
          "loss_objectness": 0.0269
         },
         {
          "iter": 61300,
          "loss_objectness": 0.0313
         },
         {
          "iter": 61400,
          "loss_objectness": 0.0174
         },
         {
          "iter": 61500,
          "loss_objectness": 0.0374
         },
         {
          "iter": 61600,
          "loss_objectness": 0.0317
         },
         {
          "iter": 61700,
          "loss_objectness": 0.0365
         },
         {
          "iter": 61800,
          "loss_objectness": 0.0543
         },
         {
          "iter": 61900,
          "loss_objectness": 0.054
         },
         {
          "iter": 62000,
          "loss_objectness": 0.0358
         },
         {
          "iter": 62100,
          "loss_objectness": 0.0357
         },
         {
          "iter": 62200,
          "loss_objectness": 0.0531
         },
         {
          "iter": 62300,
          "loss_objectness": 0.0325
         },
         {
          "iter": 62400,
          "loss_objectness": 0.0477
         },
         {
          "iter": 62500,
          "loss_objectness": 0.0404
         },
         {
          "iter": 62600,
          "loss_objectness": 0.0719
         },
         {
          "iter": 62700,
          "loss_objectness": 0.0493
         },
         {
          "iter": 62800,
          "loss_objectness": 0.0474
         },
         {
          "iter": 62900,
          "loss_objectness": 0.0442
         },
         {
          "iter": 63000,
          "loss_objectness": 0.0326
         },
         {
          "iter": 63100,
          "loss_objectness": 0.0269
         },
         {
          "iter": 63200,
          "loss_objectness": 0.0314
         },
         {
          "iter": 63300,
          "loss_objectness": 0.0318
         },
         {
          "iter": 63400,
          "loss_objectness": 0.0577
         },
         {
          "iter": 63500,
          "loss_objectness": 0.0254
         },
         {
          "iter": 63600,
          "loss_objectness": 0.0899
         },
         {
          "iter": 63700,
          "loss_objectness": 0.0317
         },
         {
          "iter": 63800,
          "loss_objectness": 0.0371
         },
         {
          "iter": 63900,
          "loss_objectness": 0.0819
         },
         {
          "iter": 64000,
          "loss_objectness": 0.0607
         },
         {
          "iter": 64100,
          "loss_objectness": 0.0514
         },
         {
          "iter": 64200,
          "loss_objectness": 0.0735
         },
         {
          "iter": 64300,
          "loss_objectness": 0.0689
         },
         {
          "iter": 64400,
          "loss_objectness": 0.0796
         },
         {
          "iter": 64500,
          "loss_objectness": 0.0477
         },
         {
          "iter": 64600,
          "loss_objectness": 0.0192
         },
         {
          "iter": 64700,
          "loss_objectness": 0.0299
         },
         {
          "iter": 64800,
          "loss_objectness": 0.0216
         },
         {
          "iter": 64900,
          "loss_objectness": 0.0414
         },
         {
          "iter": 65000,
          "loss_objectness": 0.0195
         },
         {
          "iter": 65100,
          "loss_objectness": 0.008
         },
         {
          "iter": 65200,
          "loss_objectness": 0.0328
         },
         {
          "iter": 65300,
          "loss_objectness": 0.0879
         },
         {
          "iter": 65400,
          "loss_objectness": 0.0719
         },
         {
          "iter": 65500,
          "loss_objectness": 0.0487
         },
         {
          "iter": 65600,
          "loss_objectness": 0.0251
         },
         {
          "iter": 65700,
          "loss_objectness": 0.0296
         },
         {
          "iter": 65800,
          "loss_objectness": 0.0388
         },
         {
          "iter": 65900,
          "loss_objectness": 0.0417
         },
         {
          "iter": 66000,
          "loss_objectness": 0.0288
         },
         {
          "iter": 66100,
          "loss_objectness": 0.0517
         },
         {
          "iter": 66200,
          "loss_objectness": 0.0445
         },
         {
          "iter": 66300,
          "loss_objectness": 0.0201
         },
         {
          "iter": 66400,
          "loss_objectness": 0.0252
         },
         {
          "iter": 66500,
          "loss_objectness": 0.0261
         },
         {
          "iter": 66600,
          "loss_objectness": 0.0713
         },
         {
          "iter": 66700,
          "loss_objectness": 0.0303
         },
         {
          "iter": 66800,
          "loss_objectness": 0.0585
         },
         {
          "iter": 66900,
          "loss_objectness": 0.0561
         },
         {
          "iter": 67000,
          "loss_objectness": 0.0843
         },
         {
          "iter": 67100,
          "loss_objectness": 0.0269
         },
         {
          "iter": 67200,
          "loss_objectness": 0.0281
         },
         {
          "iter": 67300,
          "loss_objectness": 0.0528
         },
         {
          "iter": 67400,
          "loss_objectness": 0.0471
         },
         {
          "iter": 67500,
          "loss_objectness": 0.0599
         },
         {
          "iter": 67600,
          "loss_objectness": 0.0674
         },
         {
          "iter": 67700,
          "loss_objectness": 0.0181
         },
         {
          "iter": 67800,
          "loss_objectness": 0.0318
         },
         {
          "iter": 67900,
          "loss_objectness": 0.0555
         },
         {
          "iter": 68000,
          "loss_objectness": 0.1192
         },
         {
          "iter": 68100,
          "loss_objectness": 0.0438
         },
         {
          "iter": 68200,
          "loss_objectness": 0.0683
         },
         {
          "iter": 68300,
          "loss_objectness": 0.0411
         },
         {
          "iter": 68400,
          "loss_objectness": 0.0354
         },
         {
          "iter": 68500,
          "loss_objectness": 0.0213
         },
         {
          "iter": 68600,
          "loss_objectness": 0.0287
         },
         {
          "iter": 68700,
          "loss_objectness": 0.0364
         },
         {
          "iter": 68800,
          "loss_objectness": 0.0888
         },
         {
          "iter": 68900,
          "loss_objectness": 0.0174
         },
         {
          "iter": 69000,
          "loss_objectness": 0.0245
         },
         {
          "iter": 69100,
          "loss_objectness": 0.0299
         },
         {
          "iter": 69200,
          "loss_objectness": 0.0668
         },
         {
          "iter": 69300,
          "loss_objectness": 0.0829
         },
         {
          "iter": 69400,
          "loss_objectness": 0.0368
         },
         {
          "iter": 69500,
          "loss_objectness": 0.0442
         },
         {
          "iter": 69600,
          "loss_objectness": 0.0602
         },
         {
          "iter": 69700,
          "loss_objectness": 0.0345
         },
         {
          "iter": 69800,
          "loss_objectness": 0.1753
         },
         {
          "iter": 69900,
          "loss_objectness": 0.0337
         },
         {
          "iter": 70000,
          "loss_objectness": 0.0081
         },
         {
          "iter": 70100,
          "loss_objectness": 0.0208
         },
         {
          "iter": 70200,
          "loss_objectness": 0.0152
         },
         {
          "iter": 70300,
          "loss_objectness": 0.0497
         },
         {
          "iter": 70400,
          "loss_objectness": 0.0272
         },
         {
          "iter": 70500,
          "loss_objectness": 0.0303
         },
         {
          "iter": 70600,
          "loss_objectness": 0.0587
         },
         {
          "iter": 70700,
          "loss_objectness": 0.0359
         },
         {
          "iter": 70800,
          "loss_objectness": 0.0745
         },
         {
          "iter": 70900,
          "loss_objectness": 0.021
         },
         {
          "iter": 71000,
          "loss_objectness": 0.0717
         },
         {
          "iter": 71100,
          "loss_objectness": 0.0281
         },
         {
          "iter": 71200,
          "loss_objectness": 0.0481
         },
         {
          "iter": 71300,
          "loss_objectness": 0.0595
         },
         {
          "iter": 71400,
          "loss_objectness": 0.1485
         },
         {
          "iter": 71500,
          "loss_objectness": 0.0581
         },
         {
          "iter": 71600,
          "loss_objectness": 0.057
         },
         {
          "iter": 71700,
          "loss_objectness": 0.0473
         },
         {
          "iter": 71800,
          "loss_objectness": 0.0443
         },
         {
          "iter": 71900,
          "loss_objectness": 0.063
         },
         {
          "iter": 72000,
          "loss_objectness": 0.0283
         },
         {
          "iter": 72100,
          "loss_objectness": 0.0514
         },
         {
          "iter": 72200,
          "loss_objectness": 0.0725
         },
         {
          "iter": 72300,
          "loss_objectness": 0.0177
         },
         {
          "iter": 72400,
          "loss_objectness": 0.0354
         },
         {
          "iter": 72500,
          "loss_objectness": 0.0411
         },
         {
          "iter": 72600,
          "loss_objectness": 0.0571
         },
         {
          "iter": 72700,
          "loss_objectness": 0.0641
         },
         {
          "iter": 72800,
          "loss_objectness": 0.039
         },
         {
          "iter": 72900,
          "loss_objectness": 0.1121
         },
         {
          "iter": 73000,
          "loss_objectness": 0.0349
         },
         {
          "iter": 73100,
          "loss_objectness": 0.0951
         },
         {
          "iter": 73200,
          "loss_objectness": 0.0301
         },
         {
          "iter": 73300,
          "loss_objectness": 0.0714
         },
         {
          "iter": 73400,
          "loss_objectness": 0.0458
         },
         {
          "iter": 73500,
          "loss_objectness": 0.0193
         },
         {
          "iter": 73600,
          "loss_objectness": 0.0297
         },
         {
          "iter": 73700,
          "loss_objectness": 0.0703
         },
         {
          "iter": 73800,
          "loss_objectness": 0.0379
         },
         {
          "iter": 73900,
          "loss_objectness": 0.027
         },
         {
          "iter": 74000,
          "loss_objectness": 0.0587
         },
         {
          "iter": 74100,
          "loss_objectness": 0.048
         },
         {
          "iter": 74200,
          "loss_objectness": 0.0242
         },
         {
          "iter": 74300,
          "loss_objectness": 0.0205
         },
         {
          "iter": 74400,
          "loss_objectness": 0.056
         },
         {
          "iter": 74500,
          "loss_objectness": 0.0302
         },
         {
          "iter": 74600,
          "loss_objectness": 0.0547
         },
         {
          "iter": 74700,
          "loss_objectness": 0.0528
         },
         {
          "iter": 74800,
          "loss_objectness": 0.0143
         },
         {
          "iter": 74900,
          "loss_objectness": 0.0425
         },
         {
          "iter": 75000,
          "loss_objectness": 0.023
         },
         {
          "iter": 75100,
          "loss_objectness": 0.0613
         },
         {
          "iter": 75200,
          "loss_objectness": 0.0342
         },
         {
          "iter": 75300,
          "loss_objectness": 0.047
         },
         {
          "iter": 75400,
          "loss_objectness": 0.0732
         },
         {
          "iter": 75500,
          "loss_objectness": 0.0601
         },
         {
          "iter": 75600,
          "loss_objectness": 0.0479
         },
         {
          "iter": 75700,
          "loss_objectness": 0.035
         },
         {
          "iter": 75800,
          "loss_objectness": 0.1033
         },
         {
          "iter": 75900,
          "loss_objectness": 0.0606
         },
         {
          "iter": 76000,
          "loss_objectness": 0.1109
         },
         {
          "iter": 76100,
          "loss_objectness": 0.0228
         },
         {
          "iter": 76200,
          "loss_objectness": 0.042
         },
         {
          "iter": 76300,
          "loss_objectness": 0.0668
         },
         {
          "iter": 76400,
          "loss_objectness": 0.0164
         },
         {
          "iter": 76500,
          "loss_objectness": 0.076
         },
         {
          "iter": 76600,
          "loss_objectness": 0.0242
         },
         {
          "iter": 76700,
          "loss_objectness": 0.0447
         },
         {
          "iter": 76800,
          "loss_objectness": 0.063
         },
         {
          "iter": 76900,
          "loss_objectness": 0.0534
         },
         {
          "iter": 77000,
          "loss_objectness": 0.0322
         },
         {
          "iter": 77100,
          "loss_objectness": 0.0541
         },
         {
          "iter": 77200,
          "loss_objectness": 0.0239
         },
         {
          "iter": 77300,
          "loss_objectness": 0.0417
         },
         {
          "iter": 77400,
          "loss_objectness": 0.0191
         },
         {
          "iter": 77500,
          "loss_objectness": 0.0427
         },
         {
          "iter": 77600,
          "loss_objectness": 0.0666
         }
        ]
       },
       "encoding": {
        "x": {
         "field": "iter",
         "type": "quantitative"
        },
        "y": {
         "field": "loss_objectness",
         "type": "quantitative"
        }
       },
       "mark": "line"
      },
      "image/png": "[encoded data removed]",
      "text/plain": [
       "<VegaLite 3 object>\n",
       "\n",
       "If you see this message, it means the renderer has not been properly enabled\n",
       "for the frontend that you are using. For more information, see\n",
       "https://altair-viz.github.io/user_guide/troubleshooting.html\n"
      ]
     },
     "metadata": {},
     "output_type": "display_data"
    },
    {
     "data": {
      "application/vnd.vegalite.v3+json": {
       "$schema": "https://vega.github.io/schema/vega-lite/v3.4.0.json",
       "config": {
        "mark": {
         "tooltip": null
        },
        "view": {
         "height": 300,
         "width": 400
        }
       },
       "data": {
        "name": "data-61a31e7d54ca67203c0062c8469c2124"
       },
       "datasets": {
        "data-61a31e7d54ca67203c0062c8469c2124": [
         {
          "iter": 0,
          "loss_box_reg": 0
         },
         {
          "iter": 100,
          "loss_box_reg": 0.0789
         },
         {
          "iter": 200,
          "loss_box_reg": 0.1795
         },
         {
          "iter": 300,
          "loss_box_reg": 0.1659
         },
         {
          "iter": 400,
          "loss_box_reg": 0.2364
         },
         {
          "iter": 500,
          "loss_box_reg": 0.2105
         },
         {
          "iter": 600,
          "loss_box_reg": 0.1577
         },
         {
          "iter": 700,
          "loss_box_reg": 0.2477
         },
         {
          "iter": 800,
          "loss_box_reg": 0.2407
         },
         {
          "iter": 900,
          "loss_box_reg": 0.1764
         },
         {
          "iter": 1000,
          "loss_box_reg": 0.1418
         },
         {
          "iter": 1100,
          "loss_box_reg": 0.229
         },
         {
          "iter": 1200,
          "loss_box_reg": 0.1677
         },
         {
          "iter": 1300,
          "loss_box_reg": 0.1511
         },
         {
          "iter": 1400,
          "loss_box_reg": 0.1971
         },
         {
          "iter": 1500,
          "loss_box_reg": 0.1306
         },
         {
          "iter": 1600,
          "loss_box_reg": 0.1569
         },
         {
          "iter": 1700,
          "loss_box_reg": 0.1717
         },
         {
          "iter": 1800,
          "loss_box_reg": 0.2037
         },
         {
          "iter": 1900,
          "loss_box_reg": 0.1288
         },
         {
          "iter": 2000,
          "loss_box_reg": 0.148
         },
         {
          "iter": 2100,
          "loss_box_reg": 0.1753
         },
         {
          "iter": 2200,
          "loss_box_reg": 0.136
         },
         {
          "iter": 2300,
          "loss_box_reg": 0.1391
         },
         {
          "iter": 2400,
          "loss_box_reg": 0.1442
         },
         {
          "iter": 2500,
          "loss_box_reg": 0.2011
         },
         {
          "iter": 2600,
          "loss_box_reg": 0.1266
         },
         {
          "iter": 2700,
          "loss_box_reg": 0.1646
         },
         {
          "iter": 2800,
          "loss_box_reg": 0.116
         },
         {
          "iter": 2900,
          "loss_box_reg": 0.1273
         },
         {
          "iter": 3000,
          "loss_box_reg": 0.1911
         },
         {
          "iter": 3100,
          "loss_box_reg": 0.2108
         },
         {
          "iter": 3200,
          "loss_box_reg": 0.1409
         },
         {
          "iter": 3300,
          "loss_box_reg": 0.1783
         },
         {
          "iter": 3400,
          "loss_box_reg": 0.1312
         },
         {
          "iter": 3500,
          "loss_box_reg": 0.0925
         },
         {
          "iter": 3600,
          "loss_box_reg": 0.1507
         },
         {
          "iter": 3700,
          "loss_box_reg": 0.1309
         },
         {
          "iter": 3800,
          "loss_box_reg": 0.1004
         },
         {
          "iter": 3900,
          "loss_box_reg": 0.1183
         },
         {
          "iter": 4000,
          "loss_box_reg": 0.1571
         },
         {
          "iter": 4100,
          "loss_box_reg": 0.1219
         },
         {
          "iter": 4200,
          "loss_box_reg": 0.2044
         },
         {
          "iter": 4300,
          "loss_box_reg": 0.207
         },
         {
          "iter": 4400,
          "loss_box_reg": 0.1195
         },
         {
          "iter": 4500,
          "loss_box_reg": 0.1871
         },
         {
          "iter": 4600,
          "loss_box_reg": 0.121
         },
         {
          "iter": 4700,
          "loss_box_reg": 0.1074
         },
         {
          "iter": 4800,
          "loss_box_reg": 0.1356
         },
         {
          "iter": 4900,
          "loss_box_reg": 0.1806
         },
         {
          "iter": 5000,
          "loss_box_reg": 0.168
         },
         {
          "iter": 5100,
          "loss_box_reg": 0.1621
         },
         {
          "iter": 5200,
          "loss_box_reg": 0.1897
         },
         {
          "iter": 5300,
          "loss_box_reg": 0.0952
         },
         {
          "iter": 5400,
          "loss_box_reg": 0.1617
         },
         {
          "iter": 5500,
          "loss_box_reg": 0.1802
         },
         {
          "iter": 5600,
          "loss_box_reg": 0.1496
         },
         {
          "iter": 5700,
          "loss_box_reg": 0.1961
         },
         {
          "iter": 5800,
          "loss_box_reg": 0.0699
         },
         {
          "iter": 5900,
          "loss_box_reg": 0.1598
         },
         {
          "iter": 6000,
          "loss_box_reg": 0.0817
         },
         {
          "iter": 6100,
          "loss_box_reg": 0.1166
         },
         {
          "iter": 6200,
          "loss_box_reg": 0.0807
         },
         {
          "iter": 6300,
          "loss_box_reg": 0.1059
         },
         {
          "iter": 6400,
          "loss_box_reg": 0.1485
         },
         {
          "iter": 6500,
          "loss_box_reg": 0.0728
         },
         {
          "iter": 6600,
          "loss_box_reg": 0.1479
         },
         {
          "iter": 6700,
          "loss_box_reg": 0.1719
         },
         {
          "iter": 6800,
          "loss_box_reg": 0.1199
         },
         {
          "iter": 6900,
          "loss_box_reg": 0.1872
         },
         {
          "iter": 7000,
          "loss_box_reg": 0.1429
         },
         {
          "iter": 7100,
          "loss_box_reg": 0.1438
         },
         {
          "iter": 7200,
          "loss_box_reg": 0.1756
         },
         {
          "iter": 7300,
          "loss_box_reg": 0.1056
         },
         {
          "iter": 7400,
          "loss_box_reg": 0.1249
         },
         {
          "iter": 7500,
          "loss_box_reg": 0.1086
         },
         {
          "iter": 7600,
          "loss_box_reg": 0.161
         },
         {
          "iter": 7700,
          "loss_box_reg": 0.1413
         },
         {
          "iter": 7800,
          "loss_box_reg": 0.0982
         },
         {
          "iter": 7900,
          "loss_box_reg": 0.1431
         },
         {
          "iter": 8000,
          "loss_box_reg": 0.1468
         },
         {
          "iter": 8100,
          "loss_box_reg": 0.1066
         },
         {
          "iter": 8200,
          "loss_box_reg": 0.1811
         },
         {
          "iter": 8300,
          "loss_box_reg": 0.1673
         },
         {
          "iter": 8400,
          "loss_box_reg": 0.1023
         },
         {
          "iter": 8500,
          "loss_box_reg": 0.129
         },
         {
          "iter": 8600,
          "loss_box_reg": 0.1239
         },
         {
          "iter": 8700,
          "loss_box_reg": 0.1463
         },
         {
          "iter": 8800,
          "loss_box_reg": 0.1908
         },
         {
          "iter": 8900,
          "loss_box_reg": 0.1439
         },
         {
          "iter": 9000,
          "loss_box_reg": 0.1273
         },
         {
          "iter": 9100,
          "loss_box_reg": 0.1566
         },
         {
          "iter": 9200,
          "loss_box_reg": 0.1398
         },
         {
          "iter": 9300,
          "loss_box_reg": 0.0855
         },
         {
          "iter": 9400,
          "loss_box_reg": 0.1732
         },
         {
          "iter": 9500,
          "loss_box_reg": 0.1246
         },
         {
          "iter": 9600,
          "loss_box_reg": 0.1314
         },
         {
          "iter": 9700,
          "loss_box_reg": 0.0764
         },
         {
          "iter": 9800,
          "loss_box_reg": 0.2417
         },
         {
          "iter": 9900,
          "loss_box_reg": 0.1427
         },
         {
          "iter": 10000,
          "loss_box_reg": 0.1518
         },
         {
          "iter": 10100,
          "loss_box_reg": 0.2365
         },
         {
          "iter": 10200,
          "loss_box_reg": 0.0524
         },
         {
          "iter": 10300,
          "loss_box_reg": 0.2129
         },
         {
          "iter": 10400,
          "loss_box_reg": 0.1078
         },
         {
          "iter": 10500,
          "loss_box_reg": 0.0932
         },
         {
          "iter": 10600,
          "loss_box_reg": 0.117
         },
         {
          "iter": 10700,
          "loss_box_reg": 0.0923
         },
         {
          "iter": 10800,
          "loss_box_reg": 0.1723
         },
         {
          "iter": 10900,
          "loss_box_reg": 0.1417
         },
         {
          "iter": 11000,
          "loss_box_reg": 0.1458
         },
         {
          "iter": 11100,
          "loss_box_reg": 0.154
         },
         {
          "iter": 11200,
          "loss_box_reg": 0.1406
         },
         {
          "iter": 11300,
          "loss_box_reg": 0.1189
         },
         {
          "iter": 11400,
          "loss_box_reg": 0.125
         },
         {
          "iter": 11500,
          "loss_box_reg": 0.1417
         },
         {
          "iter": 11600,
          "loss_box_reg": 0.1102
         },
         {
          "iter": 11700,
          "loss_box_reg": 0.167
         },
         {
          "iter": 11800,
          "loss_box_reg": 0.0788
         },
         {
          "iter": 11900,
          "loss_box_reg": 0.135
         },
         {
          "iter": 12000,
          "loss_box_reg": 0.1864
         },
         {
          "iter": 12100,
          "loss_box_reg": 0.0777
         },
         {
          "iter": 12200,
          "loss_box_reg": 0.169
         },
         {
          "iter": 12300,
          "loss_box_reg": 0.1374
         },
         {
          "iter": 12400,
          "loss_box_reg": 0.1741
         },
         {
          "iter": 12500,
          "loss_box_reg": 0.1107
         },
         {
          "iter": 12600,
          "loss_box_reg": 0.0774
         },
         {
          "iter": 12700,
          "loss_box_reg": 0.1086
         },
         {
          "iter": 12800,
          "loss_box_reg": 0.1065
         },
         {
          "iter": 12900,
          "loss_box_reg": 0.1324
         },
         {
          "iter": 13000,
          "loss_box_reg": 0.1901
         },
         {
          "iter": 13100,
          "loss_box_reg": 0.1964
         },
         {
          "iter": 13200,
          "loss_box_reg": 0.218
         },
         {
          "iter": 13300,
          "loss_box_reg": 0.1659
         },
         {
          "iter": 13400,
          "loss_box_reg": 0.1091
         },
         {
          "iter": 13500,
          "loss_box_reg": 0.1274
         },
         {
          "iter": 13600,
          "loss_box_reg": 0.1115
         },
         {
          "iter": 13700,
          "loss_box_reg": 0.1467
         },
         {
          "iter": 13800,
          "loss_box_reg": 0.1151
         },
         {
          "iter": 13900,
          "loss_box_reg": 0.1166
         },
         {
          "iter": 14000,
          "loss_box_reg": 0.1243
         },
         {
          "iter": 14100,
          "loss_box_reg": 0.1251
         },
         {
          "iter": 14200,
          "loss_box_reg": 0.1271
         },
         {
          "iter": 14300,
          "loss_box_reg": 0.13
         },
         {
          "iter": 14400,
          "loss_box_reg": 0.1398
         },
         {
          "iter": 14500,
          "loss_box_reg": 0.1346
         },
         {
          "iter": 14600,
          "loss_box_reg": 0.1077
         },
         {
          "iter": 14700,
          "loss_box_reg": 0.0986
         },
         {
          "iter": 14800,
          "loss_box_reg": 0.1241
         },
         {
          "iter": 14900,
          "loss_box_reg": 0.0981
         },
         {
          "iter": 15000,
          "loss_box_reg": 0.1052
         },
         {
          "iter": 15100,
          "loss_box_reg": 0.1294
         },
         {
          "iter": 15200,
          "loss_box_reg": 0.1111
         },
         {
          "iter": 15300,
          "loss_box_reg": 0.0686
         },
         {
          "iter": 15400,
          "loss_box_reg": 0.1833
         },
         {
          "iter": 15500,
          "loss_box_reg": 0.1335
         },
         {
          "iter": 15600,
          "loss_box_reg": 0.1285
         },
         {
          "iter": 15700,
          "loss_box_reg": 0.159
         },
         {
          "iter": 15800,
          "loss_box_reg": 0.0899
         },
         {
          "iter": 15900,
          "loss_box_reg": 0.1243
         },
         {
          "iter": 16000,
          "loss_box_reg": 0.0953
         },
         {
          "iter": 16100,
          "loss_box_reg": 0.1264
         },
         {
          "iter": 16200,
          "loss_box_reg": 0.1434
         },
         {
          "iter": 16300,
          "loss_box_reg": 0.108
         },
         {
          "iter": 16400,
          "loss_box_reg": 0.1479
         },
         {
          "iter": 16500,
          "loss_box_reg": 0.1084
         },
         {
          "iter": 16600,
          "loss_box_reg": 0.1636
         },
         {
          "iter": 16700,
          "loss_box_reg": 0.1183
         },
         {
          "iter": 16800,
          "loss_box_reg": 0.0694
         },
         {
          "iter": 16900,
          "loss_box_reg": 0.1656
         },
         {
          "iter": 17000,
          "loss_box_reg": 0.1406
         },
         {
          "iter": 17100,
          "loss_box_reg": 0.1391
         },
         {
          "iter": 17200,
          "loss_box_reg": 0.2015
         },
         {
          "iter": 17300,
          "loss_box_reg": 0.1657
         },
         {
          "iter": 17400,
          "loss_box_reg": 0.0736
         },
         {
          "iter": 17500,
          "loss_box_reg": 0.0941
         },
         {
          "iter": 17600,
          "loss_box_reg": 0.0951
         },
         {
          "iter": 17700,
          "loss_box_reg": 0.2115
         },
         {
          "iter": 17800,
          "loss_box_reg": 0.1462
         },
         {
          "iter": 17900,
          "loss_box_reg": 0.164
         },
         {
          "iter": 18000,
          "loss_box_reg": 0.1216
         },
         {
          "iter": 18100,
          "loss_box_reg": 0.1658
         },
         {
          "iter": 18200,
          "loss_box_reg": 0.0888
         },
         {
          "iter": 18300,
          "loss_box_reg": 0.1452
         },
         {
          "iter": 18400,
          "loss_box_reg": 0.1355
         },
         {
          "iter": 18500,
          "loss_box_reg": 0.1071
         },
         {
          "iter": 18600,
          "loss_box_reg": 0.175
         },
         {
          "iter": 18700,
          "loss_box_reg": 0.0844
         },
         {
          "iter": 18800,
          "loss_box_reg": 0.0823
         },
         {
          "iter": 18900,
          "loss_box_reg": 0.0948
         },
         {
          "iter": 19000,
          "loss_box_reg": 0.1281
         },
         {
          "iter": 19100,
          "loss_box_reg": 0.1323
         },
         {
          "iter": 19200,
          "loss_box_reg": 0.1851
         },
         {
          "iter": 19300,
          "loss_box_reg": 0.1378
         },
         {
          "iter": 19400,
          "loss_box_reg": 0.1415
         },
         {
          "iter": 19500,
          "loss_box_reg": 0.1442
         },
         {
          "iter": 19600,
          "loss_box_reg": 0.1676
         },
         {
          "iter": 19700,
          "loss_box_reg": 0.116
         },
         {
          "iter": 19800,
          "loss_box_reg": 0.1382
         },
         {
          "iter": 19900,
          "loss_box_reg": 0.1212
         },
         {
          "iter": 20000,
          "loss_box_reg": 0.1398
         },
         {
          "iter": 20100,
          "loss_box_reg": 0.0869
         },
         {
          "iter": 20200,
          "loss_box_reg": 0.1175
         },
         {
          "iter": 20300,
          "loss_box_reg": 0.1062
         },
         {
          "iter": 20400,
          "loss_box_reg": 0.1876
         },
         {
          "iter": 20500,
          "loss_box_reg": 0.1689
         },
         {
          "iter": 20600,
          "loss_box_reg": 0.1085
         },
         {
          "iter": 20700,
          "loss_box_reg": 0.1309
         },
         {
          "iter": 20800,
          "loss_box_reg": 0.1147
         },
         {
          "iter": 20900,
          "loss_box_reg": 0.168
         },
         {
          "iter": 21000,
          "loss_box_reg": 0.1761
         },
         {
          "iter": 21100,
          "loss_box_reg": 0.1075
         },
         {
          "iter": 21200,
          "loss_box_reg": 0.1241
         },
         {
          "iter": 21300,
          "loss_box_reg": 0.1072
         },
         {
          "iter": 21400,
          "loss_box_reg": 0.107
         },
         {
          "iter": 21500,
          "loss_box_reg": 0.1162
         },
         {
          "iter": 21600,
          "loss_box_reg": 0.1473
         },
         {
          "iter": 21700,
          "loss_box_reg": 0.0669
         },
         {
          "iter": 21800,
          "loss_box_reg": 0.0946
         },
         {
          "iter": 21900,
          "loss_box_reg": 0.107
         },
         {
          "iter": 22000,
          "loss_box_reg": 0.1002
         },
         {
          "iter": 22100,
          "loss_box_reg": 0.1398
         },
         {
          "iter": 22200,
          "loss_box_reg": 0.1458
         },
         {
          "iter": 22300,
          "loss_box_reg": 0.1651
         },
         {
          "iter": 22400,
          "loss_box_reg": 0.1434
         },
         {
          "iter": 22500,
          "loss_box_reg": 0.1049
         },
         {
          "iter": 22600,
          "loss_box_reg": 0.1529
         },
         {
          "iter": 22700,
          "loss_box_reg": 0.0997
         },
         {
          "iter": 22800,
          "loss_box_reg": 0.1737
         },
         {
          "iter": 22900,
          "loss_box_reg": 0.1126
         },
         {
          "iter": 23000,
          "loss_box_reg": 0.0891
         },
         {
          "iter": 23100,
          "loss_box_reg": 0.1204
         },
         {
          "iter": 23200,
          "loss_box_reg": 0.1722
         },
         {
          "iter": 23300,
          "loss_box_reg": 0.1047
         },
         {
          "iter": 23400,
          "loss_box_reg": 0.1665
         },
         {
          "iter": 23500,
          "loss_box_reg": 0.0826
         },
         {
          "iter": 23600,
          "loss_box_reg": 0.1268
         },
         {
          "iter": 23700,
          "loss_box_reg": 0.1455
         },
         {
          "iter": 23800,
          "loss_box_reg": 0.1329
         },
         {
          "iter": 23900,
          "loss_box_reg": 0.1479
         },
         {
          "iter": 24000,
          "loss_box_reg": 0.1019
         },
         {
          "iter": 24100,
          "loss_box_reg": 0.1356
         },
         {
          "iter": 24200,
          "loss_box_reg": 0.0742
         },
         {
          "iter": 24300,
          "loss_box_reg": 0.1477
         },
         {
          "iter": 24400,
          "loss_box_reg": 0.0909
         },
         {
          "iter": 24500,
          "loss_box_reg": 0.1103
         },
         {
          "iter": 24600,
          "loss_box_reg": 0.0547
         },
         {
          "iter": 24700,
          "loss_box_reg": 0.1256
         },
         {
          "iter": 24800,
          "loss_box_reg": 0.1377
         },
         {
          "iter": 24900,
          "loss_box_reg": 0.1156
         },
         {
          "iter": 25000,
          "loss_box_reg": 0.0713
         },
         {
          "iter": 25100,
          "loss_box_reg": 0.1189
         },
         {
          "iter": 25200,
          "loss_box_reg": 0.1014
         },
         {
          "iter": 25300,
          "loss_box_reg": 0.1126
         },
         {
          "iter": 25400,
          "loss_box_reg": 0.1199
         },
         {
          "iter": 25500,
          "loss_box_reg": 0.1413
         },
         {
          "iter": 25600,
          "loss_box_reg": 0.1246
         },
         {
          "iter": 25700,
          "loss_box_reg": 0.0882
         },
         {
          "iter": 25800,
          "loss_box_reg": 0.1329
         },
         {
          "iter": 25900,
          "loss_box_reg": 0.1591
         },
         {
          "iter": 26000,
          "loss_box_reg": 0.0632
         },
         {
          "iter": 26100,
          "loss_box_reg": 0.1482
         },
         {
          "iter": 26200,
          "loss_box_reg": 0.1703
         },
         {
          "iter": 26300,
          "loss_box_reg": 0.1418
         },
         {
          "iter": 26400,
          "loss_box_reg": 0.0913
         },
         {
          "iter": 26500,
          "loss_box_reg": 0.0833
         },
         {
          "iter": 26600,
          "loss_box_reg": 0.1548
         },
         {
          "iter": 26700,
          "loss_box_reg": 0.1098
         },
         {
          "iter": 26800,
          "loss_box_reg": 0.1201
         },
         {
          "iter": 26900,
          "loss_box_reg": 0.0943
         },
         {
          "iter": 27000,
          "loss_box_reg": 0.1876
         },
         {
          "iter": 27100,
          "loss_box_reg": 0.0975
         },
         {
          "iter": 27200,
          "loss_box_reg": 0.076
         },
         {
          "iter": 27300,
          "loss_box_reg": 0.0936
         },
         {
          "iter": 27400,
          "loss_box_reg": 0.1135
         },
         {
          "iter": 27500,
          "loss_box_reg": 0.1273
         },
         {
          "iter": 27600,
          "loss_box_reg": 0.1371
         },
         {
          "iter": 27700,
          "loss_box_reg": 0.1308
         },
         {
          "iter": 27800,
          "loss_box_reg": 0.08
         },
         {
          "iter": 27900,
          "loss_box_reg": 0.1058
         },
         {
          "iter": 28000,
          "loss_box_reg": 0.117
         },
         {
          "iter": 28100,
          "loss_box_reg": 0.1013
         },
         {
          "iter": 28200,
          "loss_box_reg": 0.0704
         },
         {
          "iter": 28300,
          "loss_box_reg": 0.1354
         },
         {
          "iter": 28400,
          "loss_box_reg": 0.127
         },
         {
          "iter": 28500,
          "loss_box_reg": 0.1118
         },
         {
          "iter": 28600,
          "loss_box_reg": 0.1461
         },
         {
          "iter": 28700,
          "loss_box_reg": 0.1755
         },
         {
          "iter": 28800,
          "loss_box_reg": 0.1081
         },
         {
          "iter": 28900,
          "loss_box_reg": 0.0642
         },
         {
          "iter": 29000,
          "loss_box_reg": 0.1578
         },
         {
          "iter": 29100,
          "loss_box_reg": 0.0365
         },
         {
          "iter": 29200,
          "loss_box_reg": 0.0811
         },
         {
          "iter": 29300,
          "loss_box_reg": 0.1242
         },
         {
          "iter": 29400,
          "loss_box_reg": 0.0994
         },
         {
          "iter": 29500,
          "loss_box_reg": 0.1231
         },
         {
          "iter": 29600,
          "loss_box_reg": 0.1293
         },
         {
          "iter": 29700,
          "loss_box_reg": 0.1118
         },
         {
          "iter": 29800,
          "loss_box_reg": 0.1218
         },
         {
          "iter": 29900,
          "loss_box_reg": 0.1179
         },
         {
          "iter": 30000,
          "loss_box_reg": 0.1741
         },
         {
          "iter": 30100,
          "loss_box_reg": 0.1578
         },
         {
          "iter": 30200,
          "loss_box_reg": 0.0825
         },
         {
          "iter": 30300,
          "loss_box_reg": 0.1112
         },
         {
          "iter": 30400,
          "loss_box_reg": 0.1336
         },
         {
          "iter": 30500,
          "loss_box_reg": 0.14
         },
         {
          "iter": 30600,
          "loss_box_reg": 0.0744
         },
         {
          "iter": 30700,
          "loss_box_reg": 0.0665
         },
         {
          "iter": 30800,
          "loss_box_reg": 0.1363
         },
         {
          "iter": 30900,
          "loss_box_reg": 0.1343
         },
         {
          "iter": 31000,
          "loss_box_reg": 0.161
         },
         {
          "iter": 31100,
          "loss_box_reg": 0.1622
         },
         {
          "iter": 31200,
          "loss_box_reg": 0.0893
         },
         {
          "iter": 31300,
          "loss_box_reg": 0.0639
         },
         {
          "iter": 31400,
          "loss_box_reg": 0.1618
         },
         {
          "iter": 31500,
          "loss_box_reg": 0.0747
         },
         {
          "iter": 31600,
          "loss_box_reg": 0.1584
         },
         {
          "iter": 31700,
          "loss_box_reg": 0.1008
         },
         {
          "iter": 31800,
          "loss_box_reg": 0.1645
         },
         {
          "iter": 31900,
          "loss_box_reg": 0.1349
         },
         {
          "iter": 32000,
          "loss_box_reg": 0.0863
         },
         {
          "iter": 32100,
          "loss_box_reg": 0.1751
         },
         {
          "iter": 32200,
          "loss_box_reg": 0.1569
         },
         {
          "iter": 32300,
          "loss_box_reg": 0.0653
         },
         {
          "iter": 32400,
          "loss_box_reg": 0.1035
         },
         {
          "iter": 32500,
          "loss_box_reg": 0.1183
         },
         {
          "iter": 32600,
          "loss_box_reg": 0.1422
         },
         {
          "iter": 32700,
          "loss_box_reg": 0.1034
         },
         {
          "iter": 32800,
          "loss_box_reg": 0.0965
         },
         {
          "iter": 32900,
          "loss_box_reg": 0.1059
         },
         {
          "iter": 33000,
          "loss_box_reg": 0.1077
         },
         {
          "iter": 33100,
          "loss_box_reg": 0.1362
         },
         {
          "iter": 33200,
          "loss_box_reg": 0.1289
         },
         {
          "iter": 33300,
          "loss_box_reg": 0.1434
         },
         {
          "iter": 33400,
          "loss_box_reg": 0.0588
         },
         {
          "iter": 33500,
          "loss_box_reg": 0.1096
         },
         {
          "iter": 33600,
          "loss_box_reg": 0.1027
         },
         {
          "iter": 33700,
          "loss_box_reg": 0.1091
         },
         {
          "iter": 33800,
          "loss_box_reg": 0.0995
         },
         {
          "iter": 33900,
          "loss_box_reg": 0.1118
         },
         {
          "iter": 34000,
          "loss_box_reg": 0.1169
         },
         {
          "iter": 34100,
          "loss_box_reg": 0.1752
         },
         {
          "iter": 34200,
          "loss_box_reg": 0.1093
         },
         {
          "iter": 34300,
          "loss_box_reg": 0.1511
         },
         {
          "iter": 34400,
          "loss_box_reg": 0.2044
         },
         {
          "iter": 34500,
          "loss_box_reg": 0.0827
         },
         {
          "iter": 34600,
          "loss_box_reg": 0.1065
         },
         {
          "iter": 34700,
          "loss_box_reg": 0.1251
         },
         {
          "iter": 34800,
          "loss_box_reg": 0.1253
         },
         {
          "iter": 34900,
          "loss_box_reg": 0.1783
         },
         {
          "iter": 35000,
          "loss_box_reg": 0.0651
         },
         {
          "iter": 35100,
          "loss_box_reg": 0.1527
         },
         {
          "iter": 35200,
          "loss_box_reg": 0.142
         },
         {
          "iter": 35300,
          "loss_box_reg": 0.1338
         },
         {
          "iter": 35400,
          "loss_box_reg": 0.1405
         },
         {
          "iter": 35500,
          "loss_box_reg": 0.0921
         },
         {
          "iter": 35600,
          "loss_box_reg": 0.0844
         },
         {
          "iter": 35700,
          "loss_box_reg": 0.0885
         },
         {
          "iter": 35800,
          "loss_box_reg": 0.1062
         },
         {
          "iter": 35900,
          "loss_box_reg": 0.1024
         },
         {
          "iter": 36000,
          "loss_box_reg": 0.1173
         },
         {
          "iter": 36100,
          "loss_box_reg": 0.086
         },
         {
          "iter": 36200,
          "loss_box_reg": 0.1266
         },
         {
          "iter": 36300,
          "loss_box_reg": 0.1668
         },
         {
          "iter": 36400,
          "loss_box_reg": 0.0781
         },
         {
          "iter": 36500,
          "loss_box_reg": 0.0774
         },
         {
          "iter": 36600,
          "loss_box_reg": 0.1319
         },
         {
          "iter": 36700,
          "loss_box_reg": 0.1489
         },
         {
          "iter": 36800,
          "loss_box_reg": 0.1213
         },
         {
          "iter": 36900,
          "loss_box_reg": 0.104
         },
         {
          "iter": 37000,
          "loss_box_reg": 0.1236
         },
         {
          "iter": 37100,
          "loss_box_reg": 0.1656
         },
         {
          "iter": 37200,
          "loss_box_reg": 0.0993
         },
         {
          "iter": 37300,
          "loss_box_reg": 0.0717
         },
         {
          "iter": 37400,
          "loss_box_reg": 0.0862
         },
         {
          "iter": 37500,
          "loss_box_reg": 0.0918
         },
         {
          "iter": 37600,
          "loss_box_reg": 0.1499
         },
         {
          "iter": 37700,
          "loss_box_reg": 0.1274
         },
         {
          "iter": 37800,
          "loss_box_reg": 0.0807
         },
         {
          "iter": 37900,
          "loss_box_reg": 0.1167
         },
         {
          "iter": 38000,
          "loss_box_reg": 0.143
         },
         {
          "iter": 38100,
          "loss_box_reg": 0.1667
         },
         {
          "iter": 38200,
          "loss_box_reg": 0.1023
         },
         {
          "iter": 38300,
          "loss_box_reg": 0.1164
         },
         {
          "iter": 38400,
          "loss_box_reg": 0.0842
         },
         {
          "iter": 38500,
          "loss_box_reg": 0.1223
         },
         {
          "iter": 38600,
          "loss_box_reg": 0.0693
         },
         {
          "iter": 38700,
          "loss_box_reg": 0.1039
         },
         {
          "iter": 38800,
          "loss_box_reg": 0.0959
         },
         {
          "iter": 38900,
          "loss_box_reg": 0.1041
         },
         {
          "iter": 39000,
          "loss_box_reg": 0.0833
         },
         {
          "iter": 39100,
          "loss_box_reg": 0.1497
         },
         {
          "iter": 39200,
          "loss_box_reg": 0.1198
         },
         {
          "iter": 39300,
          "loss_box_reg": 0.1422
         },
         {
          "iter": 39400,
          "loss_box_reg": 0.0657
         },
         {
          "iter": 39500,
          "loss_box_reg": 0.1621
         },
         {
          "iter": 39600,
          "loss_box_reg": 0.0905
         },
         {
          "iter": 39700,
          "loss_box_reg": 0.1011
         },
         {
          "iter": 39800,
          "loss_box_reg": 0.127
         },
         {
          "iter": 39900,
          "loss_box_reg": 0.0847
         },
         {
          "iter": 40000,
          "loss_box_reg": 0.0926
         },
         {
          "iter": 40100,
          "loss_box_reg": 0.0722
         },
         {
          "iter": 40200,
          "loss_box_reg": 0.1431
         },
         {
          "iter": 40300,
          "loss_box_reg": 0.0933
         },
         {
          "iter": 40400,
          "loss_box_reg": 0.119
         },
         {
          "iter": 40500,
          "loss_box_reg": 0.0467
         },
         {
          "iter": 40600,
          "loss_box_reg": 0.1662
         },
         {
          "iter": 40700,
          "loss_box_reg": 0.0621
         },
         {
          "iter": 40800,
          "loss_box_reg": 0.1359
         },
         {
          "iter": 40900,
          "loss_box_reg": 0.1811
         },
         {
          "iter": 41000,
          "loss_box_reg": 0.1883
         },
         {
          "iter": 41100,
          "loss_box_reg": 0.0489
         },
         {
          "iter": 41200,
          "loss_box_reg": 0.1059
         },
         {
          "iter": 41300,
          "loss_box_reg": 0.0904
         },
         {
          "iter": 41400,
          "loss_box_reg": 0.1053
         },
         {
          "iter": 41500,
          "loss_box_reg": 0.1317
         },
         {
          "iter": 41600,
          "loss_box_reg": 0.1185
         },
         {
          "iter": 41700,
          "loss_box_reg": 0.1313
         },
         {
          "iter": 41800,
          "loss_box_reg": 0.1095
         },
         {
          "iter": 41900,
          "loss_box_reg": 0.1008
         },
         {
          "iter": 42000,
          "loss_box_reg": 0.0983
         },
         {
          "iter": 42100,
          "loss_box_reg": 0.1301
         },
         {
          "iter": 42200,
          "loss_box_reg": 0.0728
         },
         {
          "iter": 42300,
          "loss_box_reg": 0.1297
         },
         {
          "iter": 42400,
          "loss_box_reg": 0.1026
         },
         {
          "iter": 42500,
          "loss_box_reg": 0.1269
         },
         {
          "iter": 42600,
          "loss_box_reg": 0.099
         },
         {
          "iter": 42700,
          "loss_box_reg": 0.1581
         },
         {
          "iter": 42800,
          "loss_box_reg": 0.161
         },
         {
          "iter": 42900,
          "loss_box_reg": 0.0976
         },
         {
          "iter": 43000,
          "loss_box_reg": 0.1243
         },
         {
          "iter": 43100,
          "loss_box_reg": 0.0729
         },
         {
          "iter": 43200,
          "loss_box_reg": 0.0757
         },
         {
          "iter": 43300,
          "loss_box_reg": 0.1002
         },
         {
          "iter": 43400,
          "loss_box_reg": 0.1448
         },
         {
          "iter": 43500,
          "loss_box_reg": 0.1084
         },
         {
          "iter": 43600,
          "loss_box_reg": 0.0599
         },
         {
          "iter": 43700,
          "loss_box_reg": 0.059
         },
         {
          "iter": 43800,
          "loss_box_reg": 0.0896
         },
         {
          "iter": 43900,
          "loss_box_reg": 0.0964
         },
         {
          "iter": 44000,
          "loss_box_reg": 0.1606
         },
         {
          "iter": 44100,
          "loss_box_reg": 0.089
         },
         {
          "iter": 44200,
          "loss_box_reg": 0.0758
         },
         {
          "iter": 44300,
          "loss_box_reg": 0.1119
         },
         {
          "iter": 44400,
          "loss_box_reg": 0.0812
         },
         {
          "iter": 44500,
          "loss_box_reg": 0.0746
         },
         {
          "iter": 44600,
          "loss_box_reg": 0.0963
         },
         {
          "iter": 44700,
          "loss_box_reg": 0.1187
         },
         {
          "iter": 44800,
          "loss_box_reg": 0.0952
         },
         {
          "iter": 44900,
          "loss_box_reg": 0.1248
         },
         {
          "iter": 45000,
          "loss_box_reg": 0.1297
         },
         {
          "iter": 45100,
          "loss_box_reg": 0.0701
         },
         {
          "iter": 45200,
          "loss_box_reg": 0.138
         },
         {
          "iter": 45300,
          "loss_box_reg": 0.1405
         },
         {
          "iter": 45400,
          "loss_box_reg": 0.1314
         },
         {
          "iter": 45500,
          "loss_box_reg": 0.119
         },
         {
          "iter": 45600,
          "loss_box_reg": 0.1365
         },
         {
          "iter": 45700,
          "loss_box_reg": 0.1161
         },
         {
          "iter": 45800,
          "loss_box_reg": 0.074
         },
         {
          "iter": 45900,
          "loss_box_reg": 0.1214
         },
         {
          "iter": 46000,
          "loss_box_reg": 0.1329
         },
         {
          "iter": 46100,
          "loss_box_reg": 0.0999
         },
         {
          "iter": 46200,
          "loss_box_reg": 0.1058
         },
         {
          "iter": 46300,
          "loss_box_reg": 0.073
         },
         {
          "iter": 46400,
          "loss_box_reg": 0.1111
         },
         {
          "iter": 46500,
          "loss_box_reg": 0.1108
         },
         {
          "iter": 46600,
          "loss_box_reg": 0.1151
         },
         {
          "iter": 46700,
          "loss_box_reg": 0.1293
         },
         {
          "iter": 46800,
          "loss_box_reg": 0.1048
         },
         {
          "iter": 46900,
          "loss_box_reg": 0.0955
         },
         {
          "iter": 47000,
          "loss_box_reg": 0.1577
         },
         {
          "iter": 47100,
          "loss_box_reg": 0.0972
         },
         {
          "iter": 47200,
          "loss_box_reg": 0.1527
         },
         {
          "iter": 47300,
          "loss_box_reg": 0.121
         },
         {
          "iter": 47400,
          "loss_box_reg": 0.118
         },
         {
          "iter": 47500,
          "loss_box_reg": 0.1018
         },
         {
          "iter": 47600,
          "loss_box_reg": 0.1573
         },
         {
          "iter": 47700,
          "loss_box_reg": 0.0963
         },
         {
          "iter": 47800,
          "loss_box_reg": 0.0712
         },
         {
          "iter": 47900,
          "loss_box_reg": 0.108
         },
         {
          "iter": 48000,
          "loss_box_reg": 0.0922
         },
         {
          "iter": 48100,
          "loss_box_reg": 0.1004
         },
         {
          "iter": 48200,
          "loss_box_reg": 0.0902
         },
         {
          "iter": 48300,
          "loss_box_reg": 0.0786
         },
         {
          "iter": 48400,
          "loss_box_reg": 0.1514
         },
         {
          "iter": 48500,
          "loss_box_reg": 0.096
         },
         {
          "iter": 48600,
          "loss_box_reg": 0.1023
         },
         {
          "iter": 48700,
          "loss_box_reg": 0.1284
         },
         {
          "iter": 48800,
          "loss_box_reg": 0.1118
         },
         {
          "iter": 48900,
          "loss_box_reg": 0.1073
         },
         {
          "iter": 49000,
          "loss_box_reg": 0.1427
         },
         {
          "iter": 49100,
          "loss_box_reg": 0.1648
         },
         {
          "iter": 49200,
          "loss_box_reg": 0.1275
         },
         {
          "iter": 49300,
          "loss_box_reg": 0.1195
         },
         {
          "iter": 49400,
          "loss_box_reg": 0.0911
         },
         {
          "iter": 49500,
          "loss_box_reg": 0.0804
         },
         {
          "iter": 49600,
          "loss_box_reg": 0.079
         },
         {
          "iter": 49700,
          "loss_box_reg": 0.113
         },
         {
          "iter": 49800,
          "loss_box_reg": 0.0796
         },
         {
          "iter": 49900,
          "loss_box_reg": 0.1181
         },
         {
          "iter": 50000,
          "loss_box_reg": 0.059
         },
         {
          "iter": 50100,
          "loss_box_reg": 0.0451
         },
         {
          "iter": 50200,
          "loss_box_reg": 0.0843
         },
         {
          "iter": 50300,
          "loss_box_reg": 0.1704
         },
         {
          "iter": 50400,
          "loss_box_reg": 0.1057
         },
         {
          "iter": 50500,
          "loss_box_reg": 0.12
         },
         {
          "iter": 50600,
          "loss_box_reg": 0.0795
         },
         {
          "iter": 50700,
          "loss_box_reg": 0.0978
         },
         {
          "iter": 50800,
          "loss_box_reg": 0.0873
         },
         {
          "iter": 50900,
          "loss_box_reg": 0.1129
         },
         {
          "iter": 51000,
          "loss_box_reg": 0.1353
         },
         {
          "iter": 51100,
          "loss_box_reg": 0.0699
         },
         {
          "iter": 51200,
          "loss_box_reg": 0.107
         },
         {
          "iter": 51300,
          "loss_box_reg": 0.0868
         },
         {
          "iter": 51400,
          "loss_box_reg": 0.1741
         },
         {
          "iter": 51500,
          "loss_box_reg": 0.1024
         },
         {
          "iter": 51600,
          "loss_box_reg": 0.1071
         },
         {
          "iter": 51700,
          "loss_box_reg": 0.1073
         },
         {
          "iter": 51800,
          "loss_box_reg": 0.1118
         },
         {
          "iter": 51900,
          "loss_box_reg": 0.0946
         },
         {
          "iter": 52000,
          "loss_box_reg": 0.1131
         },
         {
          "iter": 52100,
          "loss_box_reg": 0.0938
         },
         {
          "iter": 52200,
          "loss_box_reg": 0.2067
         },
         {
          "iter": 52300,
          "loss_box_reg": 0.0951
         },
         {
          "iter": 52400,
          "loss_box_reg": 0.1382
         },
         {
          "iter": 52500,
          "loss_box_reg": 0.0763
         },
         {
          "iter": 52600,
          "loss_box_reg": 0.1869
         },
         {
          "iter": 52700,
          "loss_box_reg": 0.0756
         },
         {
          "iter": 52800,
          "loss_box_reg": 0.0971
         },
         {
          "iter": 52900,
          "loss_box_reg": 0.1313
         },
         {
          "iter": 53000,
          "loss_box_reg": 0.1056
         },
         {
          "iter": 53100,
          "loss_box_reg": 0.1054
         },
         {
          "iter": 53200,
          "loss_box_reg": 0.0755
         },
         {
          "iter": 53300,
          "loss_box_reg": 0.0652
         },
         {
          "iter": 53400,
          "loss_box_reg": 0.0852
         },
         {
          "iter": 53500,
          "loss_box_reg": 0.1454
         },
         {
          "iter": 53600,
          "loss_box_reg": 0.1274
         },
         {
          "iter": 53700,
          "loss_box_reg": 0.1112
         },
         {
          "iter": 53800,
          "loss_box_reg": 0.0871
         },
         {
          "iter": 53900,
          "loss_box_reg": 0.1615
         },
         {
          "iter": 54000,
          "loss_box_reg": 0.1083
         },
         {
          "iter": 54100,
          "loss_box_reg": 0.073
         },
         {
          "iter": 54200,
          "loss_box_reg": 0.1383
         },
         {
          "iter": 54300,
          "loss_box_reg": 0.1037
         },
         {
          "iter": 54400,
          "loss_box_reg": 0.0644
         },
         {
          "iter": 54500,
          "loss_box_reg": 0.1102
         },
         {
          "iter": 54600,
          "loss_box_reg": 0.1301
         },
         {
          "iter": 54700,
          "loss_box_reg": 0.1139
         },
         {
          "iter": 54800,
          "loss_box_reg": 0.0973
         },
         {
          "iter": 54900,
          "loss_box_reg": 0.0976
         },
         {
          "iter": 55000,
          "loss_box_reg": 0.1588
         },
         {
          "iter": 55100,
          "loss_box_reg": 0.0581
         },
         {
          "iter": 55200,
          "loss_box_reg": 0.1032
         },
         {
          "iter": 55300,
          "loss_box_reg": 0.1045
         },
         {
          "iter": 55400,
          "loss_box_reg": 0.0659
         },
         {
          "iter": 55500,
          "loss_box_reg": 0.0699
         },
         {
          "iter": 55600,
          "loss_box_reg": 0.1336
         },
         {
          "iter": 55700,
          "loss_box_reg": 0.1528
         },
         {
          "iter": 55800,
          "loss_box_reg": 0.1338
         },
         {
          "iter": 55900,
          "loss_box_reg": 0.1046
         },
         {
          "iter": 56000,
          "loss_box_reg": 0.1062
         },
         {
          "iter": 56100,
          "loss_box_reg": 0.0851
         },
         {
          "iter": 56200,
          "loss_box_reg": 0.0827
         },
         {
          "iter": 56300,
          "loss_box_reg": 0.0652
         },
         {
          "iter": 56400,
          "loss_box_reg": 0.1622
         },
         {
          "iter": 56500,
          "loss_box_reg": 0.1433
         },
         {
          "iter": 56600,
          "loss_box_reg": 0.1018
         },
         {
          "iter": 56700,
          "loss_box_reg": 0.0736
         },
         {
          "iter": 56800,
          "loss_box_reg": 0.0415
         },
         {
          "iter": 56900,
          "loss_box_reg": 0.069
         },
         {
          "iter": 57000,
          "loss_box_reg": 0.0668
         },
         {
          "iter": 57100,
          "loss_box_reg": 0.1077
         },
         {
          "iter": 57200,
          "loss_box_reg": 0.0711
         },
         {
          "iter": 57300,
          "loss_box_reg": 0.0968
         },
         {
          "iter": 57400,
          "loss_box_reg": 0.1176
         },
         {
          "iter": 57500,
          "loss_box_reg": 0.1045
         },
         {
          "iter": 57600,
          "loss_box_reg": 0.0733
         },
         {
          "iter": 57700,
          "loss_box_reg": 0.0879
         },
         {
          "iter": 57800,
          "loss_box_reg": 0.1514
         },
         {
          "iter": 57900,
          "loss_box_reg": 0.1285
         },
         {
          "iter": 58000,
          "loss_box_reg": 0.089
         },
         {
          "iter": 58100,
          "loss_box_reg": 0.0829
         },
         {
          "iter": 58200,
          "loss_box_reg": 0.1037
         },
         {
          "iter": 58300,
          "loss_box_reg": 0.1168
         },
         {
          "iter": 58400,
          "loss_box_reg": 0.1495
         },
         {
          "iter": 58500,
          "loss_box_reg": 0.1101
         },
         {
          "iter": 58600,
          "loss_box_reg": 0.0936
         },
         {
          "iter": 58700,
          "loss_box_reg": 0.1296
         },
         {
          "iter": 58800,
          "loss_box_reg": 0.0393
         },
         {
          "iter": 58900,
          "loss_box_reg": 0.0956
         },
         {
          "iter": 59000,
          "loss_box_reg": 0.1951
         },
         {
          "iter": 59100,
          "loss_box_reg": 0.117
         },
         {
          "iter": 59200,
          "loss_box_reg": 0.1529
         },
         {
          "iter": 59300,
          "loss_box_reg": 0.0683
         },
         {
          "iter": 59400,
          "loss_box_reg": 0.1196
         },
         {
          "iter": 59500,
          "loss_box_reg": 0.1447
         },
         {
          "iter": 59600,
          "loss_box_reg": 0.1381
         },
         {
          "iter": 59700,
          "loss_box_reg": 0.1292
         },
         {
          "iter": 59800,
          "loss_box_reg": 0.0843
         },
         {
          "iter": 59900,
          "loss_box_reg": 0.1455
         },
         {
          "iter": 60000,
          "loss_box_reg": 0.0812
         },
         {
          "iter": 60100,
          "loss_box_reg": 0.1402
         },
         {
          "iter": 60200,
          "loss_box_reg": 0.1198
         },
         {
          "iter": 60300,
          "loss_box_reg": 0.0666
         },
         {
          "iter": 60400,
          "loss_box_reg": 0.0507
         },
         {
          "iter": 60500,
          "loss_box_reg": 0.0726
         },
         {
          "iter": 60600,
          "loss_box_reg": 0.0855
         },
         {
          "iter": 60700,
          "loss_box_reg": 0.0772
         },
         {
          "iter": 60800,
          "loss_box_reg": 0.1175
         },
         {
          "iter": 60900,
          "loss_box_reg": 0.1216
         },
         {
          "iter": 61000,
          "loss_box_reg": 0.0963
         },
         {
          "iter": 61100,
          "loss_box_reg": 0.1546
         },
         {
          "iter": 61200,
          "loss_box_reg": 0.0797
         },
         {
          "iter": 61300,
          "loss_box_reg": 0.127
         },
         {
          "iter": 61400,
          "loss_box_reg": 0.05
         },
         {
          "iter": 61500,
          "loss_box_reg": 0.1425
         },
         {
          "iter": 61600,
          "loss_box_reg": 0.1016
         },
         {
          "iter": 61700,
          "loss_box_reg": 0.113
         },
         {
          "iter": 61800,
          "loss_box_reg": 0.0763
         },
         {
          "iter": 61900,
          "loss_box_reg": 0.1247
         },
         {
          "iter": 62000,
          "loss_box_reg": 0.1217
         },
         {
          "iter": 62100,
          "loss_box_reg": 0.0733
         },
         {
          "iter": 62200,
          "loss_box_reg": 0.1007
         },
         {
          "iter": 62300,
          "loss_box_reg": 0.121
         },
         {
          "iter": 62400,
          "loss_box_reg": 0.1395
         },
         {
          "iter": 62500,
          "loss_box_reg": 0.1324
         },
         {
          "iter": 62600,
          "loss_box_reg": 0.1078
         },
         {
          "iter": 62700,
          "loss_box_reg": 0.0986
         },
         {
          "iter": 62800,
          "loss_box_reg": 0.1232
         },
         {
          "iter": 62900,
          "loss_box_reg": 0.1281
         },
         {
          "iter": 63000,
          "loss_box_reg": 0.0932
         },
         {
          "iter": 63100,
          "loss_box_reg": 0.0668
         },
         {
          "iter": 63200,
          "loss_box_reg": 0.1282
         },
         {
          "iter": 63300,
          "loss_box_reg": 0.1228
         },
         {
          "iter": 63400,
          "loss_box_reg": 0.1564
         },
         {
          "iter": 63500,
          "loss_box_reg": 0.0842
         },
         {
          "iter": 63600,
          "loss_box_reg": 0.1448
         },
         {
          "iter": 63700,
          "loss_box_reg": 0.1035
         },
         {
          "iter": 63800,
          "loss_box_reg": 0.0586
         },
         {
          "iter": 63900,
          "loss_box_reg": 0.1149
         },
         {
          "iter": 64000,
          "loss_box_reg": 0.1252
         },
         {
          "iter": 64100,
          "loss_box_reg": 0.1364
         },
         {
          "iter": 64200,
          "loss_box_reg": 0.1352
         },
         {
          "iter": 64300,
          "loss_box_reg": 0.0961
         },
         {
          "iter": 64400,
          "loss_box_reg": 0.1571
         },
         {
          "iter": 64500,
          "loss_box_reg": 0.1331
         },
         {
          "iter": 64600,
          "loss_box_reg": 0.0929
         },
         {
          "iter": 64700,
          "loss_box_reg": 0.1165
         },
         {
          "iter": 64800,
          "loss_box_reg": 0.0848
         },
         {
          "iter": 64900,
          "loss_box_reg": 0.0679
         },
         {
          "iter": 65000,
          "loss_box_reg": 0.1059
         },
         {
          "iter": 65100,
          "loss_box_reg": 0.0434
         },
         {
          "iter": 65200,
          "loss_box_reg": 0.0932
         },
         {
          "iter": 65300,
          "loss_box_reg": 0.1436
         },
         {
          "iter": 65400,
          "loss_box_reg": 0.1037
         },
         {
          "iter": 65500,
          "loss_box_reg": 0.1728
         },
         {
          "iter": 65600,
          "loss_box_reg": 0.07
         },
         {
          "iter": 65700,
          "loss_box_reg": 0.0791
         },
         {
          "iter": 65800,
          "loss_box_reg": 0.1315
         },
         {
          "iter": 65900,
          "loss_box_reg": 0.0812
         },
         {
          "iter": 66000,
          "loss_box_reg": 0.0989
         },
         {
          "iter": 66100,
          "loss_box_reg": 0.1354
         },
         {
          "iter": 66200,
          "loss_box_reg": 0.0632
         },
         {
          "iter": 66300,
          "loss_box_reg": 0.0996
         },
         {
          "iter": 66400,
          "loss_box_reg": 0.1404
         },
         {
          "iter": 66500,
          "loss_box_reg": 0.0641
         },
         {
          "iter": 66600,
          "loss_box_reg": 0.1289
         },
         {
          "iter": 66700,
          "loss_box_reg": 0.1035
         },
         {
          "iter": 66800,
          "loss_box_reg": 0.1424
         },
         {
          "iter": 66900,
          "loss_box_reg": 0.0982
         },
         {
          "iter": 67000,
          "loss_box_reg": 0.0809
         },
         {
          "iter": 67100,
          "loss_box_reg": 0.0973
         },
         {
          "iter": 67200,
          "loss_box_reg": 0.1172
         },
         {
          "iter": 67300,
          "loss_box_reg": 0.1308
         },
         {
          "iter": 67400,
          "loss_box_reg": 0.133
         },
         {
          "iter": 67500,
          "loss_box_reg": 0.1542
         },
         {
          "iter": 67600,
          "loss_box_reg": 0.1671
         },
         {
          "iter": 67700,
          "loss_box_reg": 0.1081
         },
         {
          "iter": 67800,
          "loss_box_reg": 0.0851
         },
         {
          "iter": 67900,
          "loss_box_reg": 0.0789
         },
         {
          "iter": 68000,
          "loss_box_reg": 0.106
         },
         {
          "iter": 68100,
          "loss_box_reg": 0.0729
         },
         {
          "iter": 68200,
          "loss_box_reg": 0.0847
         },
         {
          "iter": 68300,
          "loss_box_reg": 0.1026
         },
         {
          "iter": 68400,
          "loss_box_reg": 0.0572
         },
         {
          "iter": 68500,
          "loss_box_reg": 0.1063
         },
         {
          "iter": 68600,
          "loss_box_reg": 0.1096
         },
         {
          "iter": 68700,
          "loss_box_reg": 0.1442
         },
         {
          "iter": 68800,
          "loss_box_reg": 0.1264
         },
         {
          "iter": 68900,
          "loss_box_reg": 0.081
         },
         {
          "iter": 69000,
          "loss_box_reg": 0.0912
         },
         {
          "iter": 69100,
          "loss_box_reg": 0.1439
         },
         {
          "iter": 69200,
          "loss_box_reg": 0.1017
         },
         {
          "iter": 69300,
          "loss_box_reg": 0.1068
         },
         {
          "iter": 69400,
          "loss_box_reg": 0.1139
         },
         {
          "iter": 69500,
          "loss_box_reg": 0.089
         },
         {
          "iter": 69600,
          "loss_box_reg": 0.0765
         },
         {
          "iter": 69700,
          "loss_box_reg": 0.0972
         },
         {
          "iter": 69800,
          "loss_box_reg": 0.1761
         },
         {
          "iter": 69900,
          "loss_box_reg": 0.1089
         },
         {
          "iter": 70000,
          "loss_box_reg": 0.0396
         },
         {
          "iter": 70100,
          "loss_box_reg": 0.0638
         },
         {
          "iter": 70200,
          "loss_box_reg": 0.027
         },
         {
          "iter": 70300,
          "loss_box_reg": 0.1027
         },
         {
          "iter": 70400,
          "loss_box_reg": 0.08
         },
         {
          "iter": 70500,
          "loss_box_reg": 0.0728
         },
         {
          "iter": 70600,
          "loss_box_reg": 0.11
         },
         {
          "iter": 70700,
          "loss_box_reg": 0.1261
         },
         {
          "iter": 70800,
          "loss_box_reg": 0.0855
         },
         {
          "iter": 70900,
          "loss_box_reg": 0.0812
         },
         {
          "iter": 71000,
          "loss_box_reg": 0.0571
         },
         {
          "iter": 71100,
          "loss_box_reg": 0.1136
         },
         {
          "iter": 71200,
          "loss_box_reg": 0.1276
         },
         {
          "iter": 71300,
          "loss_box_reg": 0.1367
         },
         {
          "iter": 71400,
          "loss_box_reg": 0.141
         },
         {
          "iter": 71500,
          "loss_box_reg": 0.1255
         },
         {
          "iter": 71600,
          "loss_box_reg": 0.1436
         },
         {
          "iter": 71700,
          "loss_box_reg": 0.1679
         },
         {
          "iter": 71800,
          "loss_box_reg": 0.1004
         },
         {
          "iter": 71900,
          "loss_box_reg": 0.1155
         },
         {
          "iter": 72000,
          "loss_box_reg": 0.1165
         },
         {
          "iter": 72100,
          "loss_box_reg": 0.0788
         },
         {
          "iter": 72200,
          "loss_box_reg": 0.1245
         },
         {
          "iter": 72300,
          "loss_box_reg": 0.0876
         },
         {
          "iter": 72400,
          "loss_box_reg": 0.1098
         },
         {
          "iter": 72500,
          "loss_box_reg": 0.0651
         },
         {
          "iter": 72600,
          "loss_box_reg": 0.1647
         },
         {
          "iter": 72700,
          "loss_box_reg": 0.0934
         },
         {
          "iter": 72800,
          "loss_box_reg": 0.08
         },
         {
          "iter": 72900,
          "loss_box_reg": 0.1143
         },
         {
          "iter": 73000,
          "loss_box_reg": 0.0679
         },
         {
          "iter": 73100,
          "loss_box_reg": 0.053
         },
         {
          "iter": 73200,
          "loss_box_reg": 0.0773
         },
         {
          "iter": 73300,
          "loss_box_reg": 0.069
         },
         {
          "iter": 73400,
          "loss_box_reg": 0.0975
         },
         {
          "iter": 73500,
          "loss_box_reg": 0.0939
         },
         {
          "iter": 73600,
          "loss_box_reg": 0.1118
         },
         {
          "iter": 73700,
          "loss_box_reg": 0.1255
         },
         {
          "iter": 73800,
          "loss_box_reg": 0.0835
         },
         {
          "iter": 73900,
          "loss_box_reg": 0.1012
         },
         {
          "iter": 74000,
          "loss_box_reg": 0.0701
         },
         {
          "iter": 74100,
          "loss_box_reg": 0.0977
         },
         {
          "iter": 74200,
          "loss_box_reg": 0.0735
         },
         {
          "iter": 74300,
          "loss_box_reg": 0.1146
         },
         {
          "iter": 74400,
          "loss_box_reg": 0.1221
         },
         {
          "iter": 74500,
          "loss_box_reg": 0.096
         },
         {
          "iter": 74600,
          "loss_box_reg": 0.1051
         },
         {
          "iter": 74700,
          "loss_box_reg": 0.1136
         },
         {
          "iter": 74800,
          "loss_box_reg": 0.0886
         },
         {
          "iter": 74900,
          "loss_box_reg": 0.1186
         },
         {
          "iter": 75000,
          "loss_box_reg": 0.1014
         },
         {
          "iter": 75100,
          "loss_box_reg": 0.0758
         },
         {
          "iter": 75200,
          "loss_box_reg": 0.0627
         },
         {
          "iter": 75300,
          "loss_box_reg": 0.0995
         },
         {
          "iter": 75400,
          "loss_box_reg": 0.1179
         },
         {
          "iter": 75500,
          "loss_box_reg": 0.1184
         },
         {
          "iter": 75600,
          "loss_box_reg": 0.126
         },
         {
          "iter": 75700,
          "loss_box_reg": 0.0977
         },
         {
          "iter": 75800,
          "loss_box_reg": 0.0728
         },
         {
          "iter": 75900,
          "loss_box_reg": 0.1529
         },
         {
          "iter": 76000,
          "loss_box_reg": 0.1895
         },
         {
          "iter": 76100,
          "loss_box_reg": 0.0883
         },
         {
          "iter": 76200,
          "loss_box_reg": 0.1357
         },
         {
          "iter": 76300,
          "loss_box_reg": 0.1391
         },
         {
          "iter": 76400,
          "loss_box_reg": 0.0599
         },
         {
          "iter": 76500,
          "loss_box_reg": 0.1103
         },
         {
          "iter": 76600,
          "loss_box_reg": 0.0936
         },
         {
          "iter": 76700,
          "loss_box_reg": 0.0747
         },
         {
          "iter": 76800,
          "loss_box_reg": 0.1462
         },
         {
          "iter": 76900,
          "loss_box_reg": 0.0951
         },
         {
          "iter": 77000,
          "loss_box_reg": 0.13
         },
         {
          "iter": 77100,
          "loss_box_reg": 0.1113
         },
         {
          "iter": 77200,
          "loss_box_reg": 0.1334
         },
         {
          "iter": 77300,
          "loss_box_reg": 0.1185
         },
         {
          "iter": 77400,
          "loss_box_reg": 0.0736
         },
         {
          "iter": 77500,
          "loss_box_reg": 0.1367
         },
         {
          "iter": 77600,
          "loss_box_reg": 0.1169
         }
        ]
       },
       "encoding": {
        "x": {
         "field": "iter",
         "type": "quantitative"
        },
        "y": {
         "field": "loss_box_reg",
         "type": "quantitative"
        }
       },
       "mark": "line"
      },
      "image/png": "[encoded data removed]",
      "text/plain": [
       "<VegaLite 3 object>\n",
       "\n",
       "If you see this message, it means the renderer has not been properly enabled\n",
       "for the frontend that you are using. For more information, see\n",
       "https://altair-viz.github.io/user_guide/troubleshooting.html\n"
      ]
     },
     "metadata": {},
     "output_type": "display_data"
    },
    {
     "data": {
      "application/vnd.vegalite.v3+json": {
       "$schema": "https://vega.github.io/schema/vega-lite/v3.4.0.json",
       "config": {
        "mark": {
         "tooltip": null
        },
        "view": {
         "height": 300,
         "width": 400
        }
       },
       "data": {
        "name": "data-e4dfb050988a7bb44ac1e94629ef238a"
       },
       "datasets": {
        "data-e4dfb050988a7bb44ac1e94629ef238a": [
         {
          "iter": 0,
          "loss_classifier": 4.4118
         },
         {
          "iter": 100,
          "loss_classifier": 0.3832
         },
         {
          "iter": 200,
          "loss_classifier": 0.5429
         },
         {
          "iter": 300,
          "loss_classifier": 0.4995
         },
         {
          "iter": 400,
          "loss_classifier": 0.715
         },
         {
          "iter": 500,
          "loss_classifier": 0.5064
         },
         {
          "iter": 600,
          "loss_classifier": 0.449
         },
         {
          "iter": 700,
          "loss_classifier": 0.4886
         },
         {
          "iter": 800,
          "loss_classifier": 0.6607
         },
         {
          "iter": 900,
          "loss_classifier": 0.4923
         },
         {
          "iter": 1000,
          "loss_classifier": 0.4069
         },
         {
          "iter": 1100,
          "loss_classifier": 0.5663
         },
         {
          "iter": 1200,
          "loss_classifier": 0.4187
         },
         {
          "iter": 1300,
          "loss_classifier": 0.3646
         },
         {
          "iter": 1400,
          "loss_classifier": 0.553
         },
         {
          "iter": 1500,
          "loss_classifier": 0.2966
         },
         {
          "iter": 1600,
          "loss_classifier": 0.4513
         },
         {
          "iter": 1700,
          "loss_classifier": 0.379
         },
         {
          "iter": 1800,
          "loss_classifier": 0.4294
         },
         {
          "iter": 1900,
          "loss_classifier": 0.2422
         },
         {
          "iter": 2000,
          "loss_classifier": 0.3517
         },
         {
          "iter": 2100,
          "loss_classifier": 0.3658
         },
         {
          "iter": 2200,
          "loss_classifier": 0.3203
         },
         {
          "iter": 2300,
          "loss_classifier": 0.3632
         },
         {
          "iter": 2400,
          "loss_classifier": 0.3827
         },
         {
          "iter": 2500,
          "loss_classifier": 0.4246
         },
         {
          "iter": 2600,
          "loss_classifier": 0.2476
         },
         {
          "iter": 2700,
          "loss_classifier": 0.3811
         },
         {
          "iter": 2800,
          "loss_classifier": 0.2713
         },
         {
          "iter": 2900,
          "loss_classifier": 0.2568
         },
         {
          "iter": 3000,
          "loss_classifier": 0.4595
         },
         {
          "iter": 3100,
          "loss_classifier": 0.5094
         },
         {
          "iter": 3200,
          "loss_classifier": 0.3003
         },
         {
          "iter": 3300,
          "loss_classifier": 0.4563
         },
         {
          "iter": 3400,
          "loss_classifier": 0.3234
         },
         {
          "iter": 3500,
          "loss_classifier": 0.222
         },
         {
          "iter": 3600,
          "loss_classifier": 0.3066
         },
         {
          "iter": 3700,
          "loss_classifier": 0.2848
         },
         {
          "iter": 3800,
          "loss_classifier": 0.2397
         },
         {
          "iter": 3900,
          "loss_classifier": 0.2506
         },
         {
          "iter": 4000,
          "loss_classifier": 0.3148
         },
         {
          "iter": 4100,
          "loss_classifier": 0.335
         },
         {
          "iter": 4200,
          "loss_classifier": 0.4035
         },
         {
          "iter": 4300,
          "loss_classifier": 0.4792
         },
         {
          "iter": 4400,
          "loss_classifier": 0.2275
         },
         {
          "iter": 4500,
          "loss_classifier": 0.3867
         },
         {
          "iter": 4600,
          "loss_classifier": 0.252
         },
         {
          "iter": 4700,
          "loss_classifier": 0.2601
         },
         {
          "iter": 4800,
          "loss_classifier": 0.2758
         },
         {
          "iter": 4900,
          "loss_classifier": 0.3805
         },
         {
          "iter": 5000,
          "loss_classifier": 0.3073
         },
         {
          "iter": 5100,
          "loss_classifier": 0.386
         },
         {
          "iter": 5200,
          "loss_classifier": 0.4839
         },
         {
          "iter": 5300,
          "loss_classifier": 0.2511
         },
         {
          "iter": 5400,
          "loss_classifier": 0.3822
         },
         {
          "iter": 5500,
          "loss_classifier": 0.3688
         },
         {
          "iter": 5600,
          "loss_classifier": 0.346
         },
         {
          "iter": 5700,
          "loss_classifier": 0.3612
         },
         {
          "iter": 5800,
          "loss_classifier": 0.2519
         },
         {
          "iter": 5900,
          "loss_classifier": 0.392
         },
         {
          "iter": 6000,
          "loss_classifier": 0.2261
         },
         {
          "iter": 6100,
          "loss_classifier": 0.2274
         },
         {
          "iter": 6200,
          "loss_classifier": 0.1995
         },
         {
          "iter": 6300,
          "loss_classifier": 0.2781
         },
         {
          "iter": 6400,
          "loss_classifier": 0.3811
         },
         {
          "iter": 6500,
          "loss_classifier": 0.1971
         },
         {
          "iter": 6600,
          "loss_classifier": 0.3057
         },
         {
          "iter": 6700,
          "loss_classifier": 0.3556
         },
         {
          "iter": 6800,
          "loss_classifier": 0.2614
         },
         {
          "iter": 6900,
          "loss_classifier": 0.469
         },
         {
          "iter": 7000,
          "loss_classifier": 0.3108
         },
         {
          "iter": 7100,
          "loss_classifier": 0.3058
         },
         {
          "iter": 7200,
          "loss_classifier": 0.3373
         },
         {
          "iter": 7300,
          "loss_classifier": 0.2569
         },
         {
          "iter": 7400,
          "loss_classifier": 0.3024
         },
         {
          "iter": 7500,
          "loss_classifier": 0.2475
         },
         {
          "iter": 7600,
          "loss_classifier": 0.3931
         },
         {
          "iter": 7700,
          "loss_classifier": 0.2917
         },
         {
          "iter": 7800,
          "loss_classifier": 0.2462
         },
         {
          "iter": 7900,
          "loss_classifier": 0.3104
         },
         {
          "iter": 8000,
          "loss_classifier": 0.297
         },
         {
          "iter": 8100,
          "loss_classifier": 0.2671
         },
         {
          "iter": 8200,
          "loss_classifier": 0.3977
         },
         {
          "iter": 8300,
          "loss_classifier": 0.3319
         },
         {
          "iter": 8400,
          "loss_classifier": 0.2383
         },
         {
          "iter": 8500,
          "loss_classifier": 0.2939
         },
         {
          "iter": 8600,
          "loss_classifier": 0.2998
         },
         {
          "iter": 8700,
          "loss_classifier": 0.403
         },
         {
          "iter": 8800,
          "loss_classifier": 0.4413
         },
         {
          "iter": 8900,
          "loss_classifier": 0.345
         },
         {
          "iter": 9000,
          "loss_classifier": 0.3529
         },
         {
          "iter": 9100,
          "loss_classifier": 0.3268
         },
         {
          "iter": 9200,
          "loss_classifier": 0.4181
         },
         {
          "iter": 9300,
          "loss_classifier": 0.2036
         },
         {
          "iter": 9400,
          "loss_classifier": 0.294
         },
         {
          "iter": 9500,
          "loss_classifier": 0.3195
         },
         {
          "iter": 9600,
          "loss_classifier": 0.2644
         },
         {
          "iter": 9700,
          "loss_classifier": 0.1916
         },
         {
          "iter": 9800,
          "loss_classifier": 0.5056
         },
         {
          "iter": 9900,
          "loss_classifier": 0.3065
         },
         {
          "iter": 10000,
          "loss_classifier": 0.2931
         },
         {
          "iter": 10100,
          "loss_classifier": 0.3942
         },
         {
          "iter": 10200,
          "loss_classifier": 0.1737
         },
         {
          "iter": 10300,
          "loss_classifier": 0.3154
         },
         {
          "iter": 10400,
          "loss_classifier": 0.197
         },
         {
          "iter": 10500,
          "loss_classifier": 0.201
         },
         {
          "iter": 10600,
          "loss_classifier": 0.3878
         },
         {
          "iter": 10700,
          "loss_classifier": 0.1879
         },
         {
          "iter": 10800,
          "loss_classifier": 0.4149
         },
         {
          "iter": 10900,
          "loss_classifier": 0.3324
         },
         {
          "iter": 11000,
          "loss_classifier": 0.2931
         },
         {
          "iter": 11100,
          "loss_classifier": 0.2984
         },
         {
          "iter": 11200,
          "loss_classifier": 0.3517
         },
         {
          "iter": 11300,
          "loss_classifier": 0.2803
         },
         {
          "iter": 11400,
          "loss_classifier": 0.3012
         },
         {
          "iter": 11500,
          "loss_classifier": 0.3182
         },
         {
          "iter": 11600,
          "loss_classifier": 0.2903
         },
         {
          "iter": 11700,
          "loss_classifier": 0.3421
         },
         {
          "iter": 11800,
          "loss_classifier": 0.1728
         },
         {
          "iter": 11900,
          "loss_classifier": 0.2632
         },
         {
          "iter": 12000,
          "loss_classifier": 0.4089
         },
         {
          "iter": 12100,
          "loss_classifier": 0.2264
         },
         {
          "iter": 12200,
          "loss_classifier": 0.3129
         },
         {
          "iter": 12300,
          "loss_classifier": 0.2946
         },
         {
          "iter": 12400,
          "loss_classifier": 0.3118
         },
         {
          "iter": 12500,
          "loss_classifier": 0.2625
         },
         {
          "iter": 12600,
          "loss_classifier": 0.2163
         },
         {
          "iter": 12700,
          "loss_classifier": 0.2365
         },
         {
          "iter": 12800,
          "loss_classifier": 0.272
         },
         {
          "iter": 12900,
          "loss_classifier": 0.3085
         },
         {
          "iter": 13000,
          "loss_classifier": 0.3597
         },
         {
          "iter": 13100,
          "loss_classifier": 0.4083
         },
         {
          "iter": 13200,
          "loss_classifier": 0.3798
         },
         {
          "iter": 13300,
          "loss_classifier": 0.2871
         },
         {
          "iter": 13400,
          "loss_classifier": 0.197
         },
         {
          "iter": 13500,
          "loss_classifier": 0.2825
         },
         {
          "iter": 13600,
          "loss_classifier": 0.2641
         },
         {
          "iter": 13700,
          "loss_classifier": 0.263
         },
         {
          "iter": 13800,
          "loss_classifier": 0.1672
         },
         {
          "iter": 13900,
          "loss_classifier": 0.3094
         },
         {
          "iter": 14000,
          "loss_classifier": 0.3303
         },
         {
          "iter": 14100,
          "loss_classifier": 0.2813
         },
         {
          "iter": 14200,
          "loss_classifier": 0.2651
         },
         {
          "iter": 14300,
          "loss_classifier": 0.364
         },
         {
          "iter": 14400,
          "loss_classifier": 0.295
         },
         {
          "iter": 14500,
          "loss_classifier": 0.3144
         },
         {
          "iter": 14600,
          "loss_classifier": 0.2257
         },
         {
          "iter": 14700,
          "loss_classifier": 0.2044
         },
         {
          "iter": 14800,
          "loss_classifier": 0.2604
         },
         {
          "iter": 14900,
          "loss_classifier": 0.2174
         },
         {
          "iter": 15000,
          "loss_classifier": 0.2068
         },
         {
          "iter": 15100,
          "loss_classifier": 0.3369
         },
         {
          "iter": 15200,
          "loss_classifier": 0.2195
         },
         {
          "iter": 15300,
          "loss_classifier": 0.1757
         },
         {
          "iter": 15400,
          "loss_classifier": 0.4051
         },
         {
          "iter": 15500,
          "loss_classifier": 0.3311
         },
         {
          "iter": 15600,
          "loss_classifier": 0.3125
         },
         {
          "iter": 15700,
          "loss_classifier": 0.2869
         },
         {
          "iter": 15800,
          "loss_classifier": 0.1891
         },
         {
          "iter": 15900,
          "loss_classifier": 0.2085
         },
         {
          "iter": 16000,
          "loss_classifier": 0.205
         },
         {
          "iter": 16100,
          "loss_classifier": 0.3482
         },
         {
          "iter": 16200,
          "loss_classifier": 0.3209
         },
         {
          "iter": 16300,
          "loss_classifier": 0.2759
         },
         {
          "iter": 16400,
          "loss_classifier": 0.2521
         },
         {
          "iter": 16500,
          "loss_classifier": 0.2178
         },
         {
          "iter": 16600,
          "loss_classifier": 0.3287
         },
         {
          "iter": 16700,
          "loss_classifier": 0.2198
         },
         {
          "iter": 16800,
          "loss_classifier": 0.2467
         },
         {
          "iter": 16900,
          "loss_classifier": 0.3095
         },
         {
          "iter": 17000,
          "loss_classifier": 0.2895
         },
         {
          "iter": 17100,
          "loss_classifier": 0.2043
         },
         {
          "iter": 17200,
          "loss_classifier": 0.3891
         },
         {
          "iter": 17300,
          "loss_classifier": 0.2808
         },
         {
          "iter": 17400,
          "loss_classifier": 0.144
         },
         {
          "iter": 17500,
          "loss_classifier": 0.1979
         },
         {
          "iter": 17600,
          "loss_classifier": 0.2153
         },
         {
          "iter": 17700,
          "loss_classifier": 0.4161
         },
         {
          "iter": 17800,
          "loss_classifier": 0.3402
         },
         {
          "iter": 17900,
          "loss_classifier": 0.3738
         },
         {
          "iter": 18000,
          "loss_classifier": 0.189
         },
         {
          "iter": 18100,
          "loss_classifier": 0.2858
         },
         {
          "iter": 18200,
          "loss_classifier": 0.1748
         },
         {
          "iter": 18300,
          "loss_classifier": 0.2912
         },
         {
          "iter": 18400,
          "loss_classifier": 0.2599
         },
         {
          "iter": 18500,
          "loss_classifier": 0.3533
         },
         {
          "iter": 18600,
          "loss_classifier": 0.3999
         },
         {
          "iter": 18700,
          "loss_classifier": 0.2331
         },
         {
          "iter": 18800,
          "loss_classifier": 0.1936
         },
         {
          "iter": 18900,
          "loss_classifier": 0.2627
         },
         {
          "iter": 19000,
          "loss_classifier": 0.2176
         },
         {
          "iter": 19100,
          "loss_classifier": 0.3352
         },
         {
          "iter": 19200,
          "loss_classifier": 0.452
         },
         {
          "iter": 19300,
          "loss_classifier": 0.2794
         },
         {
          "iter": 19400,
          "loss_classifier": 0.2821
         },
         {
          "iter": 19500,
          "loss_classifier": 0.3355
         },
         {
          "iter": 19600,
          "loss_classifier": 0.2911
         },
         {
          "iter": 19700,
          "loss_classifier": 0.2518
         },
         {
          "iter": 19800,
          "loss_classifier": 0.2402
         },
         {
          "iter": 19900,
          "loss_classifier": 0.3086
         },
         {
          "iter": 20000,
          "loss_classifier": 0.3155
         },
         {
          "iter": 20100,
          "loss_classifier": 0.259
         },
         {
          "iter": 20200,
          "loss_classifier": 0.2354
         },
         {
          "iter": 20300,
          "loss_classifier": 0.2825
         },
         {
          "iter": 20400,
          "loss_classifier": 0.4223
         },
         {
          "iter": 20500,
          "loss_classifier": 0.3534
         },
         {
          "iter": 20600,
          "loss_classifier": 0.1715
         },
         {
          "iter": 20700,
          "loss_classifier": 0.3317
         },
         {
          "iter": 20800,
          "loss_classifier": 0.3011
         },
         {
          "iter": 20900,
          "loss_classifier": 0.369
         },
         {
          "iter": 21000,
          "loss_classifier": 0.2859
         },
         {
          "iter": 21100,
          "loss_classifier": 0.1959
         },
         {
          "iter": 21200,
          "loss_classifier": 0.3777
         },
         {
          "iter": 21300,
          "loss_classifier": 0.2902
         },
         {
          "iter": 21400,
          "loss_classifier": 0.2262
         },
         {
          "iter": 21500,
          "loss_classifier": 0.2392
         },
         {
          "iter": 21600,
          "loss_classifier": 0.3329
         },
         {
          "iter": 21700,
          "loss_classifier": 0.1686
         },
         {
          "iter": 21800,
          "loss_classifier": 0.1877
         },
         {
          "iter": 21900,
          "loss_classifier": 0.3706
         },
         {
          "iter": 22000,
          "loss_classifier": 0.2969
         },
         {
          "iter": 22100,
          "loss_classifier": 0.2825
         },
         {
          "iter": 22200,
          "loss_classifier": 0.2613
         },
         {
          "iter": 22300,
          "loss_classifier": 0.3658
         },
         {
          "iter": 22400,
          "loss_classifier": 0.2856
         },
         {
          "iter": 22500,
          "loss_classifier": 0.2057
         },
         {
          "iter": 22600,
          "loss_classifier": 0.339
         },
         {
          "iter": 22700,
          "loss_classifier": 0.256
         },
         {
          "iter": 22800,
          "loss_classifier": 0.4616
         },
         {
          "iter": 22900,
          "loss_classifier": 0.2183
         },
         {
          "iter": 23000,
          "loss_classifier": 0.2278
         },
         {
          "iter": 23100,
          "loss_classifier": 0.253
         },
         {
          "iter": 23200,
          "loss_classifier": 0.2887
         },
         {
          "iter": 23300,
          "loss_classifier": 0.2057
         },
         {
          "iter": 23400,
          "loss_classifier": 0.2626
         },
         {
          "iter": 23500,
          "loss_classifier": 0.1899
         },
         {
          "iter": 23600,
          "loss_classifier": 0.3297
         },
         {
          "iter": 23700,
          "loss_classifier": 0.3279
         },
         {
          "iter": 23800,
          "loss_classifier": 0.2294
         },
         {
          "iter": 23900,
          "loss_classifier": 0.2465
         },
         {
          "iter": 24000,
          "loss_classifier": 0.2625
         },
         {
          "iter": 24100,
          "loss_classifier": 0.2585
         },
         {
          "iter": 24200,
          "loss_classifier": 0.1775
         },
         {
          "iter": 24300,
          "loss_classifier": 0.2793
         },
         {
          "iter": 24400,
          "loss_classifier": 0.2465
         },
         {
          "iter": 24500,
          "loss_classifier": 0.2601
         },
         {
          "iter": 24600,
          "loss_classifier": 0.1436
         },
         {
          "iter": 24700,
          "loss_classifier": 0.3349
         },
         {
          "iter": 24800,
          "loss_classifier": 0.2719
         },
         {
          "iter": 24900,
          "loss_classifier": 0.2778
         },
         {
          "iter": 25000,
          "loss_classifier": 0.2067
         },
         {
          "iter": 25100,
          "loss_classifier": 0.2495
         },
         {
          "iter": 25200,
          "loss_classifier": 0.1836
         },
         {
          "iter": 25300,
          "loss_classifier": 0.2464
         },
         {
          "iter": 25400,
          "loss_classifier": 0.3253
         },
         {
          "iter": 25500,
          "loss_classifier": 0.3192
         },
         {
          "iter": 25600,
          "loss_classifier": 0.2814
         },
         {
          "iter": 25700,
          "loss_classifier": 0.2072
         },
         {
          "iter": 25800,
          "loss_classifier": 0.2551
         },
         {
          "iter": 25900,
          "loss_classifier": 0.3048
         },
         {
          "iter": 26000,
          "loss_classifier": 0.1552
         },
         {
          "iter": 26100,
          "loss_classifier": 0.258
         },
         {
          "iter": 26200,
          "loss_classifier": 0.3568
         },
         {
          "iter": 26300,
          "loss_classifier": 0.2814
         },
         {
          "iter": 26400,
          "loss_classifier": 0.206
         },
         {
          "iter": 26500,
          "loss_classifier": 0.1698
         },
         {
          "iter": 26600,
          "loss_classifier": 0.27
         },
         {
          "iter": 26700,
          "loss_classifier": 0.231
         },
         {
          "iter": 26800,
          "loss_classifier": 0.2879
         },
         {
          "iter": 26900,
          "loss_classifier": 0.1626
         },
         {
          "iter": 27000,
          "loss_classifier": 0.3785
         },
         {
          "iter": 27100,
          "loss_classifier": 0.2325
         },
         {
          "iter": 27200,
          "loss_classifier": 0.1675
         },
         {
          "iter": 27300,
          "loss_classifier": 0.2024
         },
         {
          "iter": 27400,
          "loss_classifier": 0.2566
         },
         {
          "iter": 27500,
          "loss_classifier": 0.263
         },
         {
          "iter": 27600,
          "loss_classifier": 0.3182
         },
         {
          "iter": 27700,
          "loss_classifier": 0.3775
         },
         {
          "iter": 27800,
          "loss_classifier": 0.1717
         },
         {
          "iter": 27900,
          "loss_classifier": 0.3199
         },
         {
          "iter": 28000,
          "loss_classifier": 0.2656
         },
         {
          "iter": 28100,
          "loss_classifier": 0.2748
         },
         {
          "iter": 28200,
          "loss_classifier": 0.171
         },
         {
          "iter": 28300,
          "loss_classifier": 0.3205
         },
         {
          "iter": 28400,
          "loss_classifier": 0.271
         },
         {
          "iter": 28500,
          "loss_classifier": 0.2139
         },
         {
          "iter": 28600,
          "loss_classifier": 0.2694
         },
         {
          "iter": 28700,
          "loss_classifier": 0.3617
         },
         {
          "iter": 28800,
          "loss_classifier": 0.2653
         },
         {
          "iter": 28900,
          "loss_classifier": 0.1484
         },
         {
          "iter": 29000,
          "loss_classifier": 0.3031
         },
         {
          "iter": 29100,
          "loss_classifier": 0.1376
         },
         {
          "iter": 29200,
          "loss_classifier": 0.2045
         },
         {
          "iter": 29300,
          "loss_classifier": 0.3106
         },
         {
          "iter": 29400,
          "loss_classifier": 0.2061
         },
         {
          "iter": 29500,
          "loss_classifier": 0.2531
         },
         {
          "iter": 29600,
          "loss_classifier": 0.2438
         },
         {
          "iter": 29700,
          "loss_classifier": 0.2208
         },
         {
          "iter": 29800,
          "loss_classifier": 0.2666
         },
         {
          "iter": 29900,
          "loss_classifier": 0.2868
         },
         {
          "iter": 30000,
          "loss_classifier": 0.4438
         },
         {
          "iter": 30100,
          "loss_classifier": 0.382
         },
         {
          "iter": 30200,
          "loss_classifier": 0.218
         },
         {
          "iter": 30300,
          "loss_classifier": 0.2503
         },
         {
          "iter": 30400,
          "loss_classifier": 0.2674
         },
         {
          "iter": 30500,
          "loss_classifier": 0.4394
         },
         {
          "iter": 30600,
          "loss_classifier": 0.1703
         },
         {
          "iter": 30700,
          "loss_classifier": 0.182
         },
         {
          "iter": 30800,
          "loss_classifier": 0.2539
         },
         {
          "iter": 30900,
          "loss_classifier": 0.2452
         },
         {
          "iter": 31000,
          "loss_classifier": 0.3919
         },
         {
          "iter": 31100,
          "loss_classifier": 0.2534
         },
         {
          "iter": 31200,
          "loss_classifier": 0.2175
         },
         {
          "iter": 31300,
          "loss_classifier": 0.1231
         },
         {
          "iter": 31400,
          "loss_classifier": 0.2668
         },
         {
          "iter": 31500,
          "loss_classifier": 0.1754
         },
         {
          "iter": 31600,
          "loss_classifier": 0.3234
         },
         {
          "iter": 31700,
          "loss_classifier": 0.3182
         },
         {
          "iter": 31800,
          "loss_classifier": 0.3238
         },
         {
          "iter": 31900,
          "loss_classifier": 0.2681
         },
         {
          "iter": 32000,
          "loss_classifier": 0.1693
         },
         {
          "iter": 32100,
          "loss_classifier": 0.2909
         },
         {
          "iter": 32200,
          "loss_classifier": 0.257
         },
         {
          "iter": 32300,
          "loss_classifier": 0.1631
         },
         {
          "iter": 32400,
          "loss_classifier": 0.2111
         },
         {
          "iter": 32500,
          "loss_classifier": 0.2075
         },
         {
          "iter": 32600,
          "loss_classifier": 0.287
         },
         {
          "iter": 32700,
          "loss_classifier": 0.1908
         },
         {
          "iter": 32800,
          "loss_classifier": 0.2732
         },
         {
          "iter": 32900,
          "loss_classifier": 0.2906
         },
         {
          "iter": 33000,
          "loss_classifier": 0.2652
         },
         {
          "iter": 33100,
          "loss_classifier": 0.3122
         },
         {
          "iter": 33200,
          "loss_classifier": 0.2285
         },
         {
          "iter": 33300,
          "loss_classifier": 0.3339
         },
         {
          "iter": 33400,
          "loss_classifier": 0.1825
         },
         {
          "iter": 33500,
          "loss_classifier": 0.2304
         },
         {
          "iter": 33600,
          "loss_classifier": 0.3099
         },
         {
          "iter": 33700,
          "loss_classifier": 0.2299
         },
         {
          "iter": 33800,
          "loss_classifier": 0.2211
         },
         {
          "iter": 33900,
          "loss_classifier": 0.2966
         },
         {
          "iter": 34000,
          "loss_classifier": 0.2518
         },
         {
          "iter": 34100,
          "loss_classifier": 0.3406
         },
         {
          "iter": 34200,
          "loss_classifier": 0.2235
         },
         {
          "iter": 34300,
          "loss_classifier": 0.3213
         },
         {
          "iter": 34400,
          "loss_classifier": 0.3806
         },
         {
          "iter": 34500,
          "loss_classifier": 0.1953
         },
         {
          "iter": 34600,
          "loss_classifier": 0.2326
         },
         {
          "iter": 34700,
          "loss_classifier": 0.2519
         },
         {
          "iter": 34800,
          "loss_classifier": 0.2551
         },
         {
          "iter": 34900,
          "loss_classifier": 0.3911
         },
         {
          "iter": 35000,
          "loss_classifier": 0.1697
         },
         {
          "iter": 35100,
          "loss_classifier": 0.2983
         },
         {
          "iter": 35200,
          "loss_classifier": 0.3666
         },
         {
          "iter": 35300,
          "loss_classifier": 0.2895
         },
         {
          "iter": 35400,
          "loss_classifier": 0.3697
         },
         {
          "iter": 35500,
          "loss_classifier": 0.1649
         },
         {
          "iter": 35600,
          "loss_classifier": 0.245
         },
         {
          "iter": 35700,
          "loss_classifier": 0.1543
         },
         {
          "iter": 35800,
          "loss_classifier": 0.2513
         },
         {
          "iter": 35900,
          "loss_classifier": 0.2708
         },
         {
          "iter": 36000,
          "loss_classifier": 0.2354
         },
         {
          "iter": 36100,
          "loss_classifier": 0.2002
         },
         {
          "iter": 36200,
          "loss_classifier": 0.333
         },
         {
          "iter": 36300,
          "loss_classifier": 0.3409
         },
         {
          "iter": 36400,
          "loss_classifier": 0.2609
         },
         {
          "iter": 36500,
          "loss_classifier": 0.1895
         },
         {
          "iter": 36600,
          "loss_classifier": 0.2457
         },
         {
          "iter": 36700,
          "loss_classifier": 0.2835
         },
         {
          "iter": 36800,
          "loss_classifier": 0.2433
         },
         {
          "iter": 36900,
          "loss_classifier": 0.1909
         },
         {
          "iter": 37000,
          "loss_classifier": 0.2818
         },
         {
          "iter": 37100,
          "loss_classifier": 0.2793
         },
         {
          "iter": 37200,
          "loss_classifier": 0.2335
         },
         {
          "iter": 37300,
          "loss_classifier": 0.133
         },
         {
          "iter": 37400,
          "loss_classifier": 0.2362
         },
         {
          "iter": 37500,
          "loss_classifier": 0.1932
         },
         {
          "iter": 37600,
          "loss_classifier": 0.2661
         },
         {
          "iter": 37700,
          "loss_classifier": 0.2424
         },
         {
          "iter": 37800,
          "loss_classifier": 0.145
         },
         {
          "iter": 37900,
          "loss_classifier": 0.2509
         },
         {
          "iter": 38000,
          "loss_classifier": 0.2626
         },
         {
          "iter": 38100,
          "loss_classifier": 0.3029
         },
         {
          "iter": 38200,
          "loss_classifier": 0.272
         },
         {
          "iter": 38300,
          "loss_classifier": 0.2541
         },
         {
          "iter": 38400,
          "loss_classifier": 0.1702
         },
         {
          "iter": 38500,
          "loss_classifier": 0.2197
         },
         {
          "iter": 38600,
          "loss_classifier": 0.187
         },
         {
          "iter": 38700,
          "loss_classifier": 0.2044
         },
         {
          "iter": 38800,
          "loss_classifier": 0.1913
         },
         {
          "iter": 38900,
          "loss_classifier": 0.2397
         },
         {
          "iter": 39000,
          "loss_classifier": 0.1741
         },
         {
          "iter": 39100,
          "loss_classifier": 0.3553
         },
         {
          "iter": 39200,
          "loss_classifier": 0.271
         },
         {
          "iter": 39300,
          "loss_classifier": 0.2888
         },
         {
          "iter": 39400,
          "loss_classifier": 0.1536
         },
         {
          "iter": 39500,
          "loss_classifier": 0.3857
         },
         {
          "iter": 39600,
          "loss_classifier": 0.1961
         },
         {
          "iter": 39700,
          "loss_classifier": 0.1889
         },
         {
          "iter": 39800,
          "loss_classifier": 0.301
         },
         {
          "iter": 39900,
          "loss_classifier": 0.2121
         },
         {
          "iter": 40000,
          "loss_classifier": 0.1781
         },
         {
          "iter": 40100,
          "loss_classifier": 0.1236
         },
         {
          "iter": 40200,
          "loss_classifier": 0.3238
         },
         {
          "iter": 40300,
          "loss_classifier": 0.226
         },
         {
          "iter": 40400,
          "loss_classifier": 0.2327
         },
         {
          "iter": 40500,
          "loss_classifier": 0.1476
         },
         {
          "iter": 40600,
          "loss_classifier": 0.3189
         },
         {
          "iter": 40700,
          "loss_classifier": 0.194
         },
         {
          "iter": 40800,
          "loss_classifier": 0.4275
         },
         {
          "iter": 40900,
          "loss_classifier": 0.2865
         },
         {
          "iter": 41000,
          "loss_classifier": 0.3455
         },
         {
          "iter": 41100,
          "loss_classifier": 0.107
         },
         {
          "iter": 41200,
          "loss_classifier": 0.2449
         },
         {
          "iter": 41300,
          "loss_classifier": 0.2129
         },
         {
          "iter": 41400,
          "loss_classifier": 0.2431
         },
         {
          "iter": 41500,
          "loss_classifier": 0.2773
         },
         {
          "iter": 41600,
          "loss_classifier": 0.2488
         },
         {
          "iter": 41700,
          "loss_classifier": 0.3101
         },
         {
          "iter": 41800,
          "loss_classifier": 0.1923
         },
         {
          "iter": 41900,
          "loss_classifier": 0.2382
         },
         {
          "iter": 42000,
          "loss_classifier": 0.2343
         },
         {
          "iter": 42100,
          "loss_classifier": 0.2671
         },
         {
          "iter": 42200,
          "loss_classifier": 0.1715
         },
         {
          "iter": 42300,
          "loss_classifier": 0.2599
         },
         {
          "iter": 42400,
          "loss_classifier": 0.2242
         },
         {
          "iter": 42500,
          "loss_classifier": 0.2352
         },
         {
          "iter": 42600,
          "loss_classifier": 0.2432
         },
         {
          "iter": 42700,
          "loss_classifier": 0.2704
         },
         {
          "iter": 42800,
          "loss_classifier": 0.3893
         },
         {
          "iter": 42900,
          "loss_classifier": 0.2282
         },
         {
          "iter": 43000,
          "loss_classifier": 0.2635
         },
         {
          "iter": 43100,
          "loss_classifier": 0.1603
         },
         {
          "iter": 43200,
          "loss_classifier": 0.1692
         },
         {
          "iter": 43300,
          "loss_classifier": 0.1863
         },
         {
          "iter": 43400,
          "loss_classifier": 0.2958
         },
         {
          "iter": 43500,
          "loss_classifier": 0.3079
         },
         {
          "iter": 43600,
          "loss_classifier": 0.1455
         },
         {
          "iter": 43700,
          "loss_classifier": 0.1505
         },
         {
          "iter": 43800,
          "loss_classifier": 0.2258
         },
         {
          "iter": 43900,
          "loss_classifier": 0.2295
         },
         {
          "iter": 44000,
          "loss_classifier": 0.3081
         },
         {
          "iter": 44100,
          "loss_classifier": 0.1638
         },
         {
          "iter": 44200,
          "loss_classifier": 0.1678
         },
         {
          "iter": 44300,
          "loss_classifier": 0.2201
         },
         {
          "iter": 44400,
          "loss_classifier": 0.2172
         },
         {
          "iter": 44500,
          "loss_classifier": 0.1674
         },
         {
          "iter": 44600,
          "loss_classifier": 0.206
         },
         {
          "iter": 44700,
          "loss_classifier": 0.2798
         },
         {
          "iter": 44800,
          "loss_classifier": 0.2504
         },
         {
          "iter": 44900,
          "loss_classifier": 0.2333
         },
         {
          "iter": 45000,
          "loss_classifier": 0.2395
         },
         {
          "iter": 45100,
          "loss_classifier": 0.1721
         },
         {
          "iter": 45200,
          "loss_classifier": 0.3276
         },
         {
          "iter": 45300,
          "loss_classifier": 0.2824
         },
         {
          "iter": 45400,
          "loss_classifier": 0.2392
         },
         {
          "iter": 45500,
          "loss_classifier": 0.3046
         },
         {
          "iter": 45600,
          "loss_classifier": 0.2359
         },
         {
          "iter": 45700,
          "loss_classifier": 0.2201
         },
         {
          "iter": 45800,
          "loss_classifier": 0.1885
         },
         {
          "iter": 45900,
          "loss_classifier": 0.2322
         },
         {
          "iter": 46000,
          "loss_classifier": 0.3202
         },
         {
          "iter": 46100,
          "loss_classifier": 0.2398
         },
         {
          "iter": 46200,
          "loss_classifier": 0.1821
         },
         {
          "iter": 46300,
          "loss_classifier": 0.1706
         },
         {
          "iter": 46400,
          "loss_classifier": 0.2624
         },
         {
          "iter": 46500,
          "loss_classifier": 0.2628
         },
         {
          "iter": 46600,
          "loss_classifier": 0.2349
         },
         {
          "iter": 46700,
          "loss_classifier": 0.245
         },
         {
          "iter": 46800,
          "loss_classifier": 0.305
         },
         {
          "iter": 46900,
          "loss_classifier": 0.2587
         },
         {
          "iter": 47000,
          "loss_classifier": 0.2823
         },
         {
          "iter": 47100,
          "loss_classifier": 0.211
         },
         {
          "iter": 47200,
          "loss_classifier": 0.2696
         },
         {
          "iter": 47300,
          "loss_classifier": 0.2335
         },
         {
          "iter": 47400,
          "loss_classifier": 0.3024
         },
         {
          "iter": 47500,
          "loss_classifier": 0.2045
         },
         {
          "iter": 47600,
          "loss_classifier": 0.2941
         },
         {
          "iter": 47700,
          "loss_classifier": 0.2444
         },
         {
          "iter": 47800,
          "loss_classifier": 0.1578
         },
         {
          "iter": 47900,
          "loss_classifier": 0.2307
         },
         {
          "iter": 48000,
          "loss_classifier": 0.2428
         },
         {
          "iter": 48100,
          "loss_classifier": 0.2882
         },
         {
          "iter": 48200,
          "loss_classifier": 0.1699
         },
         {
          "iter": 48300,
          "loss_classifier": 0.2316
         },
         {
          "iter": 48400,
          "loss_classifier": 0.3703
         },
         {
          "iter": 48500,
          "loss_classifier": 0.221
         },
         {
          "iter": 48600,
          "loss_classifier": 0.1784
         },
         {
          "iter": 48700,
          "loss_classifier": 0.3316
         },
         {
          "iter": 48800,
          "loss_classifier": 0.2569
         },
         {
          "iter": 48900,
          "loss_classifier": 0.2724
         },
         {
          "iter": 49000,
          "loss_classifier": 0.2335
         },
         {
          "iter": 49100,
          "loss_classifier": 0.3244
         },
         {
          "iter": 49200,
          "loss_classifier": 0.2915
         },
         {
          "iter": 49300,
          "loss_classifier": 0.3613
         },
         {
          "iter": 49400,
          "loss_classifier": 0.2226
         },
         {
          "iter": 49500,
          "loss_classifier": 0.1855
         },
         {
          "iter": 49600,
          "loss_classifier": 0.1871
         },
         {
          "iter": 49700,
          "loss_classifier": 0.2156
         },
         {
          "iter": 49800,
          "loss_classifier": 0.2448
         },
         {
          "iter": 49900,
          "loss_classifier": 0.2006
         },
         {
          "iter": 50000,
          "loss_classifier": 0.1649
         },
         {
          "iter": 50100,
          "loss_classifier": 0.1312
         },
         {
          "iter": 50200,
          "loss_classifier": 0.1968
         },
         {
          "iter": 50300,
          "loss_classifier": 0.3555
         },
         {
          "iter": 50400,
          "loss_classifier": 0.1991
         },
         {
          "iter": 50500,
          "loss_classifier": 0.2689
         },
         {
          "iter": 50600,
          "loss_classifier": 0.1448
         },
         {
          "iter": 50700,
          "loss_classifier": 0.1894
         },
         {
          "iter": 50800,
          "loss_classifier": 0.2141
         },
         {
          "iter": 50900,
          "loss_classifier": 0.2407
         },
         {
          "iter": 51000,
          "loss_classifier": 0.2861
         },
         {
          "iter": 51100,
          "loss_classifier": 0.1467
         },
         {
          "iter": 51200,
          "loss_classifier": 0.2001
         },
         {
          "iter": 51300,
          "loss_classifier": 0.1739
         },
         {
          "iter": 51400,
          "loss_classifier": 0.3148
         },
         {
          "iter": 51500,
          "loss_classifier": 0.2564
         },
         {
          "iter": 51600,
          "loss_classifier": 0.2142
         },
         {
          "iter": 51700,
          "loss_classifier": 0.1911
         },
         {
          "iter": 51800,
          "loss_classifier": 0.2334
         },
         {
          "iter": 51900,
          "loss_classifier": 0.2388
         },
         {
          "iter": 52000,
          "loss_classifier": 0.1894
         },
         {
          "iter": 52100,
          "loss_classifier": 0.245
         },
         {
          "iter": 52200,
          "loss_classifier": 0.354
         },
         {
          "iter": 52300,
          "loss_classifier": 0.2226
         },
         {
          "iter": 52400,
          "loss_classifier": 0.3654
         },
         {
          "iter": 52500,
          "loss_classifier": 0.1722
         },
         {
          "iter": 52600,
          "loss_classifier": 0.3931
         },
         {
          "iter": 52700,
          "loss_classifier": 0.1318
         },
         {
          "iter": 52800,
          "loss_classifier": 0.2343
         },
         {
          "iter": 52900,
          "loss_classifier": 0.2549
         },
         {
          "iter": 53000,
          "loss_classifier": 0.2184
         },
         {
          "iter": 53100,
          "loss_classifier": 0.196
         },
         {
          "iter": 53200,
          "loss_classifier": 0.1401
         },
         {
          "iter": 53300,
          "loss_classifier": 0.1266
         },
         {
          "iter": 53400,
          "loss_classifier": 0.1678
         },
         {
          "iter": 53500,
          "loss_classifier": 0.2785
         },
         {
          "iter": 53600,
          "loss_classifier": 0.3053
         },
         {
          "iter": 53700,
          "loss_classifier": 0.2336
         },
         {
          "iter": 53800,
          "loss_classifier": 0.1908
         },
         {
          "iter": 53900,
          "loss_classifier": 0.3668
         },
         {
          "iter": 54000,
          "loss_classifier": 0.2266
         },
         {
          "iter": 54100,
          "loss_classifier": 0.1788
         },
         {
          "iter": 54200,
          "loss_classifier": 0.2833
         },
         {
          "iter": 54300,
          "loss_classifier": 0.2494
         },
         {
          "iter": 54400,
          "loss_classifier": 0.1846
         },
         {
          "iter": 54500,
          "loss_classifier": 0.2256
         },
         {
          "iter": 54600,
          "loss_classifier": 0.2893
         },
         {
          "iter": 54700,
          "loss_classifier": 0.2806
         },
         {
          "iter": 54800,
          "loss_classifier": 0.2789
         },
         {
          "iter": 54900,
          "loss_classifier": 0.2007
         },
         {
          "iter": 55000,
          "loss_classifier": 0.3036
         },
         {
          "iter": 55100,
          "loss_classifier": 0.1627
         },
         {
          "iter": 55200,
          "loss_classifier": 0.273
         },
         {
          "iter": 55300,
          "loss_classifier": 0.1746
         },
         {
          "iter": 55400,
          "loss_classifier": 0.1495
         },
         {
          "iter": 55500,
          "loss_classifier": 0.1413
         },
         {
          "iter": 55600,
          "loss_classifier": 0.2707
         },
         {
          "iter": 55700,
          "loss_classifier": 0.2537
         },
         {
          "iter": 55800,
          "loss_classifier": 0.2174
         },
         {
          "iter": 55900,
          "loss_classifier": 0.2472
         },
         {
          "iter": 56000,
          "loss_classifier": 0.2816
         },
         {
          "iter": 56100,
          "loss_classifier": 0.1568
         },
         {
          "iter": 56200,
          "loss_classifier": 0.2162
         },
         {
          "iter": 56300,
          "loss_classifier": 0.1198
         },
         {
          "iter": 56400,
          "loss_classifier": 0.2573
         },
         {
          "iter": 56500,
          "loss_classifier": 0.3404
         },
         {
          "iter": 56600,
          "loss_classifier": 0.2466
         },
         {
          "iter": 56700,
          "loss_classifier": 0.1668
         },
         {
          "iter": 56800,
          "loss_classifier": 0.1418
         },
         {
          "iter": 56900,
          "loss_classifier": 0.151
         },
         {
          "iter": 57000,
          "loss_classifier": 0.151
         },
         {
          "iter": 57100,
          "loss_classifier": 0.2406
         },
         {
          "iter": 57200,
          "loss_classifier": 0.1335
         },
         {
          "iter": 57300,
          "loss_classifier": 0.2349
         },
         {
          "iter": 57400,
          "loss_classifier": 0.2277
         },
         {
          "iter": 57500,
          "loss_classifier": 0.2808
         },
         {
          "iter": 57600,
          "loss_classifier": 0.1664
         },
         {
          "iter": 57700,
          "loss_classifier": 0.1527
         },
         {
          "iter": 57800,
          "loss_classifier": 0.2736
         },
         {
          "iter": 57900,
          "loss_classifier": 0.3332
         },
         {
          "iter": 58000,
          "loss_classifier": 0.2276
         },
         {
          "iter": 58100,
          "loss_classifier": 0.1158
         },
         {
          "iter": 58200,
          "loss_classifier": 0.321
         },
         {
          "iter": 58300,
          "loss_classifier": 0.2107
         },
         {
          "iter": 58400,
          "loss_classifier": 0.2876
         },
         {
          "iter": 58500,
          "loss_classifier": 0.176
         },
         {
          "iter": 58600,
          "loss_classifier": 0.2153
         },
         {
          "iter": 58700,
          "loss_classifier": 0.3302
         },
         {
          "iter": 58800,
          "loss_classifier": 0.1081
         },
         {
          "iter": 58900,
          "loss_classifier": 0.2325
         },
         {
          "iter": 59000,
          "loss_classifier": 0.3822
         },
         {
          "iter": 59100,
          "loss_classifier": 0.2531
         },
         {
          "iter": 59200,
          "loss_classifier": 0.2516
         },
         {
          "iter": 59300,
          "loss_classifier": 0.1844
         },
         {
          "iter": 59400,
          "loss_classifier": 0.2366
         },
         {
          "iter": 59500,
          "loss_classifier": 0.2488
         },
         {
          "iter": 59600,
          "loss_classifier": 0.2659
         },
         {
          "iter": 59700,
          "loss_classifier": 0.2407
         },
         {
          "iter": 59800,
          "loss_classifier": 0.1847
         },
         {
          "iter": 59900,
          "loss_classifier": 0.2137
         },
         {
          "iter": 60000,
          "loss_classifier": 0.1486
         },
         {
          "iter": 60100,
          "loss_classifier": 0.2614
         },
         {
          "iter": 60200,
          "loss_classifier": 0.2615
         },
         {
          "iter": 60300,
          "loss_classifier": 0.1337
         },
         {
          "iter": 60400,
          "loss_classifier": 0.1212
         },
         {
          "iter": 60500,
          "loss_classifier": 0.2051
         },
         {
          "iter": 60600,
          "loss_classifier": 0.1906
         },
         {
          "iter": 60700,
          "loss_classifier": 0.1969
         },
         {
          "iter": 60800,
          "loss_classifier": 0.2044
         },
         {
          "iter": 60900,
          "loss_classifier": 0.2153
         },
         {
          "iter": 61000,
          "loss_classifier": 0.2169
         },
         {
          "iter": 61100,
          "loss_classifier": 0.3239
         },
         {
          "iter": 61200,
          "loss_classifier": 0.2061
         },
         {
          "iter": 61300,
          "loss_classifier": 0.2595
         },
         {
          "iter": 61400,
          "loss_classifier": 0.1578
         },
         {
          "iter": 61500,
          "loss_classifier": 0.2745
         },
         {
          "iter": 61600,
          "loss_classifier": 0.2127
         },
         {
          "iter": 61700,
          "loss_classifier": 0.204
         },
         {
          "iter": 61800,
          "loss_classifier": 0.1967
         },
         {
          "iter": 61900,
          "loss_classifier": 0.277
         },
         {
          "iter": 62000,
          "loss_classifier": 0.2758
         },
         {
          "iter": 62100,
          "loss_classifier": 0.2236
         },
         {
          "iter": 62200,
          "loss_classifier": 0.2312
         },
         {
          "iter": 62300,
          "loss_classifier": 0.2584
         },
         {
          "iter": 62400,
          "loss_classifier": 0.2989
         },
         {
          "iter": 62500,
          "loss_classifier": 0.2553
         },
         {
          "iter": 62600,
          "loss_classifier": 0.2524
         },
         {
          "iter": 62700,
          "loss_classifier": 0.1898
         },
         {
          "iter": 62800,
          "loss_classifier": 0.3131
         },
         {
          "iter": 62900,
          "loss_classifier": 0.2434
         },
         {
          "iter": 63000,
          "loss_classifier": 0.2193
         },
         {
          "iter": 63100,
          "loss_classifier": 0.1284
         },
         {
          "iter": 63200,
          "loss_classifier": 0.3031
         },
         {
          "iter": 63300,
          "loss_classifier": 0.2833
         },
         {
          "iter": 63400,
          "loss_classifier": 0.3394
         },
         {
          "iter": 63500,
          "loss_classifier": 0.1471
         },
         {
          "iter": 63600,
          "loss_classifier": 0.3506
         },
         {
          "iter": 63700,
          "loss_classifier": 0.2162
         },
         {
          "iter": 63800,
          "loss_classifier": 0.1088
         },
         {
          "iter": 63900,
          "loss_classifier": 0.3507
         },
         {
          "iter": 64000,
          "loss_classifier": 0.2547
         },
         {
          "iter": 64100,
          "loss_classifier": 0.2237
         },
         {
          "iter": 64200,
          "loss_classifier": 0.2627
         },
         {
          "iter": 64300,
          "loss_classifier": 0.247
         },
         {
          "iter": 64400,
          "loss_classifier": 0.3444
         },
         {
          "iter": 64500,
          "loss_classifier": 0.2541
         },
         {
          "iter": 64600,
          "loss_classifier": 0.2181
         },
         {
          "iter": 64700,
          "loss_classifier": 0.1733
         },
         {
          "iter": 64800,
          "loss_classifier": 0.1686
         },
         {
          "iter": 64900,
          "loss_classifier": 0.1806
         },
         {
          "iter": 65000,
          "loss_classifier": 0.1665
         },
         {
          "iter": 65100,
          "loss_classifier": 0.0837
         },
         {
          "iter": 65200,
          "loss_classifier": 0.2273
         },
         {
          "iter": 65300,
          "loss_classifier": 0.3598
         },
         {
          "iter": 65400,
          "loss_classifier": 0.2516
         },
         {
          "iter": 65500,
          "loss_classifier": 0.2737
         },
         {
          "iter": 65600,
          "loss_classifier": 0.1807
         },
         {
          "iter": 65700,
          "loss_classifier": 0.1659
         },
         {
          "iter": 65800,
          "loss_classifier": 0.2159
         },
         {
          "iter": 65900,
          "loss_classifier": 0.195
         },
         {
          "iter": 66000,
          "loss_classifier": 0.2161
         },
         {
          "iter": 66100,
          "loss_classifier": 0.2515
         },
         {
          "iter": 66200,
          "loss_classifier": 0.1607
         },
         {
          "iter": 66300,
          "loss_classifier": 0.2108
         },
         {
          "iter": 66400,
          "loss_classifier": 0.2606
         },
         {
          "iter": 66500,
          "loss_classifier": 0.1307
         },
         {
          "iter": 66600,
          "loss_classifier": 0.2524
         },
         {
          "iter": 66700,
          "loss_classifier": 0.1544
         },
         {
          "iter": 66800,
          "loss_classifier": 0.3213
         },
         {
          "iter": 66900,
          "loss_classifier": 0.1716
         },
         {
          "iter": 67000,
          "loss_classifier": 0.2154
         },
         {
          "iter": 67100,
          "loss_classifier": 0.2415
         },
         {
          "iter": 67200,
          "loss_classifier": 0.2748
         },
         {
          "iter": 67300,
          "loss_classifier": 0.2532
         },
         {
          "iter": 67400,
          "loss_classifier": 0.2796
         },
         {
          "iter": 67500,
          "loss_classifier": 0.335
         },
         {
          "iter": 67600,
          "loss_classifier": 0.3765
         },
         {
          "iter": 67700,
          "loss_classifier": 0.2313
         },
         {
          "iter": 67800,
          "loss_classifier": 0.2262
         },
         {
          "iter": 67900,
          "loss_classifier": 0.1856
         },
         {
          "iter": 68000,
          "loss_classifier": 0.3115
         },
         {
          "iter": 68100,
          "loss_classifier": 0.167
         },
         {
          "iter": 68200,
          "loss_classifier": 0.2269
         },
         {
          "iter": 68300,
          "loss_classifier": 0.307
         },
         {
          "iter": 68400,
          "loss_classifier": 0.1573
         },
         {
          "iter": 68500,
          "loss_classifier": 0.2596
         },
         {
          "iter": 68600,
          "loss_classifier": 0.21
         },
         {
          "iter": 68700,
          "loss_classifier": 0.2906
         },
         {
          "iter": 68800,
          "loss_classifier": 0.1997
         },
         {
          "iter": 68900,
          "loss_classifier": 0.1873
         },
         {
          "iter": 69000,
          "loss_classifier": 0.2356
         },
         {
          "iter": 69100,
          "loss_classifier": 0.3206
         },
         {
          "iter": 69200,
          "loss_classifier": 0.2501
         },
         {
          "iter": 69300,
          "loss_classifier": 0.2551
         },
         {
          "iter": 69400,
          "loss_classifier": 0.2705
         },
         {
          "iter": 69500,
          "loss_classifier": 0.1751
         },
         {
          "iter": 69600,
          "loss_classifier": 0.1678
         },
         {
          "iter": 69700,
          "loss_classifier": 0.1742
         },
         {
          "iter": 69800,
          "loss_classifier": 0.4539
         },
         {
          "iter": 69900,
          "loss_classifier": 0.2853
         },
         {
          "iter": 70000,
          "loss_classifier": 0.1034
         },
         {
          "iter": 70100,
          "loss_classifier": 0.2202
         },
         {
          "iter": 70200,
          "loss_classifier": 0.0639
         },
         {
          "iter": 70300,
          "loss_classifier": 0.2562
         },
         {
          "iter": 70400,
          "loss_classifier": 0.1892
         },
         {
          "iter": 70500,
          "loss_classifier": 0.1532
         },
         {
          "iter": 70600,
          "loss_classifier": 0.2665
         },
         {
          "iter": 70700,
          "loss_classifier": 0.2524
         },
         {
          "iter": 70800,
          "loss_classifier": 0.252
         },
         {
          "iter": 70900,
          "loss_classifier": 0.1659
         },
         {
          "iter": 71000,
          "loss_classifier": 0.1461
         },
         {
          "iter": 71100,
          "loss_classifier": 0.2276
         },
         {
          "iter": 71200,
          "loss_classifier": 0.2511
         },
         {
          "iter": 71300,
          "loss_classifier": 0.2742
         },
         {
          "iter": 71400,
          "loss_classifier": 0.356
         },
         {
          "iter": 71500,
          "loss_classifier": 0.2381
         },
         {
          "iter": 71600,
          "loss_classifier": 0.302
         },
         {
          "iter": 71700,
          "loss_classifier": 0.3392
         },
         {
          "iter": 71800,
          "loss_classifier": 0.1842
         },
         {
          "iter": 71900,
          "loss_classifier": 0.2358
         },
         {
          "iter": 72000,
          "loss_classifier": 0.378
         },
         {
          "iter": 72100,
          "loss_classifier": 0.2313
         },
         {
          "iter": 72200,
          "loss_classifier": 0.3309
         },
         {
          "iter": 72300,
          "loss_classifier": 0.1728
         },
         {
          "iter": 72400,
          "loss_classifier": 0.1809
         },
         {
          "iter": 72500,
          "loss_classifier": 0.1681
         },
         {
          "iter": 72600,
          "loss_classifier": 0.3349
         },
         {
          "iter": 72700,
          "loss_classifier": 0.2285
         },
         {
          "iter": 72800,
          "loss_classifier": 0.1983
         },
         {
          "iter": 72900,
          "loss_classifier": 0.2602
         },
         {
          "iter": 73000,
          "loss_classifier": 0.1372
         },
         {
          "iter": 73100,
          "loss_classifier": 0.1603
         },
         {
          "iter": 73200,
          "loss_classifier": 0.2061
         },
         {
          "iter": 73300,
          "loss_classifier": 0.1295
         },
         {
          "iter": 73400,
          "loss_classifier": 0.1812
         },
         {
          "iter": 73500,
          "loss_classifier": 0.2037
         },
         {
          "iter": 73600,
          "loss_classifier": 0.2623
         },
         {
          "iter": 73700,
          "loss_classifier": 0.2718
         },
         {
          "iter": 73800,
          "loss_classifier": 0.18
         },
         {
          "iter": 73900,
          "loss_classifier": 0.1865
         },
         {
          "iter": 74000,
          "loss_classifier": 0.1421
         },
         {
          "iter": 74100,
          "loss_classifier": 0.2572
         },
         {
          "iter": 74200,
          "loss_classifier": 0.16
         },
         {
          "iter": 74300,
          "loss_classifier": 0.2256
         },
         {
          "iter": 74400,
          "loss_classifier": 0.2877
         },
         {
          "iter": 74500,
          "loss_classifier": 0.2637
         },
         {
          "iter": 74600,
          "loss_classifier": 0.2224
         },
         {
          "iter": 74700,
          "loss_classifier": 0.2647
         },
         {
          "iter": 74800,
          "loss_classifier": 0.1668
         },
         {
          "iter": 74900,
          "loss_classifier": 0.2297
         },
         {
          "iter": 75000,
          "loss_classifier": 0.2363
         },
         {
          "iter": 75100,
          "loss_classifier": 0.1661
         },
         {
          "iter": 75200,
          "loss_classifier": 0.1105
         },
         {
          "iter": 75300,
          "loss_classifier": 0.2348
         },
         {
          "iter": 75400,
          "loss_classifier": 0.2329
         },
         {
          "iter": 75500,
          "loss_classifier": 0.2594
         },
         {
          "iter": 75600,
          "loss_classifier": 0.2398
         },
         {
          "iter": 75700,
          "loss_classifier": 0.1975
         },
         {
          "iter": 75800,
          "loss_classifier": 0.154
         },
         {
          "iter": 75900,
          "loss_classifier": 0.3293
         },
         {
          "iter": 76000,
          "loss_classifier": 0.3495
         },
         {
          "iter": 76100,
          "loss_classifier": 0.2716
         },
         {
          "iter": 76200,
          "loss_classifier": 0.2616
         },
         {
          "iter": 76300,
          "loss_classifier": 0.3902
         },
         {
          "iter": 76400,
          "loss_classifier": 0.1302
         },
         {
          "iter": 76500,
          "loss_classifier": 0.2415
         },
         {
          "iter": 76600,
          "loss_classifier": 0.235
         },
         {
          "iter": 76700,
          "loss_classifier": 0.2107
         },
         {
          "iter": 76800,
          "loss_classifier": 0.2638
         },
         {
          "iter": 76900,
          "loss_classifier": 0.1935
         },
         {
          "iter": 77000,
          "loss_classifier": 0.2402
         },
         {
          "iter": 77100,
          "loss_classifier": 0.2664
         },
         {
          "iter": 77200,
          "loss_classifier": 0.2431
         },
         {
          "iter": 77300,
          "loss_classifier": 0.2652
         },
         {
          "iter": 77400,
          "loss_classifier": 0.1401
         },
         {
          "iter": 77500,
          "loss_classifier": 0.2875
         },
         {
          "iter": 77600,
          "loss_classifier": 0.2596
         }
        ]
       },
       "encoding": {
        "x": {
         "field": "iter",
         "type": "quantitative"
        },
        "y": {
         "field": "loss_classifier",
         "type": "quantitative"
        }
       },
       "mark": "line"
      },
      "image/png": "[encoded data removed]",
      "text/plain": [
       "<VegaLite 3 object>\n",
       "\n",
       "If you see this message, it means the renderer has not been properly enabled\n",
       "for the frontend that you are using. For more information, see\n",
       "https://altair-viz.github.io/user_guide/troubleshooting.html\n"
      ]
     },
     "metadata": {},
     "output_type": "display_data"
    },
    {
     "data": {
      "application/vnd.vegalite.v3+json": {
       "$schema": "https://vega.github.io/schema/vega-lite/v3.4.0.json",
       "config": {
        "mark": {
         "tooltip": null
        },
        "view": {
         "height": 300,
         "width": 400
        }
       },
       "data": {
        "name": "data-08c3862b9982b491e30ed970bf79afb8"
       },
       "datasets": {
        "data-08c3862b9982b491e30ed970bf79afb8": [
         {
          "iter": 0,
          "loss_mask": 1.0452
         },
         {
          "iter": 100,
          "loss_mask": 0.6849
         },
         {
          "iter": 200,
          "loss_mask": 0.6445
         },
         {
          "iter": 300,
          "loss_mask": 0.6107
         },
         {
          "iter": 400,
          "loss_mask": 0.5728
         },
         {
          "iter": 500,
          "loss_mask": 0.535
         },
         {
          "iter": 600,
          "loss_mask": 0.5503
         },
         {
          "iter": 700,
          "loss_mask": 0.4461
         },
         {
          "iter": 800,
          "loss_mask": 0.4915
         },
         {
          "iter": 900,
          "loss_mask": 0.4656
         },
         {
          "iter": 1000,
          "loss_mask": 0.4014
         },
         {
          "iter": 1100,
          "loss_mask": 0.4833
         },
         {
          "iter": 1200,
          "loss_mask": 0.4526
         },
         {
          "iter": 1300,
          "loss_mask": 0.4232
         },
         {
          "iter": 1400,
          "loss_mask": 0.4658
         },
         {
          "iter": 1500,
          "loss_mask": 0.4261
         },
         {
          "iter": 1600,
          "loss_mask": 0.3575
         },
         {
          "iter": 1700,
          "loss_mask": 0.3813
         },
         {
          "iter": 1800,
          "loss_mask": 0.4209
         },
         {
          "iter": 1900,
          "loss_mask": 0.3536
         },
         {
          "iter": 2000,
          "loss_mask": 0.3455
         },
         {
          "iter": 2100,
          "loss_mask": 0.3312
         },
         {
          "iter": 2200,
          "loss_mask": 0.3955
         },
         {
          "iter": 2300,
          "loss_mask": 0.394
         },
         {
          "iter": 2400,
          "loss_mask": 0.3174
         },
         {
          "iter": 2500,
          "loss_mask": 0.4413
         },
         {
          "iter": 2600,
          "loss_mask": 0.2973
         },
         {
          "iter": 2700,
          "loss_mask": 0.3586
         },
         {
          "iter": 2800,
          "loss_mask": 0.359
         },
         {
          "iter": 2900,
          "loss_mask": 0.3836
         },
         {
          "iter": 3000,
          "loss_mask": 0.4274
         },
         {
          "iter": 3100,
          "loss_mask": 0.3961
         },
         {
          "iter": 3200,
          "loss_mask": 0.3778
         },
         {
          "iter": 3300,
          "loss_mask": 0.3164
         },
         {
          "iter": 3400,
          "loss_mask": 0.3435
         },
         {
          "iter": 3500,
          "loss_mask": 0.302
         },
         {
          "iter": 3600,
          "loss_mask": 0.3697
         },
         {
          "iter": 3700,
          "loss_mask": 0.3649
         },
         {
          "iter": 3800,
          "loss_mask": 0.3431
         },
         {
          "iter": 3900,
          "loss_mask": 0.362
         },
         {
          "iter": 4000,
          "loss_mask": 0.3521
         },
         {
          "iter": 4100,
          "loss_mask": 0.3975
         },
         {
          "iter": 4200,
          "loss_mask": 0.3268
         },
         {
          "iter": 4300,
          "loss_mask": 0.4007
         },
         {
          "iter": 4400,
          "loss_mask": 0.3319
         },
         {
          "iter": 4500,
          "loss_mask": 0.3169
         },
         {
          "iter": 4600,
          "loss_mask": 0.2997
         },
         {
          "iter": 4700,
          "loss_mask": 0.278
         },
         {
          "iter": 4800,
          "loss_mask": 0.3147
         },
         {
          "iter": 4900,
          "loss_mask": 0.4333
         },
         {
          "iter": 5000,
          "loss_mask": 0.4187
         },
         {
          "iter": 5100,
          "loss_mask": 0.3831
         },
         {
          "iter": 5200,
          "loss_mask": 0.4158
         },
         {
          "iter": 5300,
          "loss_mask": 0.3306
         },
         {
          "iter": 5400,
          "loss_mask": 0.4139
         },
         {
          "iter": 5500,
          "loss_mask": 0.3246
         },
         {
          "iter": 5600,
          "loss_mask": 0.3277
         },
         {
          "iter": 5700,
          "loss_mask": 0.3416
         },
         {
          "iter": 5800,
          "loss_mask": 0.2749
         },
         {
          "iter": 5900,
          "loss_mask": 0.3408
         },
         {
          "iter": 6000,
          "loss_mask": 0.3953
         },
         {
          "iter": 6100,
          "loss_mask": 0.297
         },
         {
          "iter": 6200,
          "loss_mask": 0.3052
         },
         {
          "iter": 6300,
          "loss_mask": 0.3837
         },
         {
          "iter": 6400,
          "loss_mask": 0.3604
         },
         {
          "iter": 6500,
          "loss_mask": 0.3164
         },
         {
          "iter": 6600,
          "loss_mask": 0.3138
         },
         {
          "iter": 6700,
          "loss_mask": 0.5224
         },
         {
          "iter": 6800,
          "loss_mask": 0.3167
         },
         {
          "iter": 6900,
          "loss_mask": 0.3811
         },
         {
          "iter": 7000,
          "loss_mask": 0.3583
         },
         {
          "iter": 7100,
          "loss_mask": 0.357
         },
         {
          "iter": 7200,
          "loss_mask": 0.2804
         },
         {
          "iter": 7300,
          "loss_mask": 0.2911
         },
         {
          "iter": 7400,
          "loss_mask": 0.3568
         },
         {
          "iter": 7500,
          "loss_mask": 0.2876
         },
         {
          "iter": 7600,
          "loss_mask": 0.3278
         },
         {
          "iter": 7700,
          "loss_mask": 0.3592
         },
         {
          "iter": 7800,
          "loss_mask": 0.2786
         },
         {
          "iter": 7900,
          "loss_mask": 0.3335
         },
         {
          "iter": 8000,
          "loss_mask": 0.3809
         },
         {
          "iter": 8100,
          "loss_mask": 0.2562
         },
         {
          "iter": 8200,
          "loss_mask": 0.4571
         },
         {
          "iter": 8300,
          "loss_mask": 0.3624
         },
         {
          "iter": 8400,
          "loss_mask": 0.255
         },
         {
          "iter": 8500,
          "loss_mask": 0.3291
         },
         {
          "iter": 8600,
          "loss_mask": 0.3843
         },
         {
          "iter": 8700,
          "loss_mask": 0.3015
         },
         {
          "iter": 8800,
          "loss_mask": 0.3148
         },
         {
          "iter": 8900,
          "loss_mask": 0.3345
         },
         {
          "iter": 9000,
          "loss_mask": 0.3455
         },
         {
          "iter": 9100,
          "loss_mask": 0.3289
         },
         {
          "iter": 9200,
          "loss_mask": 0.3008
         },
         {
          "iter": 9300,
          "loss_mask": 0.3279
         },
         {
          "iter": 9400,
          "loss_mask": 0.2906
         },
         {
          "iter": 9500,
          "loss_mask": 0.2852
         },
         {
          "iter": 9600,
          "loss_mask": 0.267
         },
         {
          "iter": 9700,
          "loss_mask": 0.3447
         },
         {
          "iter": 9800,
          "loss_mask": 0.4178
         },
         {
          "iter": 9900,
          "loss_mask": 0.3238
         },
         {
          "iter": 10000,
          "loss_mask": 0.3076
         },
         {
          "iter": 10100,
          "loss_mask": 0.3849
         },
         {
          "iter": 10200,
          "loss_mask": 0.2526
         },
         {
          "iter": 10300,
          "loss_mask": 0.3599
         },
         {
          "iter": 10400,
          "loss_mask": 0.241
         },
         {
          "iter": 10500,
          "loss_mask": 0.3247
         },
         {
          "iter": 10600,
          "loss_mask": 0.2906
         },
         {
          "iter": 10700,
          "loss_mask": 0.2784
         },
         {
          "iter": 10800,
          "loss_mask": 0.3433
         },
         {
          "iter": 10900,
          "loss_mask": 0.3022
         },
         {
          "iter": 11000,
          "loss_mask": 0.3242
         },
         {
          "iter": 11100,
          "loss_mask": 0.339
         },
         {
          "iter": 11200,
          "loss_mask": 0.2984
         },
         {
          "iter": 11300,
          "loss_mask": 0.3465
         },
         {
          "iter": 11400,
          "loss_mask": 0.2926
         },
         {
          "iter": 11500,
          "loss_mask": 0.3117
         },
         {
          "iter": 11600,
          "loss_mask": 0.3552
         },
         {
          "iter": 11700,
          "loss_mask": 0.3267
         },
         {
          "iter": 11800,
          "loss_mask": 0.2708
         },
         {
          "iter": 11900,
          "loss_mask": 0.2954
         },
         {
          "iter": 12000,
          "loss_mask": 0.3372
         },
         {
          "iter": 12100,
          "loss_mask": 0.2364
         },
         {
          "iter": 12200,
          "loss_mask": 0.321
         },
         {
          "iter": 12300,
          "loss_mask": 0.2968
         },
         {
          "iter": 12400,
          "loss_mask": 0.3728
         },
         {
          "iter": 12500,
          "loss_mask": 0.3079
         },
         {
          "iter": 12600,
          "loss_mask": 0.2902
         },
         {
          "iter": 12700,
          "loss_mask": 0.3513
         },
         {
          "iter": 12800,
          "loss_mask": 0.3182
         },
         {
          "iter": 12900,
          "loss_mask": 0.3114
         },
         {
          "iter": 13000,
          "loss_mask": 0.4049
         },
         {
          "iter": 13100,
          "loss_mask": 0.3558
         },
         {
          "iter": 13200,
          "loss_mask": 0.3807
         },
         {
          "iter": 13300,
          "loss_mask": 0.3535
         },
         {
          "iter": 13400,
          "loss_mask": 0.2682
         },
         {
          "iter": 13500,
          "loss_mask": 0.3206
         },
         {
          "iter": 13600,
          "loss_mask": 0.3139
         },
         {
          "iter": 13700,
          "loss_mask": 0.2977
         },
         {
          "iter": 13800,
          "loss_mask": 0.2838
         },
         {
          "iter": 13900,
          "loss_mask": 0.3419
         },
         {
          "iter": 14000,
          "loss_mask": 0.2834
         },
         {
          "iter": 14100,
          "loss_mask": 0.3219
         },
         {
          "iter": 14200,
          "loss_mask": 0.3064
         },
         {
          "iter": 14300,
          "loss_mask": 0.2923
         },
         {
          "iter": 14400,
          "loss_mask": 0.3179
         },
         {
          "iter": 14500,
          "loss_mask": 0.305
         },
         {
          "iter": 14600,
          "loss_mask": 0.3613
         },
         {
          "iter": 14700,
          "loss_mask": 0.3327
         },
         {
          "iter": 14800,
          "loss_mask": 0.277
         },
         {
          "iter": 14900,
          "loss_mask": 0.2586
         },
         {
          "iter": 15000,
          "loss_mask": 0.3149
         },
         {
          "iter": 15100,
          "loss_mask": 0.3296
         },
         {
          "iter": 15200,
          "loss_mask": 0.2969
         },
         {
          "iter": 15300,
          "loss_mask": 0.3014
         },
         {
          "iter": 15400,
          "loss_mask": 0.3107
         },
         {
          "iter": 15500,
          "loss_mask": 0.3185
         },
         {
          "iter": 15600,
          "loss_mask": 0.3131
         },
         {
          "iter": 15700,
          "loss_mask": 0.2735
         },
         {
          "iter": 15800,
          "loss_mask": 0.354
         },
         {
          "iter": 15900,
          "loss_mask": 0.3473
         },
         {
          "iter": 16000,
          "loss_mask": 0.3522
         },
         {
          "iter": 16100,
          "loss_mask": 0.3644
         },
         {
          "iter": 16200,
          "loss_mask": 0.296
         },
         {
          "iter": 16300,
          "loss_mask": 0.2729
         },
         {
          "iter": 16400,
          "loss_mask": 0.2985
         },
         {
          "iter": 16500,
          "loss_mask": 0.2651
         },
         {
          "iter": 16600,
          "loss_mask": 0.2907
         },
         {
          "iter": 16700,
          "loss_mask": 0.3269
         },
         {
          "iter": 16800,
          "loss_mask": 0.2444
         },
         {
          "iter": 16900,
          "loss_mask": 0.328
         },
         {
          "iter": 17000,
          "loss_mask": 0.2753
         },
         {
          "iter": 17100,
          "loss_mask": 0.3294
         },
         {
          "iter": 17200,
          "loss_mask": 0.3658
         },
         {
          "iter": 17300,
          "loss_mask": 0.2783
         },
         {
          "iter": 17400,
          "loss_mask": 0.204
         },
         {
          "iter": 17500,
          "loss_mask": 0.3088
         },
         {
          "iter": 17600,
          "loss_mask": 0.2645
         },
         {
          "iter": 17700,
          "loss_mask": 0.4066
         },
         {
          "iter": 17800,
          "loss_mask": 0.3092
         },
         {
          "iter": 17900,
          "loss_mask": 0.3201
         },
         {
          "iter": 18000,
          "loss_mask": 0.3388
         },
         {
          "iter": 18100,
          "loss_mask": 0.3269
         },
         {
          "iter": 18200,
          "loss_mask": 0.2898
         },
         {
          "iter": 18300,
          "loss_mask": 0.3418
         },
         {
          "iter": 18400,
          "loss_mask": 0.2936
         },
         {
          "iter": 18500,
          "loss_mask": 0.1948
         },
         {
          "iter": 18600,
          "loss_mask": 0.3412
         },
         {
          "iter": 18700,
          "loss_mask": 0.3321
         },
         {
          "iter": 18800,
          "loss_mask": 0.3222
         },
         {
          "iter": 18900,
          "loss_mask": 0.3002
         },
         {
          "iter": 19000,
          "loss_mask": 0.2936
         },
         {
          "iter": 19100,
          "loss_mask": 0.2727
         },
         {
          "iter": 19200,
          "loss_mask": 0.3242
         },
         {
          "iter": 19300,
          "loss_mask": 0.3243
         },
         {
          "iter": 19400,
          "loss_mask": 0.3155
         },
         {
          "iter": 19500,
          "loss_mask": 0.2778
         },
         {
          "iter": 19600,
          "loss_mask": 0.2999
         },
         {
          "iter": 19700,
          "loss_mask": 0.3484
         },
         {
          "iter": 19800,
          "loss_mask": 0.2871
         },
         {
          "iter": 19900,
          "loss_mask": 0.2818
         },
         {
          "iter": 20000,
          "loss_mask": 0.3043
         },
         {
          "iter": 20100,
          "loss_mask": 0.3109
         },
         {
          "iter": 20200,
          "loss_mask": 0.3261
         },
         {
          "iter": 20300,
          "loss_mask": 0.2726
         },
         {
          "iter": 20400,
          "loss_mask": 0.2817
         },
         {
          "iter": 20500,
          "loss_mask": 0.33
         },
         {
          "iter": 20600,
          "loss_mask": 0.2749
         },
         {
          "iter": 20700,
          "loss_mask": 0.3076
         },
         {
          "iter": 20800,
          "loss_mask": 0.3394
         },
         {
          "iter": 20900,
          "loss_mask": 0.293
         },
         {
          "iter": 21000,
          "loss_mask": 0.3505
         },
         {
          "iter": 21100,
          "loss_mask": 0.2968
         },
         {
          "iter": 21200,
          "loss_mask": 0.2777
         },
         {
          "iter": 21300,
          "loss_mask": 0.3663
         },
         {
          "iter": 21400,
          "loss_mask": 0.2533
         },
         {
          "iter": 21500,
          "loss_mask": 0.2625
         },
         {
          "iter": 21600,
          "loss_mask": 0.278
         },
         {
          "iter": 21700,
          "loss_mask": 0.2652
         },
         {
          "iter": 21800,
          "loss_mask": 0.2503
         },
         {
          "iter": 21900,
          "loss_mask": 0.2451
         },
         {
          "iter": 22000,
          "loss_mask": 0.3255
         },
         {
          "iter": 22100,
          "loss_mask": 0.2826
         },
         {
          "iter": 22200,
          "loss_mask": 0.3321
         },
         {
          "iter": 22300,
          "loss_mask": 0.333
         },
         {
          "iter": 22400,
          "loss_mask": 0.3456
         },
         {
          "iter": 22500,
          "loss_mask": 0.3297
         },
         {
          "iter": 22600,
          "loss_mask": 0.3586
         },
         {
          "iter": 22700,
          "loss_mask": 0.2568
         },
         {
          "iter": 22800,
          "loss_mask": 0.298
         },
         {
          "iter": 22900,
          "loss_mask": 0.2323
         },
         {
          "iter": 23000,
          "loss_mask": 0.2618
         },
         {
          "iter": 23100,
          "loss_mask": 0.2779
         },
         {
          "iter": 23200,
          "loss_mask": 0.3033
         },
         {
          "iter": 23300,
          "loss_mask": 0.2399
         },
         {
          "iter": 23400,
          "loss_mask": 0.2976
         },
         {
          "iter": 23500,
          "loss_mask": 0.2146
         },
         {
          "iter": 23600,
          "loss_mask": 0.328
         },
         {
          "iter": 23700,
          "loss_mask": 0.2936
         },
         {
          "iter": 23800,
          "loss_mask": 0.2934
         },
         {
          "iter": 23900,
          "loss_mask": 0.3429
         },
         {
          "iter": 24000,
          "loss_mask": 0.2755
         },
         {
          "iter": 24100,
          "loss_mask": 0.3206
         },
         {
          "iter": 24200,
          "loss_mask": 0.2501
         },
         {
          "iter": 24300,
          "loss_mask": 0.3265
         },
         {
          "iter": 24400,
          "loss_mask": 0.295
         },
         {
          "iter": 24500,
          "loss_mask": 0.2792
         },
         {
          "iter": 24600,
          "loss_mask": 0.2023
         },
         {
          "iter": 24700,
          "loss_mask": 0.315
         },
         {
          "iter": 24800,
          "loss_mask": 0.3206
         },
         {
          "iter": 24900,
          "loss_mask": 0.3332
         },
         {
          "iter": 25000,
          "loss_mask": 0.2112
         },
         {
          "iter": 25100,
          "loss_mask": 0.2441
         },
         {
          "iter": 25200,
          "loss_mask": 0.2851
         },
         {
          "iter": 25300,
          "loss_mask": 0.2943
         },
         {
          "iter": 25400,
          "loss_mask": 0.3523
         },
         {
          "iter": 25500,
          "loss_mask": 0.3058
         },
         {
          "iter": 25600,
          "loss_mask": 0.3978
         },
         {
          "iter": 25700,
          "loss_mask": 0.2465
         },
         {
          "iter": 25800,
          "loss_mask": 0.2421
         },
         {
          "iter": 25900,
          "loss_mask": 0.3678
         },
         {
          "iter": 26000,
          "loss_mask": 0.3004
         },
         {
          "iter": 26100,
          "loss_mask": 0.3336
         },
         {
          "iter": 26200,
          "loss_mask": 0.3299
         },
         {
          "iter": 26300,
          "loss_mask": 0.2843
         },
         {
          "iter": 26400,
          "loss_mask": 0.3008
         },
         {
          "iter": 26500,
          "loss_mask": 0.2038
         },
         {
          "iter": 26600,
          "loss_mask": 0.2687
         },
         {
          "iter": 26700,
          "loss_mask": 0.2604
         },
         {
          "iter": 26800,
          "loss_mask": 0.2834
         },
         {
          "iter": 26900,
          "loss_mask": 0.3063
         },
         {
          "iter": 27000,
          "loss_mask": 0.2853
         },
         {
          "iter": 27100,
          "loss_mask": 0.2836
         },
         {
          "iter": 27200,
          "loss_mask": 0.2574
         },
         {
          "iter": 27300,
          "loss_mask": 0.248
         },
         {
          "iter": 27400,
          "loss_mask": 0.259
         },
         {
          "iter": 27500,
          "loss_mask": 0.2866
         },
         {
          "iter": 27600,
          "loss_mask": 0.3116
         },
         {
          "iter": 27700,
          "loss_mask": 0.3239
         },
         {
          "iter": 27800,
          "loss_mask": 0.2501
         },
         {
          "iter": 27900,
          "loss_mask": 0.3363
         },
         {
          "iter": 28000,
          "loss_mask": 0.3237
         },
         {
          "iter": 28100,
          "loss_mask": 0.3055
         },
         {
          "iter": 28200,
          "loss_mask": 0.25
         },
         {
          "iter": 28300,
          "loss_mask": 0.3022
         },
         {
          "iter": 28400,
          "loss_mask": 0.3058
         },
         {
          "iter": 28500,
          "loss_mask": 0.2815
         },
         {
          "iter": 28600,
          "loss_mask": 0.3174
         },
         {
          "iter": 28700,
          "loss_mask": 0.286
         },
         {
          "iter": 28800,
          "loss_mask": 0.3255
         },
         {
          "iter": 28900,
          "loss_mask": 0.2481
         },
         {
          "iter": 29000,
          "loss_mask": 0.3157
         },
         {
          "iter": 29100,
          "loss_mask": 0.1749
         },
         {
          "iter": 29200,
          "loss_mask": 0.3025
         },
         {
          "iter": 29300,
          "loss_mask": 0.2871
         },
         {
          "iter": 29400,
          "loss_mask": 0.2227
         },
         {
          "iter": 29500,
          "loss_mask": 0.2984
         },
         {
          "iter": 29600,
          "loss_mask": 0.3482
         },
         {
          "iter": 29700,
          "loss_mask": 0.3164
         },
         {
          "iter": 29800,
          "loss_mask": 0.2714
         },
         {
          "iter": 29900,
          "loss_mask": 0.2806
         },
         {
          "iter": 30000,
          "loss_mask": 0.3002
         },
         {
          "iter": 30100,
          "loss_mask": 0.3129
         },
         {
          "iter": 30200,
          "loss_mask": 0.3554
         },
         {
          "iter": 30300,
          "loss_mask": 0.2677
         },
         {
          "iter": 30400,
          "loss_mask": 0.3103
         },
         {
          "iter": 30500,
          "loss_mask": 0.359
         },
         {
          "iter": 30600,
          "loss_mask": 0.1875
         },
         {
          "iter": 30700,
          "loss_mask": 0.2496
         },
         {
          "iter": 30800,
          "loss_mask": 0.3745
         },
         {
          "iter": 30900,
          "loss_mask": 0.3437
         },
         {
          "iter": 31000,
          "loss_mask": 0.2795
         },
         {
          "iter": 31100,
          "loss_mask": 0.3745
         },
         {
          "iter": 31200,
          "loss_mask": 0.2635
         },
         {
          "iter": 31300,
          "loss_mask": 0.2083
         },
         {
          "iter": 31400,
          "loss_mask": 0.3018
         },
         {
          "iter": 31500,
          "loss_mask": 0.2483
         },
         {
          "iter": 31600,
          "loss_mask": 0.3061
         },
         {
          "iter": 31700,
          "loss_mask": 0.3118
         },
         {
          "iter": 31800,
          "loss_mask": 0.2523
         },
         {
          "iter": 31900,
          "loss_mask": 0.3164
         },
         {
          "iter": 32000,
          "loss_mask": 0.2003
         },
         {
          "iter": 32100,
          "loss_mask": 0.2839
         },
         {
          "iter": 32200,
          "loss_mask": 0.3152
         },
         {
          "iter": 32300,
          "loss_mask": 0.2025
         },
         {
          "iter": 32400,
          "loss_mask": 0.2304
         },
         {
          "iter": 32500,
          "loss_mask": 0.2777
         },
         {
          "iter": 32600,
          "loss_mask": 0.2933
         },
         {
          "iter": 32700,
          "loss_mask": 0.2256
         },
         {
          "iter": 32800,
          "loss_mask": 0.365
         },
         {
          "iter": 32900,
          "loss_mask": 0.2932
         },
         {
          "iter": 33000,
          "loss_mask": 0.2866
         },
         {
          "iter": 33100,
          "loss_mask": 0.3267
         },
         {
          "iter": 33200,
          "loss_mask": 0.2965
         },
         {
          "iter": 33300,
          "loss_mask": 0.2656
         },
         {
          "iter": 33400,
          "loss_mask": 0.2188
         },
         {
          "iter": 33500,
          "loss_mask": 0.3112
         },
         {
          "iter": 33600,
          "loss_mask": 0.3175
         },
         {
          "iter": 33700,
          "loss_mask": 0.2835
         },
         {
          "iter": 33800,
          "loss_mask": 0.2505
         },
         {
          "iter": 33900,
          "loss_mask": 0.3147
         },
         {
          "iter": 34000,
          "loss_mask": 0.2657
         },
         {
          "iter": 34100,
          "loss_mask": 0.3992
         },
         {
          "iter": 34200,
          "loss_mask": 0.2835
         },
         {
          "iter": 34300,
          "loss_mask": 0.282
         },
         {
          "iter": 34400,
          "loss_mask": 0.3328
         },
         {
          "iter": 34500,
          "loss_mask": 0.255
         },
         {
          "iter": 34600,
          "loss_mask": 0.2736
         },
         {
          "iter": 34700,
          "loss_mask": 0.2647
         },
         {
          "iter": 34800,
          "loss_mask": 0.3089
         },
         {
          "iter": 34900,
          "loss_mask": 0.3478
         },
         {
          "iter": 35000,
          "loss_mask": 0.2604
         },
         {
          "iter": 35100,
          "loss_mask": 0.2849
         },
         {
          "iter": 35200,
          "loss_mask": 0.2786
         },
         {
          "iter": 35300,
          "loss_mask": 0.2914
         },
         {
          "iter": 35400,
          "loss_mask": 0.3494
         },
         {
          "iter": 35500,
          "loss_mask": 0.2891
         },
         {
          "iter": 35600,
          "loss_mask": 0.2866
         },
         {
          "iter": 35700,
          "loss_mask": 0.2694
         },
         {
          "iter": 35800,
          "loss_mask": 0.2852
         },
         {
          "iter": 35900,
          "loss_mask": 0.2338
         },
         {
          "iter": 36000,
          "loss_mask": 0.2908
         },
         {
          "iter": 36100,
          "loss_mask": 0.276
         },
         {
          "iter": 36200,
          "loss_mask": 0.3035
         },
         {
          "iter": 36300,
          "loss_mask": 0.3337
         },
         {
          "iter": 36400,
          "loss_mask": 0.2781
         },
         {
          "iter": 36500,
          "loss_mask": 0.2596
         },
         {
          "iter": 36600,
          "loss_mask": 0.3037
         },
         {
          "iter": 36700,
          "loss_mask": 0.3122
         },
         {
          "iter": 36800,
          "loss_mask": 0.2917
         },
         {
          "iter": 36900,
          "loss_mask": 0.2583
         },
         {
          "iter": 37000,
          "loss_mask": 0.3369
         },
         {
          "iter": 37100,
          "loss_mask": 0.3116
         },
         {
          "iter": 37200,
          "loss_mask": 0.2692
         },
         {
          "iter": 37300,
          "loss_mask": 0.2738
         },
         {
          "iter": 37400,
          "loss_mask": 0.292
         },
         {
          "iter": 37500,
          "loss_mask": 0.2536
         },
         {
          "iter": 37600,
          "loss_mask": 0.2554
         },
         {
          "iter": 37700,
          "loss_mask": 0.2836
         },
         {
          "iter": 37800,
          "loss_mask": 0.2542
         },
         {
          "iter": 37900,
          "loss_mask": 0.2293
         },
         {
          "iter": 38000,
          "loss_mask": 0.2581
         },
         {
          "iter": 38100,
          "loss_mask": 0.3226
         },
         {
          "iter": 38200,
          "loss_mask": 0.3101
         },
         {
          "iter": 38300,
          "loss_mask": 0.2532
         },
         {
          "iter": 38400,
          "loss_mask": 0.2694
         },
         {
          "iter": 38500,
          "loss_mask": 0.3003
         },
         {
          "iter": 38600,
          "loss_mask": 0.2379
         },
         {
          "iter": 38700,
          "loss_mask": 0.2992
         },
         {
          "iter": 38800,
          "loss_mask": 0.2831
         },
         {
          "iter": 38900,
          "loss_mask": 0.2708
         },
         {
          "iter": 39000,
          "loss_mask": 0.2683
         },
         {
          "iter": 39100,
          "loss_mask": 0.2943
         },
         {
          "iter": 39200,
          "loss_mask": 0.2791
         },
         {
          "iter": 39300,
          "loss_mask": 0.2677
         },
         {
          "iter": 39400,
          "loss_mask": 0.2936
         },
         {
          "iter": 39500,
          "loss_mask": 0.3297
         },
         {
          "iter": 39600,
          "loss_mask": 0.26
         },
         {
          "iter": 39700,
          "loss_mask": 0.2869
         },
         {
          "iter": 39800,
          "loss_mask": 0.2492
         },
         {
          "iter": 39900,
          "loss_mask": 0.2646
         },
         {
          "iter": 40000,
          "loss_mask": 0.2905
         },
         {
          "iter": 40100,
          "loss_mask": 0.2164
         },
         {
          "iter": 40200,
          "loss_mask": 0.3972
         },
         {
          "iter": 40300,
          "loss_mask": 0.2565
         },
         {
          "iter": 40400,
          "loss_mask": 0.3162
         },
         {
          "iter": 40500,
          "loss_mask": 0.2288
         },
         {
          "iter": 40600,
          "loss_mask": 0.2717
         },
         {
          "iter": 40700,
          "loss_mask": 0.2203
         },
         {
          "iter": 40800,
          "loss_mask": 0.2685
         },
         {
          "iter": 40900,
          "loss_mask": 0.3023
         },
         {
          "iter": 41000,
          "loss_mask": 0.2957
         },
         {
          "iter": 41100,
          "loss_mask": 0.3462
         },
         {
          "iter": 41200,
          "loss_mask": 0.3063
         },
         {
          "iter": 41300,
          "loss_mask": 0.2783
         },
         {
          "iter": 41400,
          "loss_mask": 0.2489
         },
         {
          "iter": 41500,
          "loss_mask": 0.2975
         },
         {
          "iter": 41600,
          "loss_mask": 0.3181
         },
         {
          "iter": 41700,
          "loss_mask": 0.2764
         },
         {
          "iter": 41800,
          "loss_mask": 0.2762
         },
         {
          "iter": 41900,
          "loss_mask": 0.2809
         },
         {
          "iter": 42000,
          "loss_mask": 0.2523
         },
         {
          "iter": 42100,
          "loss_mask": 0.243
         },
         {
          "iter": 42200,
          "loss_mask": 0.2526
         },
         {
          "iter": 42300,
          "loss_mask": 0.3258
         },
         {
          "iter": 42400,
          "loss_mask": 0.2574
         },
         {
          "iter": 42500,
          "loss_mask": 0.3451
         },
         {
          "iter": 42600,
          "loss_mask": 0.2896
         },
         {
          "iter": 42700,
          "loss_mask": 0.2904
         },
         {
          "iter": 42800,
          "loss_mask": 0.2891
         },
         {
          "iter": 42900,
          "loss_mask": 0.2316
         },
         {
          "iter": 43000,
          "loss_mask": 0.2794
         },
         {
          "iter": 43100,
          "loss_mask": 0.2719
         },
         {
          "iter": 43200,
          "loss_mask": 0.259
         },
         {
          "iter": 43300,
          "loss_mask": 0.2784
         },
         {
          "iter": 43400,
          "loss_mask": 0.3397
         },
         {
          "iter": 43500,
          "loss_mask": 0.2586
         },
         {
          "iter": 43600,
          "loss_mask": 0.2333
         },
         {
          "iter": 43700,
          "loss_mask": 0.2118
         },
         {
          "iter": 43800,
          "loss_mask": 0.2496
         },
         {
          "iter": 43900,
          "loss_mask": 0.2756
         },
         {
          "iter": 44000,
          "loss_mask": 0.2863
         },
         {
          "iter": 44100,
          "loss_mask": 0.2449
         },
         {
          "iter": 44200,
          "loss_mask": 0.2827
         },
         {
          "iter": 44300,
          "loss_mask": 0.2708
         },
         {
          "iter": 44400,
          "loss_mask": 0.2615
         },
         {
          "iter": 44500,
          "loss_mask": 0.2604
         },
         {
          "iter": 44600,
          "loss_mask": 0.2842
         },
         {
          "iter": 44700,
          "loss_mask": 0.3441
         },
         {
          "iter": 44800,
          "loss_mask": 0.2675
         },
         {
          "iter": 44900,
          "loss_mask": 0.2687
         },
         {
          "iter": 45000,
          "loss_mask": 0.2766
         },
         {
          "iter": 45100,
          "loss_mask": 0.2348
         },
         {
          "iter": 45200,
          "loss_mask": 0.2604
         },
         {
          "iter": 45300,
          "loss_mask": 0.2772
         },
         {
          "iter": 45400,
          "loss_mask": 0.2622
         },
         {
          "iter": 45500,
          "loss_mask": 0.2802
         },
         {
          "iter": 45600,
          "loss_mask": 0.3023
         },
         {
          "iter": 45700,
          "loss_mask": 0.3856
         },
         {
          "iter": 45800,
          "loss_mask": 0.2561
         },
         {
          "iter": 45900,
          "loss_mask": 0.3254
         },
         {
          "iter": 46000,
          "loss_mask": 0.2835
         },
         {
          "iter": 46100,
          "loss_mask": 0.2577
         },
         {
          "iter": 46200,
          "loss_mask": 0.31
         },
         {
          "iter": 46300,
          "loss_mask": 0.3202
         },
         {
          "iter": 46400,
          "loss_mask": 0.227
         },
         {
          "iter": 46500,
          "loss_mask": 0.2773
         },
         {
          "iter": 46600,
          "loss_mask": 0.2436
         },
         {
          "iter": 46700,
          "loss_mask": 0.2831
         },
         {
          "iter": 46800,
          "loss_mask": 0.2562
         },
         {
          "iter": 46900,
          "loss_mask": 0.2828
         },
         {
          "iter": 47000,
          "loss_mask": 0.3217
         },
         {
          "iter": 47100,
          "loss_mask": 0.3016
         },
         {
          "iter": 47200,
          "loss_mask": 0.3197
         },
         {
          "iter": 47300,
          "loss_mask": 0.3045
         },
         {
          "iter": 47400,
          "loss_mask": 0.3198
         },
         {
          "iter": 47500,
          "loss_mask": 0.2551
         },
         {
          "iter": 47600,
          "loss_mask": 0.2733
         },
         {
          "iter": 47700,
          "loss_mask": 0.2196
         },
         {
          "iter": 47800,
          "loss_mask": 0.2648
         },
         {
          "iter": 47900,
          "loss_mask": 0.2728
         },
         {
          "iter": 48000,
          "loss_mask": 0.2591
         },
         {
          "iter": 48100,
          "loss_mask": 0.2811
         },
         {
          "iter": 48200,
          "loss_mask": 0.2288
         },
         {
          "iter": 48300,
          "loss_mask": 0.3149
         },
         {
          "iter": 48400,
          "loss_mask": 0.3052
         },
         {
          "iter": 48500,
          "loss_mask": 0.259
         },
         {
          "iter": 48600,
          "loss_mask": 0.242
         },
         {
          "iter": 48700,
          "loss_mask": 0.3205
         },
         {
          "iter": 48800,
          "loss_mask": 0.3254
         },
         {
          "iter": 48900,
          "loss_mask": 0.2555
         },
         {
          "iter": 49000,
          "loss_mask": 0.315
         },
         {
          "iter": 49100,
          "loss_mask": 0.3257
         },
         {
          "iter": 49200,
          "loss_mask": 0.3251
         },
         {
          "iter": 49300,
          "loss_mask": 0.273
         },
         {
          "iter": 49400,
          "loss_mask": 0.2508
         },
         {
          "iter": 49500,
          "loss_mask": 0.2831
         },
         {
          "iter": 49600,
          "loss_mask": 0.263
         },
         {
          "iter": 49700,
          "loss_mask": 0.278
         },
         {
          "iter": 49800,
          "loss_mask": 0.2986
         },
         {
          "iter": 49900,
          "loss_mask": 0.309
         },
         {
          "iter": 50000,
          "loss_mask": 0.2766
         },
         {
          "iter": 50100,
          "loss_mask": 0.1945
         },
         {
          "iter": 50200,
          "loss_mask": 0.2326
         },
         {
          "iter": 50300,
          "loss_mask": 0.3012
         },
         {
          "iter": 50400,
          "loss_mask": 0.2443
         },
         {
          "iter": 50500,
          "loss_mask": 0.2625
         },
         {
          "iter": 50600,
          "loss_mask": 0.2519
         },
         {
          "iter": 50700,
          "loss_mask": 0.2589
         },
         {
          "iter": 50800,
          "loss_mask": 0.2479
         },
         {
          "iter": 50900,
          "loss_mask": 0.2857
         },
         {
          "iter": 51000,
          "loss_mask": 0.3037
         },
         {
          "iter": 51100,
          "loss_mask": 0.2023
         },
         {
          "iter": 51200,
          "loss_mask": 0.2608
         },
         {
          "iter": 51300,
          "loss_mask": 0.2441
         },
         {
          "iter": 51400,
          "loss_mask": 0.324
         },
         {
          "iter": 51500,
          "loss_mask": 0.2723
         },
         {
          "iter": 51600,
          "loss_mask": 0.247
         },
         {
          "iter": 51700,
          "loss_mask": 0.2689
         },
         {
          "iter": 51800,
          "loss_mask": 0.2872
         },
         {
          "iter": 51900,
          "loss_mask": 0.2322
         },
         {
          "iter": 52000,
          "loss_mask": 0.2956
         },
         {
          "iter": 52100,
          "loss_mask": 0.2601
         },
         {
          "iter": 52200,
          "loss_mask": 0.319
         },
         {
          "iter": 52300,
          "loss_mask": 0.2776
         },
         {
          "iter": 52400,
          "loss_mask": 0.3076
         },
         {
          "iter": 52500,
          "loss_mask": 0.2328
         },
         {
          "iter": 52600,
          "loss_mask": 0.3102
         },
         {
          "iter": 52700,
          "loss_mask": 0.2687
         },
         {
          "iter": 52800,
          "loss_mask": 0.2692
         },
         {
          "iter": 52900,
          "loss_mask": 0.2883
         },
         {
          "iter": 53000,
          "loss_mask": 0.2137
         },
         {
          "iter": 53100,
          "loss_mask": 0.2252
         },
         {
          "iter": 53200,
          "loss_mask": 0.2617
         },
         {
          "iter": 53300,
          "loss_mask": 0.2028
         },
         {
          "iter": 53400,
          "loss_mask": 0.2822
         },
         {
          "iter": 53500,
          "loss_mask": 0.2746
         },
         {
          "iter": 53600,
          "loss_mask": 0.3143
         },
         {
          "iter": 53700,
          "loss_mask": 0.2301
         },
         {
          "iter": 53800,
          "loss_mask": 0.2237
         },
         {
          "iter": 53900,
          "loss_mask": 0.3145
         },
         {
          "iter": 54000,
          "loss_mask": 0.291
         },
         {
          "iter": 54100,
          "loss_mask": 0.2582
         },
         {
          "iter": 54200,
          "loss_mask": 0.2689
         },
         {
          "iter": 54300,
          "loss_mask": 0.2854
         },
         {
          "iter": 54400,
          "loss_mask": 0.2599
         },
         {
          "iter": 54500,
          "loss_mask": 0.2499
         },
         {
          "iter": 54600,
          "loss_mask": 0.3102
         },
         {
          "iter": 54700,
          "loss_mask": 0.3456
         },
         {
          "iter": 54800,
          "loss_mask": 0.2492
         },
         {
          "iter": 54900,
          "loss_mask": 0.2413
         },
         {
          "iter": 55000,
          "loss_mask": 0.375
         },
         {
          "iter": 55100,
          "loss_mask": 0.3024
         },
         {
          "iter": 55200,
          "loss_mask": 0.2593
         },
         {
          "iter": 55300,
          "loss_mask": 0.2633
         },
         {
          "iter": 55400,
          "loss_mask": 0.2626
         },
         {
          "iter": 55500,
          "loss_mask": 0.2373
         },
         {
          "iter": 55600,
          "loss_mask": 0.2527
         },
         {
          "iter": 55700,
          "loss_mask": 0.2819
         },
         {
          "iter": 55800,
          "loss_mask": 0.2481
         },
         {
          "iter": 55900,
          "loss_mask": 0.2659
         },
         {
          "iter": 56000,
          "loss_mask": 0.2673
         },
         {
          "iter": 56100,
          "loss_mask": 0.2694
         },
         {
          "iter": 56200,
          "loss_mask": 0.2674
         },
         {
          "iter": 56300,
          "loss_mask": 0.2157
         },
         {
          "iter": 56400,
          "loss_mask": 0.2792
         },
         {
          "iter": 56500,
          "loss_mask": 0.2806
         },
         {
          "iter": 56600,
          "loss_mask": 0.2838
         },
         {
          "iter": 56700,
          "loss_mask": 0.2361
         },
         {
          "iter": 56800,
          "loss_mask": 0.2009
         },
         {
          "iter": 56900,
          "loss_mask": 0.1852
         },
         {
          "iter": 57000,
          "loss_mask": 0.2371
         },
         {
          "iter": 57100,
          "loss_mask": 0.2875
         },
         {
          "iter": 57200,
          "loss_mask": 0.2523
         },
         {
          "iter": 57300,
          "loss_mask": 0.2554
         },
         {
          "iter": 57400,
          "loss_mask": 0.3053
         },
         {
          "iter": 57500,
          "loss_mask": 0.2756
         },
         {
          "iter": 57600,
          "loss_mask": 0.312
         },
         {
          "iter": 57700,
          "loss_mask": 0.245
         },
         {
          "iter": 57800,
          "loss_mask": 0.285
         },
         {
          "iter": 57900,
          "loss_mask": 0.2731
         },
         {
          "iter": 58000,
          "loss_mask": 0.2236
         },
         {
          "iter": 58100,
          "loss_mask": 0.2951
         },
         {
          "iter": 58200,
          "loss_mask": 0.3242
         },
         {
          "iter": 58300,
          "loss_mask": 0.298
         },
         {
          "iter": 58400,
          "loss_mask": 0.2979
         },
         {
          "iter": 58500,
          "loss_mask": 0.3053
         },
         {
          "iter": 58600,
          "loss_mask": 0.3088
         },
         {
          "iter": 58700,
          "loss_mask": 0.2802
         },
         {
          "iter": 58800,
          "loss_mask": 0.1979
         },
         {
          "iter": 58900,
          "loss_mask": 0.2455
         },
         {
          "iter": 59000,
          "loss_mask": 0.3435
         },
         {
          "iter": 59100,
          "loss_mask": 0.2922
         },
         {
          "iter": 59200,
          "loss_mask": 0.3071
         },
         {
          "iter": 59300,
          "loss_mask": 0.25
         },
         {
          "iter": 59400,
          "loss_mask": 0.3324
         },
         {
          "iter": 59500,
          "loss_mask": 0.2806
         },
         {
          "iter": 59600,
          "loss_mask": 0.2962
         },
         {
          "iter": 59700,
          "loss_mask": 0.3065
         },
         {
          "iter": 59800,
          "loss_mask": 0.2053
         },
         {
          "iter": 59900,
          "loss_mask": 0.3253
         },
         {
          "iter": 60000,
          "loss_mask": 0.2434
         },
         {
          "iter": 60100,
          "loss_mask": 0.3115
         },
         {
          "iter": 60200,
          "loss_mask": 0.3061
         },
         {
          "iter": 60300,
          "loss_mask": 0.2204
         },
         {
          "iter": 60400,
          "loss_mask": 0.3083
         },
         {
          "iter": 60500,
          "loss_mask": 0.2716
         },
         {
          "iter": 60600,
          "loss_mask": 0.2448
         },
         {
          "iter": 60700,
          "loss_mask": 0.2114
         },
         {
          "iter": 60800,
          "loss_mask": 0.2911
         },
         {
          "iter": 60900,
          "loss_mask": 0.2871
         },
         {
          "iter": 61000,
          "loss_mask": 0.2384
         },
         {
          "iter": 61100,
          "loss_mask": 0.2916
         },
         {
          "iter": 61200,
          "loss_mask": 0.2573
         },
         {
          "iter": 61300,
          "loss_mask": 0.2553
         },
         {
          "iter": 61400,
          "loss_mask": 0.2461
         },
         {
          "iter": 61500,
          "loss_mask": 0.3055
         },
         {
          "iter": 61600,
          "loss_mask": 0.2327
         },
         {
          "iter": 61700,
          "loss_mask": 0.2501
         },
         {
          "iter": 61800,
          "loss_mask": 0.2492
         },
         {
          "iter": 61900,
          "loss_mask": 0.3134
         },
         {
          "iter": 62000,
          "loss_mask": 0.2611
         },
         {
          "iter": 62100,
          "loss_mask": 0.2162
         },
         {
          "iter": 62200,
          "loss_mask": 0.263
         },
         {
          "iter": 62300,
          "loss_mask": 0.3567
         },
         {
          "iter": 62400,
          "loss_mask": 0.2268
         },
         {
          "iter": 62500,
          "loss_mask": 0.2829
         },
         {
          "iter": 62600,
          "loss_mask": 0.2659
         },
         {
          "iter": 62700,
          "loss_mask": 0.2818
         },
         {
          "iter": 62800,
          "loss_mask": 0.3072
         },
         {
          "iter": 62900,
          "loss_mask": 0.3041
         },
         {
          "iter": 63000,
          "loss_mask": 0.3016
         },
         {
          "iter": 63100,
          "loss_mask": 0.3085
         },
         {
          "iter": 63200,
          "loss_mask": 0.2319
         },
         {
          "iter": 63300,
          "loss_mask": 0.2666
         },
         {
          "iter": 63400,
          "loss_mask": 0.2805
         },
         {
          "iter": 63500,
          "loss_mask": 0.2736
         },
         {
          "iter": 63600,
          "loss_mask": 0.3193
         },
         {
          "iter": 63700,
          "loss_mask": 0.2723
         },
         {
          "iter": 63800,
          "loss_mask": 0.2036
         },
         {
          "iter": 63900,
          "loss_mask": 0.311
         },
         {
          "iter": 64000,
          "loss_mask": 0.2758
         },
         {
          "iter": 64100,
          "loss_mask": 0.2885
         },
         {
          "iter": 64200,
          "loss_mask": 0.2623
         },
         {
          "iter": 64300,
          "loss_mask": 0.2379
         },
         {
          "iter": 64400,
          "loss_mask": 0.3013
         },
         {
          "iter": 64500,
          "loss_mask": 0.3039
         },
         {
          "iter": 64600,
          "loss_mask": 0.2322
         },
         {
          "iter": 64700,
          "loss_mask": 0.4853
         },
         {
          "iter": 64800,
          "loss_mask": 0.2826
         },
         {
          "iter": 64900,
          "loss_mask": 0.2777
         },
         {
          "iter": 65000,
          "loss_mask": 0.2651
         },
         {
          "iter": 65100,
          "loss_mask": 0.2257
         },
         {
          "iter": 65200,
          "loss_mask": 0.2407
         },
         {
          "iter": 65300,
          "loss_mask": 0.2929
         },
         {
          "iter": 65400,
          "loss_mask": 0.2552
         },
         {
          "iter": 65500,
          "loss_mask": 0.3289
         },
         {
          "iter": 65600,
          "loss_mask": 0.2208
         },
         {
          "iter": 65700,
          "loss_mask": 0.2886
         },
         {
          "iter": 65800,
          "loss_mask": 0.337
         },
         {
          "iter": 65900,
          "loss_mask": 0.2221
         },
         {
          "iter": 66000,
          "loss_mask": 0.2611
         },
         {
          "iter": 66100,
          "loss_mask": 0.2984
         },
         {
          "iter": 66200,
          "loss_mask": 0.1869
         },
         {
          "iter": 66300,
          "loss_mask": 0.2177
         },
         {
          "iter": 66400,
          "loss_mask": 0.2847
         },
         {
          "iter": 66500,
          "loss_mask": 0.228
         },
         {
          "iter": 66600,
          "loss_mask": 0.3207
         },
         {
          "iter": 66700,
          "loss_mask": 0.2821
         },
         {
          "iter": 66800,
          "loss_mask": 0.2491
         },
         {
          "iter": 66900,
          "loss_mask": 0.2858
         },
         {
          "iter": 67000,
          "loss_mask": 0.2174
         },
         {
          "iter": 67100,
          "loss_mask": 0.2286
         },
         {
          "iter": 67200,
          "loss_mask": 0.2742
         },
         {
          "iter": 67300,
          "loss_mask": 0.2327
         },
         {
          "iter": 67400,
          "loss_mask": 0.2714
         },
         {
          "iter": 67500,
          "loss_mask": 0.3186
         },
         {
          "iter": 67600,
          "loss_mask": 0.2892
         },
         {
          "iter": 67700,
          "loss_mask": 0.2746
         },
         {
          "iter": 67800,
          "loss_mask": 0.2177
         },
         {
          "iter": 67900,
          "loss_mask": 0.2815
         },
         {
          "iter": 68000,
          "loss_mask": 0.2637
         },
         {
          "iter": 68100,
          "loss_mask": 0.2092
         },
         {
          "iter": 68200,
          "loss_mask": 0.2633
         },
         {
          "iter": 68300,
          "loss_mask": 0.2524
         },
         {
          "iter": 68400,
          "loss_mask": 0.192
         },
         {
          "iter": 68500,
          "loss_mask": 0.2669
         },
         {
          "iter": 68600,
          "loss_mask": 0.2414
         },
         {
          "iter": 68700,
          "loss_mask": 0.2841
         },
         {
          "iter": 68800,
          "loss_mask": 0.2676
         },
         {
          "iter": 68900,
          "loss_mask": 0.3183
         },
         {
          "iter": 69000,
          "loss_mask": 0.2253
         },
         {
          "iter": 69100,
          "loss_mask": 0.3209
         },
         {
          "iter": 69200,
          "loss_mask": 0.2534
         },
         {
          "iter": 69300,
          "loss_mask": 0.2366
         },
         {
          "iter": 69400,
          "loss_mask": 0.3339
         },
         {
          "iter": 69500,
          "loss_mask": 0.2683
         },
         {
          "iter": 69600,
          "loss_mask": 0.2691
         },
         {
          "iter": 69700,
          "loss_mask": 0.2722
         },
         {
          "iter": 69800,
          "loss_mask": 0.3879
         },
         {
          "iter": 69900,
          "loss_mask": 0.2284
         },
         {
          "iter": 70000,
          "loss_mask": 0.1973
         },
         {
          "iter": 70100,
          "loss_mask": 0.2963
         },
         {
          "iter": 70200,
          "loss_mask": 0.1683
         },
         {
          "iter": 70300,
          "loss_mask": 0.2973
         },
         {
          "iter": 70400,
          "loss_mask": 0.2068
         },
         {
          "iter": 70500,
          "loss_mask": 0.2285
         },
         {
          "iter": 70600,
          "loss_mask": 0.2634
         },
         {
          "iter": 70700,
          "loss_mask": 0.2653
         },
         {
          "iter": 70800,
          "loss_mask": 0.2612
         },
         {
          "iter": 70900,
          "loss_mask": 0.3178
         },
         {
          "iter": 71000,
          "loss_mask": 0.2942
         },
         {
          "iter": 71100,
          "loss_mask": 0.2358
         },
         {
          "iter": 71200,
          "loss_mask": 0.3146
         },
         {
          "iter": 71300,
          "loss_mask": 0.3368
         },
         {
          "iter": 71400,
          "loss_mask": 0.2929
         },
         {
          "iter": 71500,
          "loss_mask": 0.3287
         },
         {
          "iter": 71600,
          "loss_mask": 0.2922
         },
         {
          "iter": 71700,
          "loss_mask": 0.2582
         },
         {
          "iter": 71800,
          "loss_mask": 0.2426
         },
         {
          "iter": 71900,
          "loss_mask": 0.2624
         },
         {
          "iter": 72000,
          "loss_mask": 0.2362
         },
         {
          "iter": 72100,
          "loss_mask": 0.2697
         },
         {
          "iter": 72200,
          "loss_mask": 0.2744
         },
         {
          "iter": 72300,
          "loss_mask": 0.2597
         },
         {
          "iter": 72400,
          "loss_mask": 0.3122
         },
         {
          "iter": 72500,
          "loss_mask": 0.2148
         },
         {
          "iter": 72600,
          "loss_mask": 0.297
         },
         {
          "iter": 72700,
          "loss_mask": 0.2219
         },
         {
          "iter": 72800,
          "loss_mask": 0.2407
         },
         {
          "iter": 72900,
          "loss_mask": 0.2534
         },
         {
          "iter": 73000,
          "loss_mask": 0.251
         },
         {
          "iter": 73100,
          "loss_mask": 0.2863
         },
         {
          "iter": 73200,
          "loss_mask": 0.2531
         },
         {
          "iter": 73300,
          "loss_mask": 0.2321
         },
         {
          "iter": 73400,
          "loss_mask": 0.2788
         },
         {
          "iter": 73500,
          "loss_mask": 0.3348
         },
         {
          "iter": 73600,
          "loss_mask": 0.2807
         },
         {
          "iter": 73700,
          "loss_mask": 0.2902
         },
         {
          "iter": 73800,
          "loss_mask": 0.2673
         },
         {
          "iter": 73900,
          "loss_mask": 0.259
         },
         {
          "iter": 74000,
          "loss_mask": 0.2315
         },
         {
          "iter": 74100,
          "loss_mask": 0.2765
         },
         {
          "iter": 74200,
          "loss_mask": 0.2491
         },
         {
          "iter": 74300,
          "loss_mask": 0.2854
         },
         {
          "iter": 74400,
          "loss_mask": 0.3036
         },
         {
          "iter": 74500,
          "loss_mask": 0.2631
         },
         {
          "iter": 74600,
          "loss_mask": 0.2644
         },
         {
          "iter": 74700,
          "loss_mask": 0.2509
         },
         {
          "iter": 74800,
          "loss_mask": 0.2539
         },
         {
          "iter": 74900,
          "loss_mask": 0.2448
         },
         {
          "iter": 75000,
          "loss_mask": 0.2597
         },
         {
          "iter": 75100,
          "loss_mask": 0.2871
         },
         {
          "iter": 75200,
          "loss_mask": 0.272
         },
         {
          "iter": 75300,
          "loss_mask": 0.2669
         },
         {
          "iter": 75400,
          "loss_mask": 0.2793
         },
         {
          "iter": 75500,
          "loss_mask": 0.2292
         },
         {
          "iter": 75600,
          "loss_mask": 0.2571
         },
         {
          "iter": 75700,
          "loss_mask": 0.272
         },
         {
          "iter": 75800,
          "loss_mask": 0.2171
         },
         {
          "iter": 75900,
          "loss_mask": 0.2682
         },
         {
          "iter": 76000,
          "loss_mask": 0.3306
         },
         {
          "iter": 76100,
          "loss_mask": 0.264
         },
         {
          "iter": 76200,
          "loss_mask": 0.2661
         },
         {
          "iter": 76300,
          "loss_mask": 0.3128
         },
         {
          "iter": 76400,
          "loss_mask": 0.237
         },
         {
          "iter": 76500,
          "loss_mask": 0.3059
         },
         {
          "iter": 76600,
          "loss_mask": 0.3647
         },
         {
          "iter": 76700,
          "loss_mask": 0.293
         },
         {
          "iter": 76800,
          "loss_mask": 0.3118
         },
         {
          "iter": 76900,
          "loss_mask": 0.2176
         },
         {
          "iter": 77000,
          "loss_mask": 0.3258
         },
         {
          "iter": 77100,
          "loss_mask": 0.2822
         },
         {
          "iter": 77200,
          "loss_mask": 0.2588
         },
         {
          "iter": 77300,
          "loss_mask": 0.2615
         },
         {
          "iter": 77400,
          "loss_mask": 0.2521
         },
         {
          "iter": 77500,
          "loss_mask": 0.3494
         },
         {
          "iter": 77600,
          "loss_mask": 0.2987
         }
        ]
       },
       "encoding": {
        "x": {
         "field": "iter",
         "type": "quantitative"
        },
        "y": {
         "field": "loss_mask",
         "type": "quantitative"
        }
       },
       "mark": "line"
      },
      "image/png": "[encoded data removed]",
      "text/plain": [
       "<VegaLite 3 object>\n",
       "\n",
       "If you see this message, it means the renderer has not been properly enabled\n",
       "for the frontend that you are using. For more information, see\n",
       "https://altair-viz.github.io/user_guide/troubleshooting.html\n"
      ]
     },
     "metadata": {},
     "output_type": "display_data"
    },
    {
     "data": {
      "application/vnd.vegalite.v3+json": {
       "$schema": "https://vega.github.io/schema/vega-lite/v3.4.0.json",
       "config": {
        "mark": {
         "tooltip": null
        },
        "view": {
         "height": 300,
         "width": 400
        }
       },
       "data": {
        "name": "data-5344617398857e4e5d11130ec4c96f26"
       },
       "datasets": {
        "data-5344617398857e4e5d11130ec4c96f26": [
         {
          "iter": 0,
          "loss_rpn_box_reg": 0.026561688631772995
         },
         {
          "iter": 1,
          "loss_rpn_box_reg": 0.02746763825416565
         },
         {
          "iter": 2,
          "loss_rpn_box_reg": 0.09721371531486511
         },
         {
          "iter": 3,
          "loss_rpn_box_reg": 0.01318756677210331
         },
         {
          "iter": 4,
          "loss_rpn_box_reg": 0.11474370956420898
         },
         {
          "iter": 5,
          "loss_rpn_box_reg": 0.09378284215927124
         },
         {
          "iter": 6,
          "loss_rpn_box_reg": 0.31835687160491943
         },
         {
          "iter": 7,
          "loss_rpn_box_reg": 0.03937244787812233
         },
         {
          "iter": 8,
          "loss_rpn_box_reg": 0.000801659538410604
         },
         {
          "iter": 9,
          "loss_rpn_box_reg": 0.6040138006210327
         }
        ]
       },
       "encoding": {
        "x": {
         "field": "iter",
         "type": "quantitative"
        },
        "y": {
         "field": "loss_rpn_box_reg",
         "type": "quantitative"
        }
       },
       "mark": "line"
      },
      "image/png": "[encoded data removed]",
      "text/plain": [
       "<VegaLite 3 object>\n",
       "\n",
       "If you see this message, it means the renderer has not been properly enabled\n",
       "for the frontend that you are using. For more information, see\n",
       "https://altair-viz.github.io/user_guide/troubleshooting.html\n"
      ]
     },
     "metadata": {},
     "output_type": "display_data"
    },
    {
     "data": {
      "application/vnd.vegalite.v3+json": {
       "$schema": "https://vega.github.io/schema/vega-lite/v3.4.0.json",
       "config": {
        "mark": {
         "tooltip": null
        },
        "view": {
         "height": 300,
         "width": 400
        }
       },
       "data": {
        "name": "data-cec06adb2d96a88539d680654d1df1f4"
       },
       "datasets": {
        "data-cec06adb2d96a88539d680654d1df1f4": [
         {
          "iter": 0,
          "loss_objectness": 0.6931471824645996
         },
         {
          "iter": 1,
          "loss_objectness": 0.6925598382949829
         },
         {
          "iter": 2,
          "loss_objectness": 0.6919030547142029
         },
         {
          "iter": 3,
          "loss_objectness": 0.6913707256317139
         },
         {
          "iter": 4,
          "loss_objectness": 0.6910386085510254
         },
         {
          "iter": 5,
          "loss_objectness": 0.6905745267868042
         },
         {
          "iter": 6,
          "loss_objectness": 0.6911043524742126
         },
         {
          "iter": 7,
          "loss_objectness": 0.6895297169685364
         },
         {
          "iter": 8,
          "loss_objectness": 0.6882129907608032
         },
         {
          "iter": 9,
          "loss_objectness": 0.6902985572814941
         }
        ]
       },
       "encoding": {
        "x": {
         "field": "iter",
         "type": "quantitative"
        },
        "y": {
         "field": "loss_objectness",
         "type": "quantitative"
        }
       },
       "mark": "line"
      },
      "image/png": "[encoded data removed]",
      "text/plain": [
       "<VegaLite 3 object>\n",
       "\n",
       "If you see this message, it means the renderer has not been properly enabled\n",
       "for the frontend that you are using. For more information, see\n",
       "https://altair-viz.github.io/user_guide/troubleshooting.html\n"
      ]
     },
     "metadata": {},
     "output_type": "display_data"
    },
    {
     "data": {
      "application/vnd.vegalite.v3+json": {
       "$schema": "https://vega.github.io/schema/vega-lite/v3.4.0.json",
       "config": {
        "mark": {
         "tooltip": null
        },
        "view": {
         "height": 300,
         "width": 400
        }
       },
       "data": {
        "name": "data-108614669b5f3782245678ecc9b1ad56"
       },
       "datasets": {
        "data-108614669b5f3782245678ecc9b1ad56": [
         {
          "iter": 0,
          "loss_box_reg": 1.2137710427850834e-06
         },
         {
          "iter": 1,
          "loss_box_reg": 3.7637924833688885e-05
         },
         {
          "iter": 2,
          "loss_box_reg": 6.0859611039632e-06
         },
         {
          "iter": 3,
          "loss_box_reg": 0.00012943270849063993
         },
         {
          "iter": 4,
          "loss_box_reg": 0.00019164953846484423
         },
         {
          "iter": 5,
          "loss_box_reg": 0.00011314207222312689
         },
         {
          "iter": 6,
          "loss_box_reg": 0.00016032721032388508
         },
         {
          "iter": 7,
          "loss_box_reg": 4.469522900762968e-05
         },
         {
          "iter": 8,
          "loss_box_reg": 5.491020147019299e-06
         },
         {
          "iter": 9,
          "loss_box_reg": 1.69970553542953e-05
         }
        ]
       },
       "encoding": {
        "x": {
         "field": "iter",
         "type": "quantitative"
        },
        "y": {
         "field": "loss_box_reg",
         "type": "quantitative"
        }
       },
       "mark": "line"
      },
      "image/png": "[encoded data removed]",
      "text/plain": [
       "<VegaLite 3 object>\n",
       "\n",
       "If you see this message, it means the renderer has not been properly enabled\n",
       "for the frontend that you are using. For more information, see\n",
       "https://altair-viz.github.io/user_guide/troubleshooting.html\n"
      ]
     },
     "metadata": {},
     "output_type": "display_data"
    },
    {
     "data": {
      "application/vnd.vegalite.v3+json": {
       "$schema": "https://vega.github.io/schema/vega-lite/v3.4.0.json",
       "config": {
        "mark": {
         "tooltip": null
        },
        "view": {
         "height": 300,
         "width": 400
        }
       },
       "data": {
        "name": "data-e024cf390782fd6c1b4392757306fddf"
       },
       "datasets": {
        "data-e024cf390782fd6c1b4392757306fddf": [
         {
          "iter": 0,
          "loss_classifier": 4.377154350280762
         },
         {
          "iter": 1,
          "loss_classifier": 1.5309666395187378
         },
         {
          "iter": 2,
          "loss_classifier": 0.05120959132909775
         },
         {
          "iter": 3,
          "loss_classifier": 0.14406248927116394
         },
         {
          "iter": 4,
          "loss_classifier": 0.32788413763046265
         },
         {
          "iter": 5,
          "loss_classifier": 0.40468278527259827
         },
         {
          "iter": 6,
          "loss_classifier": 0.3222692906856537
         },
         {
          "iter": 7,
          "loss_classifier": 0.15467019379138947
         },
         {
          "iter": 8,
          "loss_classifier": 0.04764463007450104
         },
         {
          "iter": 9,
          "loss_classifier": 0.04947563633322716
         }
        ]
       },
       "encoding": {
        "x": {
         "field": "iter",
         "type": "quantitative"
        },
        "y": {
         "field": "loss_classifier",
         "type": "quantitative"
        }
       },
       "mark": "line"
      },
      "image/png": "[encoded data removed]",
      "text/plain": [
       "<VegaLite 3 object>\n",
       "\n",
       "If you see this message, it means the renderer has not been properly enabled\n",
       "for the frontend that you are using. For more information, see\n",
       "https://altair-viz.github.io/user_guide/troubleshooting.html\n"
      ]
     },
     "metadata": {},
     "output_type": "display_data"
    },
    {
     "data": {
      "application/vnd.vegalite.v3+json": {
       "$schema": "https://vega.github.io/schema/vega-lite/v3.4.0.json",
       "config": {
        "mark": {
         "tooltip": null
        },
        "view": {
         "height": 300,
         "width": 400
        }
       },
       "data": {
        "name": "data-c63b2745b0af0b577540fc9aa2dc379b"
       },
       "datasets": {
        "data-c63b2745b0af0b577540fc9aa2dc379b": [
         {
          "iter": 0,
          "loss_mask": 0.6984001994132996
         },
         {
          "iter": 1,
          "loss_mask": 1.240450382232666
         },
         {
          "iter": 2,
          "loss_mask": 0.6992068290710449
         },
         {
          "iter": 3,
          "loss_mask": 1.1767094135284424
         },
         {
          "iter": 4,
          "loss_mask": 1.4412260055541992
         },
         {
          "iter": 5,
          "loss_mask": 0.8266131281852722
         },
         {
          "iter": 6,
          "loss_mask": 1.012338638305664
         },
         {
          "iter": 7,
          "loss_mask": 0.7525325417518616
         },
         {
          "iter": 8,
          "loss_mask": 0.8266786932945251
         },
         {
          "iter": 9,
          "loss_mask": 0.7270309329032898
         }
        ]
       },
       "encoding": {
        "x": {
         "field": "iter",
         "type": "quantitative"
        },
        "y": {
         "field": "loss_mask",
         "type": "quantitative"
        }
       },
       "mark": "line"
      },
      "image/png": "[encoded data removed]",
      "text/plain": [
       "<VegaLite 3 object>\n",
       "\n",
       "If you see this message, it means the renderer has not been properly enabled\n",
       "for the frontend that you are using. For more information, see\n",
       "https://altair-viz.github.io/user_guide/troubleshooting.html\n"
      ]
     },
     "metadata": {},
     "output_type": "display_data"
    }
   ],
   "source": [
    "import altair as alt\n",
    "import pandas as pd\n",
    "import numpy as np\n",
    "\n",
    "columns=[\n",
    "    \"loss_rpn_box_reg\",\n",
    "    \"loss_objectness\",\n",
    "    \"loss_box_reg\",\n",
    "    \"loss_classifier\",\n",
    "    \"loss_mask\",\n",
    "]\n",
    "def plot(losses_hisogram, take_every):\n",
    "    for column_index, column_name in enumerate(columns):\n",
    "        loss_data_frame = pd.DataFrame(\n",
    "            np.array(losses_hisogram)[:, [column_index, -1]][np.mod(np.arange(losses_hisogram.shape[0]), take_every) == 0],\n",
    "            columns=[\n",
    "                column_name,\n",
    "                \"iter\",\n",
    "            ],\n",
    "        )\n",
    "\n",
    "        base = (\n",
    "            alt.Chart(loss_data_frame)\n",
    "            .mark_line()\n",
    "            .encode(x=\"petalLength\", y=\"petalWidth\")\n",
    "        )\n",
    "        chart = (\n",
    "            base.mark_line().encode(x=\"iter\", y=column_name)\n",
    "        )\n",
    "\n",
    "        chart.display()\n",
    "plot(np.load(\"/tmp/shared_with_zwx/pytorch_maskrcnn_losses.npy\"), 100)\n",
    "plot(np.load(\"/home/caishenghang/oneflow/oneflow/python/model/maskrcnn/loss-9.npy\"), 1)"
   ]
  },
  {
   "cell_type": "code",
   "execution_count": null,
   "metadata": {},
   "outputs": [],
   "source": []
  }
 ],
 "metadata": {
  "kernelspec": {
   "display_name": "Python 3",
   "language": "python",
   "name": "python3"
  },
  "language_info": {
   "codemirror_mode": {
    "name": "ipython",
    "version": 3
   },
   "file_extension": ".py",
   "mimetype": "text/x-python",
   "name": "python",
   "nbconvert_exporter": "python",
   "pygments_lexer": "ipython3",
   "version": "3.6.6"
  }
 },
 "nbformat": 4,
 "nbformat_minor": 4
}
